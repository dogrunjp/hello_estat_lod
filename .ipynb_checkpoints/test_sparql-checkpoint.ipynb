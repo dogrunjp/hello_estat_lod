{
 "cells": [
  {
   "cell_type": "code",
   "execution_count": null,
   "metadata": {
    "collapsed": true
   },
   "outputs": [],
   "source": []
  },
  {
   "cell_type": "markdown",
   "metadata": {},
   "source": [
    "# 統計LODを色々試すnotebook\n",
    "## プロパティパスを使ったSPQRQL、使わないSPARQL\n",
    "\n",
    "SPARQL初心者の自分は、プロパティパスを使った場合エリアコードをキーに興味のある様々な値を複数のプロパティを使ってどのように取得すべきかわからないので、冗長ではあるけどエリアコードの変数を明示してプロパティパスを使わずサンプルを書いています。"
   ]
  },
  {
   "cell_type": "code",
   "execution_count": 1,
   "metadata": {
    "collapsed": false
   },
   "outputs": [
    {
     "data": {
      "text/html": [
       "<div class=\"krn-spql\"><div class=\"magic\">Endpoint set to: http://data.e-stat.go.jp/lod/sparql/query</div></div>"
      ],
      "text/plain": [
       "Endpoint set to: http://data.e-stat.go.jp/lod/sparql/query\n"
      ]
     },
     "metadata": {},
     "output_type": "display_data"
    },
    {
     "data": {
      "text/plain": [
       "{'head': {'vars': ['o']},\n",
       " 'results': {'bindings': [{'o': {'datatype': 'http://www.w3.org/2001/XMLSchema#decimal',\n",
       "                                 'type': 'typed-literal',\n",
       "                                 'value': '286398'}}]}}"
      ]
     },
     "metadata": {},
     "output_type": "display_data"
    }
   ],
   "source": [
    "%endpoint http://data.e-stat.go.jp/lod/sparql/query\n",
    "# 新宿区の日本人の人口を求める（プロパティパス）\n",
    "PREFIX rdfs:<http://www.w3.org/2000/01/rdf-schema#> \n",
    "PREFIX cd-dimension:<http://data.e-stat.go.jp/lod/ontology/crossDomain/dimension/> \n",
    "PREFIX cd-code:<http://data.e-stat.go.jp/lod/ontology/crossDomain/code/> \n",
    "PREFIX cd-attribute:<http://data.e-stat.go.jp/lod/ontology/crossDomain/attribute/> \n",
    "PREFIX cd-dimension-2016:<http://data.e-stat.go.jp/lod/ontology/crossDomain/dimension/2016/> \n",
    "PREFIX cd-code-2016:<http://data.e-stat.go.jp/lod/ontology/crossDomain/code/2016/> \n",
    "PREFIX pc-measure-2010:<http://data.e-stat.go.jp/lod/ontology/populationCensus/measure/2010/> \n",
    "PREFIX pc-dimension-2010:<http://data.e-stat.go.jp/lod/ontology/populationCensus/dimension/2010/> \n",
    "PREFIX pc-code-2010:<http://data.e-stat.go.jp/lod/ontology/populationCensus/code/2010/> \n",
    "PREFIX sac:<http://data.e-stat.go.jp/lod/sac/> \n",
    "PREFIX ic:<http://imi.ipa.go.jp/ns/core/rdf#> \n",
    "select  ?o \n",
    "where {\n",
    "      ?s pc-measure-2010:population ?o ;\n",
    "         cd-dimension:standardAreaCode / ic:市区町村 \"新宿区\"@ja ;\n",
    "         cd-dimension-2016:sex cd-code-2016:sex-total ; \n",
    "         cd-dimension-2016:nationality cd-code-2016:nationality-japanese ; \n",
    "         pc-dimension-2010:area pc-code-2010:area-all ; \n",
    "         cd-dimension-2016:age cd-code-2016:age-total . \n",
    "}\n"
   ]
  },
  {
   "cell_type": "code",
   "execution_count": 5,
   "metadata": {
    "collapsed": false
   },
   "outputs": [
    {
     "data": {
      "text/html": [
       "<div class=\"krn-spql\"><div class=\"magic\">Endpoint set to: http://data.e-stat.go.jp/lod/sparql/query</div></div>"
      ],
      "text/plain": [
       "Endpoint set to: http://data.e-stat.go.jp/lod/sparql/query\n"
      ]
     },
     "metadata": {},
     "output_type": "display_data"
    },
    {
     "data": {
      "text/plain": [
       "{'head': {'vars': ['o']},\n",
       " 'results': {'bindings': [{'o': {'datatype': 'http://www.w3.org/2001/XMLSchema#decimal',\n",
       "                                 'type': 'typed-literal',\n",
       "                                 'value': '286398'}}]}}"
      ]
     },
     "metadata": {},
     "output_type": "display_data"
    }
   ],
   "source": [
    "%endpoint http://data.e-stat.go.jp/lod/sparql/query\n",
    "# プロパティパスを使わないで書いてみる\n",
    "PREFIX rdfs:<http://www.w3.org/2000/01/rdf-schema#> \n",
    "PREFIX cd-dimension:<http://data.e-stat.go.jp/lod/ontology/crossDomain/dimension/> \n",
    "PREFIX cd-code:<http://data.e-stat.go.jp/lod/ontology/crossDomain/code/> \n",
    "PREFIX cd-attribute:<http://data.e-stat.go.jp/lod/ontology/crossDomain/attribute/> \n",
    "PREFIX cd-dimension-2016:<http://data.e-stat.go.jp/lod/ontology/crossDomain/dimension/2016/> \n",
    "PREFIX cd-code-2016:<http://data.e-stat.go.jp/lod/ontology/crossDomain/code/2016/> \n",
    "PREFIX pc-measure-2010:<http://data.e-stat.go.jp/lod/ontology/populationCensus/measure/2010/> \n",
    "PREFIX pc-dimension-2010:<http://data.e-stat.go.jp/lod/ontology/populationCensus/dimension/2010/> \n",
    "PREFIX pc-code-2010:<http://data.e-stat.go.jp/lod/ontology/populationCensus/code/2010/> \n",
    "PREFIX sac:<http://data.e-stat.go.jp/lod/sac/> \n",
    "PREFIX ic:<http://imi.ipa.go.jp/ns/core/rdf#> \n",
    "select  ?o \n",
    "where {\n",
    "      ?s pc-measure-2010:population ?o ;\n",
    "         cd-dimension:standardAreaCode ?areacode.\n",
    "      ?areacode  ic:市区町村  \"新宿区\"@ja.\n",
    "      ?s cd-dimension-2016:nationality cd-code-2016:nationality-japanese ; \n",
    "         cd-dimension-2016:sex cd-code-2016:sex-total ; \n",
    "         pc-dimension-2010:area pc-code-2010:area-all ; \n",
    "         cd-dimension-2016:age cd-code-2016:age-total . \n",
    "}\n"
   ]
  },
  {
   "cell_type": "markdown",
   "metadata": {},
   "source": [
    "# 統計LODサポートを使って興味のあるプロパティを検索し、統計LODのデータを取得する\n",
    "\n",
    "## 保育園数や保育園入所待機児童数を取得してみます。\n",
    "- [統計LODサポート](http://idease.info/lodstat/)に「保育」と入力して検索。\n",
    "- 「保育所数」「保育所在所児数」「保育所入所待機児童数」などのプロパティが表示されます。この中からまず、保育所入所待機児童数を取得することにします。\n",
    "- 統計LODサポートで検索された「保育所入所待機児童数」をクリックします。\n",
    "- 保育所数のプロパティ（predicate）「http://data.e-stat.go.jp/lod/ontology/systemOfSocialAndDemographicStatistics/measure/2016/J250502」 が長いのでPREFIXを\"ssds-measure-2016\"のように設定します。\n",
    "- 待機児童数（この場合RDFの目的語になる）を指す変数を「?taikijido」とします\n",
    "- セルID　 保育所数の述語　　待機児童数; のRDFを記述\n",
    "- セルID（省略形式）　エリアコード（PREFIXを利用）を指す述語 エリアコード（未知の変数）. を記述\n",
    "- [共通語彙基盤](http://imi.go.jp/ns/core/Core232.html)のコア語彙「市区町村」を使って、エリアコード  市区町村 新宿区. を記述し、新宿区のエリアコードを取得します。\n",
    "- SPARQLを実行すると新宿区の待機児童数が変数taikijidoとして取得されます。\n"
   ]
  },
  {
   "cell_type": "code",
   "execution_count": 6,
   "metadata": {
    "collapsed": false
   },
   "outputs": [
    {
     "data": {
      "text/html": [
       "<div class=\"krn-spql\"><div class=\"magic\">Endpoint set to: http://data.e-stat.go.jp/lod/sparql/query</div></div>"
      ],
      "text/plain": [
       "Endpoint set to: http://data.e-stat.go.jp/lod/sparql/query\n"
      ]
     },
     "metadata": {},
     "output_type": "display_data"
    },
    {
     "data": {
      "text/plain": [
       "{'head': {'vars': ['taikijido']},\n",
       " 'results': {'bindings': [{'taikijido': {'datatype': 'http://www.w3.org/2001/XMLSchema#decimal',\n",
       "                                         'type': 'typed-literal',\n",
       "                                         'value': '176'}}]}}"
      ]
     },
     "metadata": {},
     "output_type": "display_data"
    }
   ],
   "source": [
    "%endpoint http://data.e-stat.go.jp/lod/sparql/query\n",
    "#新宿区の待機児童数\n",
    "PREFIX ssds-measure-2016:<http://data.e-stat.go.jp/lod/ontology/systemOfSocialAndDemographicStatistics/measure/2016/>\n",
    "PREFIX cd-dimension:<http://data.e-stat.go.jp/lod/ontology/crossDomain/dimension/> \n",
    "PREFIX ic:<http://imi.ipa.go.jp/ns/core/rdf#> \n",
    "select ?taikijido\n",
    "where{\n",
    "    ?s ssds-measure-2016:J250502 ?taikijido;\n",
    "        cd-dimension:standardAreaCode ?areacode.\n",
    "     ?areacode ic:市区町村  \"新宿区\"@ja.\n",
    "}\n"
   ]
  },
  {
   "cell_type": "markdown",
   "metadata": {},
   "source": [
    "## UNIONを使って「新宿区」と「文京区」のOR条件で取得する"
   ]
  },
  {
   "cell_type": "code",
   "execution_count": 9,
   "metadata": {
    "collapsed": false
   },
   "outputs": [
    {
     "data": {
      "text/html": [
       "<div class=\"krn-spql\"><div class=\"magic\">Endpoint set to: http://data.e-stat.go.jp/lod/sparql/query</div><div class=\"magic\">Display: table</div></div>"
      ],
      "text/plain": [
       "Endpoint set to: http://data.e-stat.go.jp/lod/sparql/query\n",
       "Display: table\n"
      ]
     },
     "metadata": {},
     "output_type": "display_data"
    },
    {
     "data": {
      "text/html": [
       "<div class=\"krn-spql\"><table><tr class=hdr><th>o</th></tr><tr class=odd><td class=val>36</td></tr><tr class=even><td class=val>28</td></tr></table><div class=\"tinfo\">Total: 2, Shown: 2</div></div>"
      ]
     },
     "metadata": {},
     "output_type": "display_data"
    }
   ],
   "source": [
    "%endpoint http://data.e-stat.go.jp/lod/sparql/query\n",
    "%display table\n",
    "PREFIX ssds-measure-2016:<http://data.e-stat.go.jp/lod/ontology/systemOfSocialAndDemographicStatistics/measure/2016/>\n",
    "PREFIX cd-dimension:<http://data.e-stat.go.jp/lod/ontology/crossDomain/dimension/> \n",
    "PREFIX ic:<http://imi.ipa.go.jp/ns/core/rdf#> \n",
    "select ?o\n",
    "where{\n",
    "        {\n",
    "        ?s ssds-measure-2016:J2503 ?o;\n",
    "        cd-dimension:standardAreaCode / ic:市区町村 \"新宿区\"@ja. \n",
    "            } union {\n",
    "        ?s ssds-measure-2016:J2503 ?o;\n",
    "        cd-dimension:standardAreaCode / ic:市区町村 \"文京区\"@ja. \n",
    "        }\n",
    "}"
   ]
  },
  {
   "cell_type": "markdown",
   "metadata": {},
   "source": [
    "## 都道府県名のプロパティで東京都のエリアコードを取得し、東京都の待機児童数を取得"
   ]
  },
  {
   "cell_type": "code",
   "execution_count": 36,
   "metadata": {
    "collapsed": false
   },
   "outputs": [
    {
     "data": {
      "text/html": [
       "<div class=\"krn-spql\"><div class=\"magic\">Endpoint set to: http://data.e-stat.go.jp/lod/sparql/query</div><div class=\"magic\">Display: table</div></div>"
      ],
      "text/plain": [
       "Endpoint set to: http://data.e-stat.go.jp/lod/sparql/query\n",
       "Display: table\n"
      ]
     },
     "metadata": {},
     "output_type": "display_data"
    },
    {
     "data": {
      "text/html": [
       "<div class=\"krn-spql\"><table><tr class=hdr><th>taikijido</th>\n",
       "<th>shiku</th></tr><tr class=odd><td class=val>181</td>\n",
       "<td class=val>武蔵野市</td></tr><tr class=even><td class=val>181</td>\n",
       "<td class=val>墨田区</td></tr><tr class=odd><td class=val>181</td>\n",
       "<td class=val>府中市</td></tr><tr class=even><td class=val>47</td>\n",
       "<td class=val>狛江市</td></tr><tr class=odd><td class=val>184</td>\n",
       "<td class=val>西東京市</td></tr><tr class=even><td class=val>19</td>\n",
       "<td class=val>青梅市</td></tr><tr class=odd><td class=val>96</td>\n",
       "<td class=val>文京区</td></tr><tr class=even><td class=val>35</td>\n",
       "<td class=val>あきる野市</td></tr><tr class=odd><td class=val>257</td>\n",
       "<td class=val>町田市</td></tr><tr class=even><td class=val>270</td>\n",
       "<td class=val>豊島区</td></tr></table><div class=\"tinfo\">Total: 10, Shown: 10</div></div>"
      ]
     },
     "metadata": {},
     "output_type": "display_data"
    }
   ],
   "source": [
    "%endpoint http://data.e-stat.go.jp/lod/sparql/query\n",
    "%display table\n",
    "PREFIX ssds-measure-2016:<http://data.e-stat.go.jp/lod/ontology/systemOfSocialAndDemographicStatistics/measure/2016/>\n",
    "PREFIX cd-dimension:<http://data.e-stat.go.jp/lod/ontology/crossDomain/dimension/> \n",
    "PREFIX ic:<http://imi.ipa.go.jp/ns/core/rdf#> \n",
    "select ?taikijido ?shiku\n",
    "where{\n",
    "    ?s ssds-measure-2016:J250502 ?taikijido;\n",
    "        cd-dimension:standardAreaCode ?areacode.\n",
    "     ?areacode ic:都道府県  \"東京都\"@ja;\n",
    "         ic:市区町村 ?shiku.\n",
    "}\n",
    "limit 10"
   ]
  },
  {
   "cell_type": "markdown",
   "metadata": {},
   "source": [
    "## 区ごとの「保育所在所児童数」「保育所数」を組み合わせてみます。\n",
    "プロパティパスで逆パス等を使うとまとめて記述できそうだけど、、、、自分は書けないのでとりあえずシンプルに書いてみます。"
   ]
  },
  {
   "cell_type": "code",
   "execution_count": 7,
   "metadata": {
    "collapsed": false
   },
   "outputs": [
    {
     "data": {
      "text/html": [
       "<div class=\"krn-spql\"><div class=\"magic\">Endpoint set to: http://data.e-stat.go.jp/lod/sparql/query</div><div class=\"magic\">Display: table</div></div>"
      ],
      "text/plain": [
       "Endpoint set to: http://data.e-stat.go.jp/lod/sparql/query\n",
       "Display: table\n"
      ]
     },
     "metadata": {},
     "output_type": "display_data"
    },
    {
     "data": {
      "text/html": [
       "<div class=\"krn-spql\"><table><tr class=hdr><th>shiku</th>\n",
       "<th>hoikusyo</th>\n",
       "<th>zaisyo</th>\n",
       "<th>taiki</th></tr><tr class=odd><td class=val>昭島市</td>\n",
       "<td class=val>19</td>\n",
       "<td class=val>2517</td>\n",
       "<td class=val>46</td></tr><tr class=even><td class=val>板橋区</td>\n",
       "<td class=val>93</td>\n",
       "<td class=val>8477</td>\n",
       "<td class=val>417</td></tr><tr class=odd><td class=val>青梅市</td>\n",
       "<td class=val>32</td>\n",
       "<td class=val>3322</td>\n",
       "<td class=val>19</td></tr><tr class=even><td class=val>豊島区</td>\n",
       "<td class=val>31</td>\n",
       "<td class=val>3041</td>\n",
       "<td class=val>270</td></tr><tr class=odd><td class=val>利島村</td>\n",
       "<td class=val>1</td>\n",
       "<td class=val>24</td>\n",
       "<td class=val>0</td></tr><tr class=even><td class=val>練馬区</td>\n",
       "<td class=val>89</td>\n",
       "<td class=val>8814</td>\n",
       "<td class=val>578</td></tr><tr class=odd><td class=val>御蔵島村</td>\n",
       "<td class=val>0</td>\n",
       "<td class=val>0</td>\n",
       "<td class=val>0</td></tr><tr class=even><td class=val>小平市</td>\n",
       "<td class=val>18</td>\n",
       "<td class=val>1956</td>\n",
       "<td class=val>174</td></tr><tr class=odd><td class=val>多摩市</td>\n",
       "<td class=val>19</td>\n",
       "<td class=val>2324</td>\n",
       "<td class=val>75</td></tr><tr class=even><td class=val>江戸川区</td>\n",
       "<td class=val>83</td>\n",
       "<td class=val>9544</td>\n",
       "<td class=val>192</td></tr><tr class=odd><td class=val>新宿区</td>\n",
       "<td class=val>36</td>\n",
       "<td class=val>3640</td>\n",
       "<td class=val>176</td></tr><tr class=even><td class=val>東大和市</td>\n",
       "<td class=val>15</td>\n",
       "<td class=val>1788</td>\n",
       "<td class=val>79</td></tr><tr class=odd><td class=val>あきる野市</td>\n",
       "<td class=val>15</td>\n",
       "<td class=val>1779</td>\n",
       "<td class=val>35</td></tr><tr class=even><td class=val>墨田区</td>\n",
       "<td class=val>42</td>\n",
       "<td class=val>4106</td>\n",
       "<td class=val>181</td></tr><tr class=odd><td class=val>東村山市</td>\n",
       "<td class=val>17</td>\n",
       "<td class=val>1818</td>\n",
       "<td class=val>81</td></tr><tr class=even><td class=val>目黒区</td>\n",
       "<td class=val>26</td>\n",
       "<td class=val>2498</td>\n",
       "<td class=val>132</td></tr><tr class=odd><td class=val>東久留米市</td>\n",
       "<td class=val>16</td>\n",
       "<td class=val>1604</td>\n",
       "<td class=val>120</td></tr><tr class=even><td class=val>荒川区</td>\n",
       "<td class=val>29</td>\n",
       "<td class=val>3596</td>\n",
       "<td class=val>37</td></tr><tr class=odd><td class=val>世田谷区</td>\n",
       "<td class=val>82</td>\n",
       "<td class=val>8912</td>\n",
       "<td class=val>884</td></tr><tr class=even><td class=val>稲城市</td>\n",
       "<td class=val>12</td>\n",
       "<td class=val>1424</td>\n",
       "<td class=val>50</td></tr></table><div class=\"tinfo\">Total: 63, Shown: 20</div></div>"
      ]
     },
     "metadata": {},
     "output_type": "display_data"
    }
   ],
   "source": [
    "%endpoint http://data.e-stat.go.jp/lod/sparql/query\n",
    "%display table\n",
    "PREFIX ssds-measure-2016:<http://data.e-stat.go.jp/lod/ontology/systemOfSocialAndDemographicStatistics/measure/2016/>\n",
    "PREFIX cd-dimension:<http://data.e-stat.go.jp/lod/ontology/crossDomain/dimension/> \n",
    "PREFIX ic:<http://imi.ipa.go.jp/ns/core/rdf#> \n",
    "select ?shiku ?hoikusyo  ?zaisyo ?taiki\n",
    "where{\n",
    "    ?s1 ssds-measure-2016:J250502 ?taiki;\n",
    "        cd-dimension:standardAreaCode ?areacode.\n",
    "     ?areacode ic:都道府県  \"東京都\"@ja;\n",
    "         ic:市区町村 ?shiku.\n",
    "    ?s2 ssds-measure-2016:J2503 ?hoikusyo;\n",
    "        cd-dimension:standardAreaCode ?areacode.\n",
    "    ?s3 ssds-measure-2016:J2506 ?zaisyo;\n",
    "        cd-dimension:standardAreaCode ?areacode.\n",
    "}"
   ]
  }
 ],
 "metadata": {
  "kernelspec": {
   "display_name": "SPARQL",
   "language": "",
   "name": "sparql"
  },
  "language_info": {
   "codemirror_mode": {
    "name": "sparql"
   },
   "mimetype": "application/sparql-query",
   "name": "sparql",
   "pygments_lexer": "sparql-nb"
  }
 },
 "nbformat": 4,
 "nbformat_minor": 0
}
