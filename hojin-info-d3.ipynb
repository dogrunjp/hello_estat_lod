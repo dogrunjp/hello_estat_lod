{
 "cells": [
  {
   "cell_type": "code",
   "execution_count": 1,
   "metadata": {
    "collapsed": true
   },
   "outputs": [],
   "source": [
    "import py_d3\n",
    "py_d3.load_ipython_extension(get_ipython())"
   ]
  },
  {
   "cell_type": "code",
   "execution_count": 3,
   "metadata": {
    "collapsed": false
   },
   "outputs": [
    {
     "data": {
      "text/html": [
       "\n",
       "<script>\n",
       "requirejs.config({\n",
       "    paths: {\n",
       "        d3: \"//cdnjs.cloudflare.com/ajax/libs/d3/3.5.17/d3\"\n",
       "    }\n",
       "});\n",
       "\n",
       "require(['d3'], function(d3) {\n",
       "    window.d3 = d3;\n",
       "});\n",
       "</script>\n",
       "<script>\n",
       "_select = d3.select;\n",
       "\n",
       "d3.select1 = function(selection) {\n",
       "    return _select(\"#d3-cell-1\").select(selection);\n",
       "}\n",
       "d3.selectAll1 = function(selection) {\n",
       "    return _select(\"#d3-cell-1\").selectAll(selection);\n",
       "}\n",
       "</script>\n",
       "<g id=\"d3-cell-1\">\n",
       "<div></div>\n",
       "<script>\n",
       "var q = encodeURIComponent(get_sparql()),\n",
       "    endpoint = \"http://api.hojin-info.go.jp/sparql\";\n",
       "\n",
       "function get_sparql(){\n",
       "    return [\n",
       "        \"PREFIX hj: <http://hojin-info.go.jp/ns/domain/biz/1#>\",\n",
       "        \"PREFIX ic: <http://imi.go.jp/ns/core/rdf#>\",\n",
       "        \"SELECT ?v ?name FROM <http://hojin-info.go.jp/graph/hojin>\",\n",
       "        \"WHERE {\",\n",
       "        \"?d hj:法人基本情報 ?db .\",\n",
       "        \"?db ic:ID/ic:識別値 ?v ;\",\n",
       "        \"ic:名称/ic:表記 ?name .\",\n",
       "        \"}\"\n",
       "    ].join(\" \");\n",
       "}\n",
       "\n",
       "d3.json(endpoint + \"?query=\" + q , function(error, data){\n",
       "    console.log(endpoint + '?query=' + q)\n",
       "    if(error){\n",
       "        console.log(error)\n",
       "    }else{\n",
       "        show(data)\n",
       "    }\n",
       "});\n",
       "\n",
       "function show(data){\n",
       "    items = data['results']['bindings']\n",
       "    d3.select1('div').append(\"text\").text(items.length)\n",
       "}\n",
       "\n",
       "</script>\n",
       "</g>"
      ],
      "text/plain": [
       "<IPython.core.display.HTML object>"
      ]
     },
     "metadata": {},
     "output_type": "display_data"
    }
   ],
   "source": [
    "%%d3\n",
    "<div></div>\n",
    "<script>\n",
    "var q = encodeURIComponent(get_sparql()),\n",
    "    endpoint = \"http://api.hojin-info.go.jp/sparql\";\n",
    "\n",
    "function get_sparql(){\n",
    "    return [\n",
    "        \"PREFIX hj: <http://hojin-info.go.jp/ns/domain/biz/1#>\",\n",
    "        \"PREFIX ic: <http://imi.go.jp/ns/core/rdf#>\",\n",
    "        \"SELECT ?v ?name FROM <http://hojin-info.go.jp/graph/hojin>\",\n",
    "        \"WHERE {\",\n",
    "        \"?d hj:法人基本情報 ?db .\",\n",
    "        \"?db ic:ID/ic:識別値 ?v ;\",\n",
    "        \"ic:名称/ic:表記 ?name .\",\n",
    "        \"}\"\n",
    "    ].join(\" \");\n",
    "}\n",
    "\n",
    "d3.json(endpoint + \"?query=\" + q , function(error, data){\n",
    "    console.log(endpoint + '?query=' + q)\n",
    "    if(error){\n",
    "        console.log(error)\n",
    "    }else{\n",
    "        show(data)\n",
    "    }\n",
    "});\n",
    "\n",
    "function show(data){\n",
    "    items = data['results']['bindings']\n",
    "    d3.select('div').append(\"text\").text(items.length)\n",
    "}\n",
    "\n",
    "</script>"
   ]
  }
 ],
 "metadata": {
  "anaconda-cloud": {},
  "kernelspec": {
   "display_name": "Python [default]",
   "language": "python",
   "name": "python3"
  },
  "language_info": {
   "codemirror_mode": {
    "name": "ipython",
    "version": 3
   },
   "file_extension": ".py",
   "mimetype": "text/x-python",
   "name": "python",
   "nbconvert_exporter": "python",
   "pygments_lexer": "ipython3",
   "version": "3.5.2"
  }
 },
 "nbformat": 4,
 "nbformat_minor": 1
}
