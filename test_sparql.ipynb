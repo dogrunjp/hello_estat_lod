{
 "cells": [
  {
   "cell_type": "code",
   "execution_count": 4,
   "metadata": {
    "collapsed": false
   },
   "outputs": [
    {
     "data": {
      "text/html": [
       "<div class=\"krn-spql\"><div class=\"magic\">Endpoint set to: http://data.e-stat.go.jp/lod/sparql/query</div></div>"
      ],
      "text/plain": [
       "Endpoint set to: http://data.e-stat.go.jp/lod/sparql/query\n"
      ]
     },
     "metadata": {},
     "output_type": "display_data"
    },
    {
     "data": {
      "text/plain": [
       "{'head': {'vars': ['o']},\n",
       " 'results': {'bindings': [{'o': {'datatype': 'http://www.w3.org/2001/XMLSchema#decimal',\n",
       "                                 'type': 'typed-literal',\n",
       "                                 'value': '286398'}}]}}"
      ]
     },
     "metadata": {},
     "output_type": "display_data"
    }
   ],
   "source": [
    "%endpoint http://data.e-stat.go.jp/lod/sparql/query\n",
    "# 新宿区の日本人の人口を求める\n",
    "PREFIX rdfs:<http://www.w3.org/2000/01/rdf-schema#> \n",
    "PREFIX cd-dimension:<http://data.e-stat.go.jp/lod/ontology/crossDomain/dimension/> \n",
    "PREFIX cd-code:<http://data.e-stat.go.jp/lod/ontology/crossDomain/code/> \n",
    "PREFIX cd-attribute:<http://data.e-stat.go.jp/lod/ontology/crossDomain/attribute/> \n",
    "PREFIX cd-dimension-2016:<http://data.e-stat.go.jp/lod/ontology/crossDomain/dimension/2016/> \n",
    "PREFIX cd-code-2016:<http://data.e-stat.go.jp/lod/ontology/crossDomain/code/2016/> \n",
    "PREFIX pc-measure-2010:<http://data.e-stat.go.jp/lod/ontology/populationCensus/measure/2010/> \n",
    "PREFIX pc-dimension-2010:<http://data.e-stat.go.jp/lod/ontology/populationCensus/dimension/2010/> \n",
    "PREFIX pc-code-2010:<http://data.e-stat.go.jp/lod/ontology/populationCensus/code/2010/> \n",
    "PREFIX sac:<http://data.e-stat.go.jp/lod/sac/> \n",
    "PREFIX ic:<http://imi.ipa.go.jp/ns/core/rdf#> \n",
    "select  ?o \n",
    "where {\n",
    "      ?s pc-measure-2010:population ?o ;\n",
    "         cd-dimension:standardAreaCode / ic:市区町村 \"新宿区\"@ja ;\n",
    "         cd-dimension-2016:sex cd-code-2016:sex-total ; \n",
    "         cd-dimension-2016:nationality cd-code-2016:nationality-japanese ; \n",
    "         pc-dimension-2010:area pc-code-2010:area-all ; \n",
    "         cd-dimension-2016:age cd-code-2016:age-total . \n",
    "}\n"
   ]
  },
  {
   "cell_type": "code",
   "execution_count": 5,
   "metadata": {
    "collapsed": false
   },
   "outputs": [
    {
     "data": {
      "text/plain": [
       "{'head': {'vars': ['o']},\n",
       " 'results': {'bindings': [{'o': {'datatype': 'http://www.w3.org/2001/XMLSchema#decimal',\n",
       "                                 'type': 'typed-literal',\n",
       "                                 'value': '286398'}}]}}"
      ]
     },
     "metadata": {},
     "output_type": "display_data"
    }
   ],
   "source": [
    "%endpoint http://data.e-stat.go.jp/lod/sparql/query\n",
    "# 新宿区の日本人の人口を求める\n",
    "PREFIX rdfs:<http://www.w3.org/2000/01/rdf-schema#> \n",
    "PREFIX cd-dimension:<http://data.e-stat.go.jp/lod/ontology/crossDomain/dimension/> \n",
    "PREFIX cd-code:<http://data.e-stat.go.jp/lod/ontology/crossDomain/code/> \n",
    "PREFIX cd-attribute:<http://data.e-stat.go.jp/lod/ontology/crossDomain/attribute/> \n",
    "PREFIX cd-dimension-2016:<http://data.e-stat.go.jp/lod/ontology/crossDomain/dimension/2016/> \n",
    "PREFIX cd-code-2016:<http://data.e-stat.go.jp/lod/ontology/crossDomain/code/2016/> \n",
    "PREFIX pc-measure-2010:<http://data.e-stat.go.jp/lod/ontology/populationCensus/measure/2010/> \n",
    "PREFIX pc-dimension-2010:<http://data.e-stat.go.jp/lod/ontology/populationCensus/dimension/2010/> \n",
    "PREFIX pc-code-2010:<http://data.e-stat.go.jp/lod/ontology/populationCensus/code/2010/> \n",
    "PREFIX sac:<http://data.e-stat.go.jp/lod/sac/> \n",
    "PREFIX ic:<http://imi.ipa.go.jp/ns/core/rdf#> \n",
    "select  ?o\n",
    "where {\n",
    "      ?s pc-measure-2010:population ?o ;\n",
    "         cd-dimension:standardAreaCode ?areacode.\n",
    "      ?areacode  ic:市区町村  \"新宿区\"@ja.\n",
    "      ?s cd-dimension-2016:nationality cd-code-2016:nationality-japanese ; \n",
    "         cd-dimension-2016:sex cd-code-2016:sex-total ; \n",
    "         pc-dimension-2010:area pc-code-2010:area-all ; \n",
    "         cd-dimension-2016:age cd-code-2016:age-total . \n",
    "}\n"
   ]
  },
  {
   "cell_type": "code",
   "execution_count": 4,
   "metadata": {
    "collapsed": false
   },
   "outputs": [
    {
     "data": {
      "text/html": [
       "<div class=\"krn-spql\"><div class=\"magic\">Endpoint set to: http://data.e-stat.go.jp/lod/sparql/query</div></div>"
      ],
      "text/plain": [
       "Endpoint set to: http://data.e-stat.go.jp/lod/sparql/query\n"
      ]
     },
     "metadata": {},
     "output_type": "display_data"
    },
    {
     "data": {
      "text/plain": [
       "{'head': {'vars': ['num']},\n",
       " 'results': {'bindings': [{'num': {'datatype': 'http://www.w3.org/2001/XMLSchema#decimal',\n",
       "                                   'type': 'typed-literal',\n",
       "                                   'value': '36'}}]}}"
      ]
     },
     "metadata": {},
     "output_type": "display_data"
    }
   ],
   "source": [
    "%endpoint http://data.e-stat.go.jp/lod/sparql/query\n",
    "PREFIX ssds-measure-2016:<http://data.e-stat.go.jp/lod/ontology/systemOfSocialAndDemographicStatistics/measure/2016/>\n",
    "PREFIX cd-dimension:<http://data.e-stat.go.jp/lod/ontology/crossDomain/dimension/> \n",
    "PREFIX ic:<http://imi.ipa.go.jp/ns/core/rdf#> \n",
    "select ?hoikusho_num\n",
    "where{\n",
    "    ?s ssds-measure-2016:J2503 ?hoikusho_num;\n",
    "        cd-dimension:standardAreaCode ?areacode.\n",
    "     ?areacode ic:市区町村  \"新宿区\"@ja.\n",
    "}\n"
   ]
  },
  {
   "cell_type": "code",
   "execution_count": 6,
   "metadata": {
    "collapsed": false
   },
   "outputs": [
    {
     "data": {
      "text/html": [
       "<div class=\"krn-spql\"><div class=\"magic\">Endpoint set to: http://data.e-stat.go.jp/lod/sparql/query</div></div>"
      ],
      "text/plain": [
       "Endpoint set to: http://data.e-stat.go.jp/lod/sparql/query\n"
      ]
     },
     "metadata": {},
     "output_type": "display_data"
    },
    {
     "data": {
      "text/plain": [
       "{'head': {'vars': ['taikijido']},\n",
       " 'results': {'bindings': [{'taikijido': {'datatype': 'http://www.w3.org/2001/XMLSchema#decimal',\n",
       "                                         'type': 'typed-literal',\n",
       "                                         'value': '176'}}]}}"
      ]
     },
     "metadata": {},
     "output_type": "display_data"
    }
   ],
   "source": [
    "%endpoint http://data.e-stat.go.jp/lod/sparql/query\n",
    "PREFIX ssds-measure-2016:<http://data.e-stat.go.jp/lod/ontology/systemOfSocialAndDemographicStatistics/measure/2016/>\n",
    "PREFIX cd-dimension:<http://data.e-stat.go.jp/lod/ontology/crossDomain/dimension/> \n",
    "PREFIX ic:<http://imi.ipa.go.jp/ns/core/rdf#> \n",
    "select ?taikijido\n",
    "where{\n",
    "    ?s ssds-measure-2016:J250502 ?taikijido;\n",
    "        cd-dimension:standardAreaCode ?areacode.\n",
    "     ?areacode ic:市区町村  \"新宿区\"@ja.\n",
    "}\n"
   ]
  },
  {
   "cell_type": "code",
   "execution_count": 23,
   "metadata": {
    "collapsed": false
   },
   "outputs": [
    {
     "data": {
      "text/html": [
       "<div class=\"krn-spql\"><div class=\"magic\">Endpoint set to: http://data.e-stat.go.jp/lod/sparql/query</div></div>"
      ],
      "text/plain": [
       "Endpoint set to: http://data.e-stat.go.jp/lod/sparql/query\n"
      ]
     },
     "metadata": {},
     "output_type": "display_data"
    },
    {
     "data": {
      "text/plain": [
       "{'head': {'vars': ['s', 'o']},\n",
       " 'results': {'bindings': [{'o': {'datatype': 'http://www.w3.org/2001/XMLSchema#decimal',\n",
       "                                 'type': 'typed-literal',\n",
       "                                 'value': '36'},\n",
       "                           's': {'type': 'uri',\n",
       "                                 'value': 'http://data.e-stat.go.jp/lod/dataset/systemOfSocialAndDemographicStatistics/d00200502/obs0000000000590677'}},\n",
       "                          {'o': {'datatype': 'http://www.w3.org/2001/XMLSchema#decimal',\n",
       "                                 'type': 'typed-literal',\n",
       "                                 'value': '28'},\n",
       "                           's': {'type': 'uri',\n",
       "                                 'value': 'http://data.e-stat.go.jp/lod/dataset/systemOfSocialAndDemographicStatistics/d00200502/obs0000000000590678'}}]}}"
      ]
     },
     "metadata": {},
     "output_type": "display_data"
    }
   ],
   "source": [
    "%endpoint http://data.e-stat.go.jp/lod/sparql/query\n",
    "PREFIX ssds-measure-2016:<http://data.e-stat.go.jp/lod/ontology/systemOfSocialAndDemographicStatistics/measure/2016/>\n",
    "PREFIX cd-dimension:<http://data.e-stat.go.jp/lod/ontology/crossDomain/dimension/> \n",
    "PREFIX ic:<http://imi.ipa.go.jp/ns/core/rdf#> \n",
    "select *\n",
    "where{\n",
    "        {\n",
    "        ?s ssds-measure-2016:J2503 ?o;\n",
    "        cd-dimension:standardAreaCode / ic:市区町村 \"新宿区\"@ja. \n",
    "            } union {\n",
    "        ?s ssds-measure-2016:J2503 ?o;\n",
    "        cd-dimension:standardAreaCode / ic:市区町村 \"文京区\"@ja. \n",
    "        }\n",
    "}"
   ]
  },
  {
   "cell_type": "code",
   "execution_count": 36,
   "metadata": {
    "collapsed": false
   },
   "outputs": [
    {
     "data": {
      "text/html": [
       "<div class=\"krn-spql\"><div class=\"magic\">Endpoint set to: http://data.e-stat.go.jp/lod/sparql/query</div><div class=\"magic\">Display: table</div></div>"
      ],
      "text/plain": [
       "Endpoint set to: http://data.e-stat.go.jp/lod/sparql/query\n",
       "Display: table\n"
      ]
     },
     "metadata": {},
     "output_type": "display_data"
    },
    {
     "data": {
      "text/html": [
       "<div class=\"krn-spql\"><table><tr class=hdr><th>taikijido</th>\n",
       "<th>shiku</th></tr><tr class=odd><td class=val>181</td>\n",
       "<td class=val>武蔵野市</td></tr><tr class=even><td class=val>181</td>\n",
       "<td class=val>墨田区</td></tr><tr class=odd><td class=val>181</td>\n",
       "<td class=val>府中市</td></tr><tr class=even><td class=val>47</td>\n",
       "<td class=val>狛江市</td></tr><tr class=odd><td class=val>184</td>\n",
       "<td class=val>西東京市</td></tr><tr class=even><td class=val>19</td>\n",
       "<td class=val>青梅市</td></tr><tr class=odd><td class=val>96</td>\n",
       "<td class=val>文京区</td></tr><tr class=even><td class=val>35</td>\n",
       "<td class=val>あきる野市</td></tr><tr class=odd><td class=val>257</td>\n",
       "<td class=val>町田市</td></tr><tr class=even><td class=val>270</td>\n",
       "<td class=val>豊島区</td></tr></table><div class=\"tinfo\">Total: 10, Shown: 10</div></div>"
      ]
     },
     "metadata": {},
     "output_type": "display_data"
    }
   ],
   "source": [
    "%endpoint http://data.e-stat.go.jp/lod/sparql/query\n",
    "%display table\n",
    "PREFIX ssds-measure-2016:<http://data.e-stat.go.jp/lod/ontology/systemOfSocialAndDemographicStatistics/measure/2016/>\n",
    "PREFIX cd-dimension:<http://data.e-stat.go.jp/lod/ontology/crossDomain/dimension/> \n",
    "PREFIX ic:<http://imi.ipa.go.jp/ns/core/rdf#> \n",
    "select ?taikijido ?shiku\n",
    "where{\n",
    "    ?s ssds-measure-2016:J250502 ?taikijido;\n",
    "        cd-dimension:standardAreaCode ?areacode.\n",
    "     ?areacode ic:都道府県  \"東京都\"@ja;\n",
    "         ic:市区町村 ?shiku.\n",
    "}\n",
    "limit 10"
   ]
  }
 ],
 "metadata": {
  "kernelspec": {
   "display_name": "SPARQL",
   "language": "",
   "name": "sparql"
  },
  "language_info": {
   "codemirror_mode": {
    "name": "sparql"
   },
   "mimetype": "application/sparql-query",
   "name": "sparql",
   "pygments_lexer": "sparql-nb"
  }
 },
 "nbformat": 4,
 "nbformat_minor": 0
}
