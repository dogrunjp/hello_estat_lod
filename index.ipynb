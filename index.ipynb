{
 "cells": [
  {
   "cell_type": "markdown",
   "metadata": {},
   "source": [
    "# 統計LOD NOTEBOOK\n",
    "\n",
    "手探りでSPARQLを書きながら、統計LODの利用イメージを想像できたらと考えています。\n",
    "\n",
    "## プロパティパスを使ったSPQRQL、使わないSPARQL\n",
    "\n",
    "SPARQL初心者の自分は、プロパティパスを使った場合エリアコードをキーに興味のある様々な値を複数のプロパティを使ってどのように取得すべきかわからないので、冗長ではあるけどエリアコードの変数を明示してプロパティパスを使わずサンプルを書いています。"
   ]
  },
  {
   "cell_type": "code",
   "execution_count": 23,
   "metadata": {
    "collapsed": false
   },
   "outputs": [
    {
     "data": {
      "text/html": [
       "<div class=\"krn-spql\"><div class=\"magic\">Endpoint set to: http://data.e-stat.go.jp/lod/sparql/query</div><div class=\"magic\">Display: raw</div></div>"
      ],
      "text/plain": [
       "Endpoint set to: http://data.e-stat.go.jp/lod/sparql/query\n",
       "Display: raw\n"
      ]
     },
     "metadata": {},
     "output_type": "display_data"
    },
    {
     "data": {
      "text/plain": [
       "{'head': {'vars': ['o']},\n",
       " 'results': {'bindings': [{'o': {'datatype': 'http://www.w3.org/2001/XMLSchema#decimal',\n",
       "                                 'type': 'typed-literal',\n",
       "                                 'value': '286398'}}]}}"
      ]
     },
     "metadata": {},
     "output_type": "display_data"
    }
   ],
   "source": [
    "%endpoint http://data.e-stat.go.jp/lod/sparql/query\n",
    "%display raw\n",
    "# 新宿区の日本人の人口を求める（プロパティパス）\n",
    "PREFIX rdfs:<http://www.w3.org/2000/01/rdf-schema#> \n",
    "PREFIX cd-dimension:<http://data.e-stat.go.jp/lod/ontology/crossDomain/dimension/> \n",
    "PREFIX cd-code:<http://data.e-stat.go.jp/lod/ontology/crossDomain/code/> \n",
    "PREFIX cd-attribute:<http://data.e-stat.go.jp/lod/ontology/crossDomain/attribute/> \n",
    "PREFIX cd-dimension-2016:<http://data.e-stat.go.jp/lod/ontology/crossDomain/dimension/2016/> \n",
    "PREFIX cd-code-2016:<http://data.e-stat.go.jp/lod/ontology/crossDomain/code/2016/> \n",
    "PREFIX pc-measure-2010:<http://data.e-stat.go.jp/lod/ontology/populationCensus/measure/2010/> \n",
    "PREFIX pc-dimension-2010:<http://data.e-stat.go.jp/lod/ontology/populationCensus/dimension/2010/> \n",
    "PREFIX pc-code-2010:<http://data.e-stat.go.jp/lod/ontology/populationCensus/code/2010/> \n",
    "PREFIX sac:<http://data.e-stat.go.jp/lod/sac/> \n",
    "PREFIX ic:<http://imi.ipa.go.jp/ns/core/rdf#> \n",
    "select  ?o \n",
    "where {\n",
    "      ?s pc-measure-2010:population ?o ;\n",
    "         cd-dimension:standardAreaCode / ic:市区町村 \"新宿区\"@ja ;\n",
    "         cd-dimension-2016:sex cd-code-2016:sex-total ; \n",
    "         cd-dimension-2016:nationality cd-code-2016:nationality-japanese ; \n",
    "         pc-dimension-2010:area pc-code-2010:area-all ; \n",
    "         cd-dimension-2016:age cd-code-2016:age-total . \n",
    "}"
   ]
  },
  {
   "cell_type": "code",
   "execution_count": 2,
   "metadata": {
    "collapsed": false
   },
   "outputs": [
    {
     "data": {
      "text/html": [
       "<div class=\"krn-spql\"><div class=\"magic\">Endpoint set to: http://data.e-stat.go.jp/lod/sparql/query</div><div class=\"magic\">Display: raw</div></div>"
      ],
      "text/plain": [
       "Endpoint set to: http://data.e-stat.go.jp/lod/sparql/query\n",
       "Display: raw\n"
      ]
     },
     "metadata": {},
     "output_type": "display_data"
    },
    {
     "data": {
      "text/plain": [
       "{'head': {'vars': ['o']},\n",
       " 'results': {'bindings': [{'o': {'datatype': 'http://www.w3.org/2001/XMLSchema#decimal',\n",
       "                                 'type': 'typed-literal',\n",
       "                                 'value': '286398'}}]}}"
      ]
     },
     "metadata": {},
     "output_type": "display_data"
    }
   ],
   "source": [
    "%endpoint http://data.e-stat.go.jp/lod/sparql/query\n",
    "%display raw\n",
    "# プロパティパスを使わないで書いてみる\n",
    "PREFIX rdfs:<http://www.w3.org/2000/01/rdf-schema#> \n",
    "PREFIX cd-dimension:<http://data.e-stat.go.jp/lod/ontology/crossDomain/dimension/> \n",
    "PREFIX cd-code:<http://data.e-stat.go.jp/lod/ontology/crossDomain/code/> \n",
    "PREFIX cd-attribute:<http://data.e-stat.go.jp/lod/ontology/crossDomain/attribute/> \n",
    "PREFIX cd-dimension-2016:<http://data.e-stat.go.jp/lod/ontology/crossDomain/dimension/2016/> \n",
    "PREFIX cd-code-2016:<http://data.e-stat.go.jp/lod/ontology/crossDomain/code/2016/> \n",
    "PREFIX pc-measure-2010:<http://data.e-stat.go.jp/lod/ontology/populationCensus/measure/2010/> \n",
    "PREFIX pc-dimension-2010:<http://data.e-stat.go.jp/lod/ontology/populationCensus/dimension/2010/> \n",
    "PREFIX pc-code-2010:<http://data.e-stat.go.jp/lod/ontology/populationCensus/code/2010/> \n",
    "PREFIX sac:<http://data.e-stat.go.jp/lod/sac/> \n",
    "PREFIX ic:<http://imi.ipa.go.jp/ns/core/rdf#> \n",
    "select  ?o \n",
    "where {\n",
    "      ?s pc-measure-2010:population ?o ;\n",
    "         cd-dimension:standardAreaCode ?areacode.\n",
    "      ?areacode  ic:市区町村  \"新宿区\"@ja.\n",
    "      ?s cd-dimension-2016:nationality cd-code-2016:nationality-japanese ; \n",
    "         cd-dimension-2016:sex cd-code-2016:sex-total ; \n",
    "         pc-dimension-2010:area pc-code-2010:area-all ; \n",
    "         cd-dimension-2016:age cd-code-2016:age-total . \n",
    "}"
   ]
  },
  {
   "cell_type": "markdown",
   "metadata": {},
   "source": [
    "# 統計LODサポートを使って興味のあるプロパティを検索し、統計LODのデータを取得する\n",
    "\n",
    "## 保育園数や保育園入所待機児童数を取得してみます。\n",
    "- [統計LODサポート](http://idease.info/lodstat/)に「保育」と入力して検索。\n",
    "- 「保育所数」「保育所在所児数」「保育所入所待機児童数」などのプロパティが表示されます。この中からまず、保育所入所待機児童数を取得することにします。\n",
    "- 統計LODサポートで検索された「保育所入所待機児童数」をクリックします。\n",
    "- 保育所数のプロパティ（predicate）「http://data.e-stat.go.jp/lod/ontology/systemOfSocialAndDemographicStatistics/measure/2016/J250502」 が長いのでPREFIXを\"ssds-measure-2016\"のように設定します。\n",
    "- 待機児童数（この場合RDFの目的語になる）を指す変数を「?taikijido」とします\n",
    "- セルID　 保育所数の述語　　待機児童数; のRDFを記述\n",
    "- セルID（省略形式）　エリアコード（PREFIXを利用）を指す述語 エリアコード（未知の変数）. を記述\n",
    "- [共通語彙基盤](http://imi.go.jp/ns/core/Core232.html)のコア語彙「市区町村」を使って、エリアコード  市区町村 新宿区. を記述し、新宿区のエリアコードを取得します。\n",
    "- SPARQLを実行すると新宿区の待機児童数が変数taikijidoとして取得されます。\n"
   ]
  },
  {
   "cell_type": "code",
   "execution_count": 3,
   "metadata": {
    "collapsed": false
   },
   "outputs": [
    {
     "data": {
      "text/html": [
       "<div class=\"krn-spql\"><div class=\"magic\">Endpoint set to: http://data.e-stat.go.jp/lod/sparql/query</div></div>"
      ],
      "text/plain": [
       "Endpoint set to: http://data.e-stat.go.jp/lod/sparql/query\n"
      ]
     },
     "metadata": {},
     "output_type": "display_data"
    },
    {
     "data": {
      "text/plain": [
       "{'head': {'vars': ['taikijido']},\n",
       " 'results': {'bindings': [{'taikijido': {'datatype': 'http://www.w3.org/2001/XMLSchema#decimal',\n",
       "                                         'type': 'typed-literal',\n",
       "                                         'value': '176'}}]}}"
      ]
     },
     "metadata": {},
     "output_type": "display_data"
    }
   ],
   "source": [
    "%endpoint http://data.e-stat.go.jp/lod/sparql/query\n",
    "#新宿区の待機児童数\n",
    "PREFIX ssds-measure-2016:<http://data.e-stat.go.jp/lod/ontology/systemOfSocialAndDemographicStatistics/measure/2016/>\n",
    "PREFIX cd-dimension:<http://data.e-stat.go.jp/lod/ontology/crossDomain/dimension/> \n",
    "PREFIX ic:<http://imi.ipa.go.jp/ns/core/rdf#> \n",
    "select ?taikijido\n",
    "where{\n",
    "    ?s ssds-measure-2016:J250502 ?taikijido;\n",
    "        cd-dimension:standardAreaCode ?areacode.\n",
    "     ?areacode ic:市区町村  \"新宿区\"@ja.\n",
    "}"
   ]
  },
  {
   "cell_type": "markdown",
   "metadata": {},
   "source": [
    "## UNIONを使って「新宿区」と「文京区」のOR条件で取得する"
   ]
  },
  {
   "cell_type": "code",
   "execution_count": 4,
   "metadata": {
    "collapsed": false
   },
   "outputs": [
    {
     "data": {
      "text/html": [
       "<div class=\"krn-spql\"><div class=\"magic\">Endpoint set to: http://data.e-stat.go.jp/lod/sparql/query</div><div class=\"magic\">Display: table</div></div>"
      ],
      "text/plain": [
       "Endpoint set to: http://data.e-stat.go.jp/lod/sparql/query\n",
       "Display: table\n"
      ]
     },
     "metadata": {},
     "output_type": "display_data"
    },
    {
     "data": {
      "text/html": [
       "<div class=\"krn-spql\"><table><tr class=hdr><th>保育所数</th></tr><tr class=odd><td class=val>36</td></tr><tr class=even><td class=val>28</td></tr></table><div class=\"tinfo\">Total: 2, Shown: 2</div></div>"
      ]
     },
     "metadata": {},
     "output_type": "display_data"
    }
   ],
   "source": [
    "%endpoint http://data.e-stat.go.jp/lod/sparql/query\n",
    "%display table\n",
    "PREFIX ssds-measure-2016:<http://data.e-stat.go.jp/lod/ontology/systemOfSocialAndDemographicStatistics/measure/2016/>\n",
    "PREFIX cd-dimension:<http://data.e-stat.go.jp/lod/ontology/crossDomain/dimension/> \n",
    "PREFIX ic:<http://imi.ipa.go.jp/ns/core/rdf#> \n",
    "select ?保育所数\n",
    "where{\n",
    "        {\n",
    "        ?s ssds-measure-2016:J2503 ?保育所数;\n",
    "        cd-dimension:standardAreaCode / ic:市区町村 \"新宿区\"@ja. \n",
    "            } union {\n",
    "        ?s ssds-measure-2016:J2503 ?保育所数;\n",
    "        cd-dimension:standardAreaCode / ic:市区町村 \"文京区\"@ja. \n",
    "        }\n",
    "}"
   ]
  },
  {
   "cell_type": "markdown",
   "metadata": {},
   "source": [
    "## 都道府県名のプロパティで東京都のエリアコードを取得し、東京都の待機児童数を取得"
   ]
  },
  {
   "cell_type": "code",
   "execution_count": 5,
   "metadata": {
    "collapsed": false
   },
   "outputs": [
    {
     "data": {
      "text/html": [
       "<div class=\"krn-spql\"><div class=\"magic\">Endpoint set to: http://data.e-stat.go.jp/lod/sparql/query</div><div class=\"magic\">Display: table</div></div>"
      ],
      "text/plain": [
       "Endpoint set to: http://data.e-stat.go.jp/lod/sparql/query\n",
       "Display: table\n"
      ]
     },
     "metadata": {},
     "output_type": "display_data"
    },
    {
     "data": {
      "text/html": [
       "<div class=\"krn-spql\"><table><tr class=hdr><th>待機児童数</th>\n",
       "<th>市区町村</th></tr><tr class=odd><td class=val>5279</td>\n",
       "<td class=val>特別区部</td></tr><tr class=even><td class=val>884</td>\n",
       "<td class=val>世田谷区</td></tr><tr class=odd><td class=val>578</td>\n",
       "<td class=val>練馬区</td></tr><tr class=even><td class=val>438</td>\n",
       "<td class=val>大田区</td></tr><tr class=odd><td class=val>417</td>\n",
       "<td class=val>板橋区</td></tr><tr class=even><td class=val>416</td>\n",
       "<td class=val>江東区</td></tr><tr class=odd><td class=val>294</td>\n",
       "<td class=val>足立区</td></tr><tr class=even><td class=val>285</td>\n",
       "<td class=val>杉並区</td></tr><tr class=odd><td class=val>270</td>\n",
       "<td class=val>豊島区</td></tr><tr class=even><td class=val>257</td>\n",
       "<td class=val>町田市</td></tr></table><div class=\"tinfo\">Total: 10, Shown: 10</div></div>"
      ]
     },
     "metadata": {},
     "output_type": "display_data"
    }
   ],
   "source": [
    "%endpoint http://data.e-stat.go.jp/lod/sparql/query\n",
    "%display table\n",
    "PREFIX ssds-measure-2016:<http://data.e-stat.go.jp/lod/ontology/systemOfSocialAndDemographicStatistics/measure/2016/>\n",
    "PREFIX cd-dimension:<http://data.e-stat.go.jp/lod/ontology/crossDomain/dimension/> \n",
    "PREFIX ic:<http://imi.ipa.go.jp/ns/core/rdf#> \n",
    "select ?待機児童数 ?市区町村\n",
    "where{\n",
    "    ?s ssds-measure-2016:J250502 ?待機児童数;\n",
    "        cd-dimension:standardAreaCode ?areacode.\n",
    "     ?areacode ic:都道府県  \"東京都\"@ja;\n",
    "         ic:市区町村 ?市区町村.\n",
    "}\n",
    "ORDER BY DESC(?待機児童数)\n",
    "LIMIT 10"
   ]
  },
  {
   "cell_type": "markdown",
   "metadata": {},
   "source": [
    "## 区ごとの「保育所在所児童数」「保育所数」を組み合わせてみます。\n",
    "プロパティパスで逆パス等を使うとまとめて記述できそうだけど、、、、自分は書けないのでとりあえずシンプルに書いてみます。"
   ]
  },
  {
   "cell_type": "code",
   "execution_count": 26,
   "metadata": {
    "collapsed": false
   },
   "outputs": [
    {
     "data": {
      "text/html": [
       "<div class=\"krn-spql\"><div class=\"magic\">Endpoint set to: http://data.e-stat.go.jp/lod/sparql/query</div><div class=\"magic\">Display: raw</div></div>"
      ],
      "text/plain": [
       "Endpoint set to: http://data.e-stat.go.jp/lod/sparql/query\n",
       "Display: raw\n"
      ]
     },
     "metadata": {},
     "output_type": "display_data"
    },
    {
     "data": {
      "text/plain": [
       "{'head': {'vars': ['市区町村', '保育所数', '在所児童', '待機児童']},\n",
       " 'results': {'bindings': [{'保育所数': {'datatype': 'http://www.w3.org/2001/XMLSchema#decimal',\n",
       "                                    'type': 'typed-literal',\n",
       "                                    'value': '26'},\n",
       "                           '在所児童': {'datatype': 'http://www.w3.org/2001/XMLSchema#decimal',\n",
       "                                    'type': 'typed-literal',\n",
       "                                    'value': '2498'},\n",
       "                           '市区町村': {'type': 'literal',\n",
       "                                    'value': '目黒区',\n",
       "                                    'xml:lang': 'ja'},\n",
       "                           '待機児童': {'datatype': 'http://www.w3.org/2001/XMLSchema#decimal',\n",
       "                                    'type': 'typed-literal',\n",
       "                                    'value': '132'}},\n",
       "                          {'保育所数': {'datatype': 'http://www.w3.org/2001/XMLSchema#decimal',\n",
       "                                    'type': 'typed-literal',\n",
       "                                    'value': '28'},\n",
       "                           '在所児童': {'datatype': 'http://www.w3.org/2001/XMLSchema#decimal',\n",
       "                                    'type': 'typed-literal',\n",
       "                                    'value': '2327'},\n",
       "                           '市区町村': {'type': 'literal',\n",
       "                                    'value': '文京区',\n",
       "                                    'xml:lang': 'ja'},\n",
       "                           '待機児童': {'datatype': 'http://www.w3.org/2001/XMLSchema#decimal',\n",
       "                                    'type': 'typed-literal',\n",
       "                                    'value': '96'}},\n",
       "                          {'保育所数': {'datatype': 'http://www.w3.org/2001/XMLSchema#decimal',\n",
       "                                    'type': 'typed-literal',\n",
       "                                    'value': '3'},\n",
       "                           '在所児童': {'datatype': 'http://www.w3.org/2001/XMLSchema#decimal',\n",
       "                                    'type': 'typed-literal',\n",
       "                                    'value': '63'},\n",
       "                           '市区町村': {'type': 'literal',\n",
       "                                    'value': '新島村',\n",
       "                                    'xml:lang': 'ja'},\n",
       "                           '待機児童': {'datatype': 'http://www.w3.org/2001/XMLSchema#decimal',\n",
       "                                    'type': 'typed-literal',\n",
       "                                    'value': '0'}},\n",
       "                          {'保育所数': {'datatype': 'http://www.w3.org/2001/XMLSchema#decimal',\n",
       "                                    'type': 'typed-literal',\n",
       "                                    'value': '3'},\n",
       "                           '在所児童': {'datatype': 'http://www.w3.org/2001/XMLSchema#decimal',\n",
       "                                    'type': 'typed-literal',\n",
       "                                    'value': '162'},\n",
       "                           '市区町村': {'type': 'literal',\n",
       "                                    'value': '八丈町',\n",
       "                                    'xml:lang': 'ja'},\n",
       "                           '待機児童': {'datatype': 'http://www.w3.org/2001/XMLSchema#decimal',\n",
       "                                    'type': 'typed-literal',\n",
       "                                    'value': '0'}},\n",
       "                          {'保育所数': {'datatype': 'http://www.w3.org/2001/XMLSchema#decimal',\n",
       "                                    'type': 'typed-literal',\n",
       "                                    'value': '15'},\n",
       "                           '在所児童': {'datatype': 'http://www.w3.org/2001/XMLSchema#decimal',\n",
       "                                    'type': 'typed-literal',\n",
       "                                    'value': '1788'},\n",
       "                           '市区町村': {'type': 'literal',\n",
       "                                    'value': '東大和市',\n",
       "                                    'xml:lang': 'ja'},\n",
       "                           '待機児童': {'datatype': 'http://www.w3.org/2001/XMLSchema#decimal',\n",
       "                                    'type': 'typed-literal',\n",
       "                                    'value': '79'}},\n",
       "                          {'保育所数': {'datatype': 'http://www.w3.org/2001/XMLSchema#decimal',\n",
       "                                    'type': 'typed-literal',\n",
       "                                    'value': '13'},\n",
       "                           '在所児童': {'datatype': 'http://www.w3.org/2001/XMLSchema#decimal',\n",
       "                                    'type': 'typed-literal',\n",
       "                                    'value': '1404'},\n",
       "                           '市区町村': {'type': 'literal',\n",
       "                                    'value': '小金井市',\n",
       "                                    'xml:lang': 'ja'},\n",
       "                           '待機児童': {'datatype': 'http://www.w3.org/2001/XMLSchema#decimal',\n",
       "                                    'type': 'typed-literal',\n",
       "                                    'value': '188'}},\n",
       "                          {'保育所数': {'datatype': 'http://www.w3.org/2001/XMLSchema#decimal',\n",
       "                                    'type': 'typed-literal',\n",
       "                                    'value': '11'},\n",
       "                           '在所児童': {'datatype': 'http://www.w3.org/2001/XMLSchema#decimal',\n",
       "                                    'type': 'typed-literal',\n",
       "                                    'value': '937'},\n",
       "                           '市区町村': {'type': 'literal',\n",
       "                                    'value': '清瀬市',\n",
       "                                    'xml:lang': 'ja'},\n",
       "                           '待機児童': {'datatype': 'http://www.w3.org/2001/XMLSchema#decimal',\n",
       "                                    'type': 'typed-literal',\n",
       "                                    'value': '52'}},\n",
       "                          {'保育所数': {'datatype': 'http://www.w3.org/2001/XMLSchema#decimal',\n",
       "                                    'type': 'typed-literal',\n",
       "                                    'value': '11'},\n",
       "                           '在所児童': {'datatype': 'http://www.w3.org/2001/XMLSchema#decimal',\n",
       "                                    'type': 'typed-literal',\n",
       "                                    'value': '1151'},\n",
       "                           '市区町村': {'type': 'literal',\n",
       "                                    'value': '国立市',\n",
       "                                    'xml:lang': 'ja'},\n",
       "                           '待機児童': {'datatype': 'http://www.w3.org/2001/XMLSchema#decimal',\n",
       "                                    'type': 'typed-literal',\n",
       "                                    'value': '32'}},\n",
       "                          {'保育所数': {'datatype': 'http://www.w3.org/2001/XMLSchema#decimal',\n",
       "                                    'type': 'typed-literal',\n",
       "                                    'value': '29'},\n",
       "                           '在所児童': {'datatype': 'http://www.w3.org/2001/XMLSchema#decimal',\n",
       "                                    'type': 'typed-literal',\n",
       "                                    'value': '2305'},\n",
       "                           '市区町村': {'type': 'literal',\n",
       "                                    'value': '渋谷区',\n",
       "                                    'xml:lang': 'ja'},\n",
       "                           '待機児童': {'datatype': 'http://www.w3.org/2001/XMLSchema#decimal',\n",
       "                                    'type': 'typed-literal',\n",
       "                                    'value': '73'}},\n",
       "                          {'保育所数': {'datatype': 'http://www.w3.org/2001/XMLSchema#decimal',\n",
       "                                    'type': 'typed-literal',\n",
       "                                    'value': '15'},\n",
       "                           '在所児童': {'datatype': 'http://www.w3.org/2001/XMLSchema#decimal',\n",
       "                                    'type': 'typed-literal',\n",
       "                                    'value': '1779'},\n",
       "                           '市区町村': {'type': 'literal',\n",
       "                                    'value': 'あきる野市',\n",
       "                                    'xml:lang': 'ja'},\n",
       "                           '待機児童': {'datatype': 'http://www.w3.org/2001/XMLSchema#decimal',\n",
       "                                    'type': 'typed-literal',\n",
       "                                    'value': '35'}},\n",
       "                          {'保育所数': {'datatype': 'http://www.w3.org/2001/XMLSchema#decimal',\n",
       "                                    'type': 'typed-literal',\n",
       "                                    'value': '29'},\n",
       "                           '在所児童': {'datatype': 'http://www.w3.org/2001/XMLSchema#decimal',\n",
       "                                    'type': 'typed-literal',\n",
       "                                    'value': '2891'},\n",
       "                           '市区町村': {'type': 'literal',\n",
       "                                    'value': '日野市',\n",
       "                                    'xml:lang': 'ja'},\n",
       "                           '待機児童': {'datatype': 'http://www.w3.org/2001/XMLSchema#decimal',\n",
       "                                    'type': 'typed-literal',\n",
       "                                    'value': '155'}},\n",
       "                          {'保育所数': {'datatype': 'http://www.w3.org/2001/XMLSchema#decimal',\n",
       "                                    'type': 'typed-literal',\n",
       "                                    'value': '5'},\n",
       "                           '在所児童': {'datatype': 'http://www.w3.org/2001/XMLSchema#decimal',\n",
       "                                    'type': 'typed-literal',\n",
       "                                    'value': '269'},\n",
       "                           '市区町村': {'type': 'literal',\n",
       "                                    'value': '大島町',\n",
       "                                    'xml:lang': 'ja'},\n",
       "                           '待機児童': {'datatype': 'http://www.w3.org/2001/XMLSchema#decimal',\n",
       "                                    'type': 'typed-literal',\n",
       "                                    'value': '0'}},\n",
       "                          {'保育所数': {'datatype': 'http://www.w3.org/2001/XMLSchema#decimal',\n",
       "                                    'type': 'typed-literal',\n",
       "                                    'value': '25'},\n",
       "                           '在所児童': {'datatype': 'http://www.w3.org/2001/XMLSchema#decimal',\n",
       "                                    'type': 'typed-literal',\n",
       "                                    'value': '2522'},\n",
       "                           '市区町村': {'type': 'literal',\n",
       "                                    'value': '西東京市',\n",
       "                                    'xml:lang': 'ja'},\n",
       "                           '待機児童': {'datatype': 'http://www.w3.org/2001/XMLSchema#decimal',\n",
       "                                    'type': 'typed-literal',\n",
       "                                    'value': '184'}},\n",
       "                          {'保育所数': {'datatype': 'http://www.w3.org/2001/XMLSchema#decimal',\n",
       "                                    'type': 'typed-literal',\n",
       "                                    'value': '6'},\n",
       "                           '在所児童': {'datatype': 'http://www.w3.org/2001/XMLSchema#decimal',\n",
       "                                    'type': 'typed-literal',\n",
       "                                    'value': '727'},\n",
       "                           '市区町村': {'type': 'literal',\n",
       "                                    'value': '千代田区',\n",
       "                                    'xml:lang': 'ja'},\n",
       "                           '待機児童': {'datatype': 'http://www.w3.org/2001/XMLSchema#decimal',\n",
       "                                    'type': 'typed-literal',\n",
       "                                    'value': '4'}},\n",
       "                          {'保育所数': {'datatype': 'http://www.w3.org/2001/XMLSchema#decimal',\n",
       "                                    'type': 'typed-literal',\n",
       "                                    'value': '1'},\n",
       "                           '在所児童': {'datatype': 'http://www.w3.org/2001/XMLSchema#decimal',\n",
       "                                    'type': 'typed-literal',\n",
       "                                    'value': '53'},\n",
       "                           '市区町村': {'type': 'literal',\n",
       "                                    'value': '檜原村',\n",
       "                                    'xml:lang': 'ja'},\n",
       "                           '待機児童': {'datatype': 'http://www.w3.org/2001/XMLSchema#decimal',\n",
       "                                    'type': 'typed-literal',\n",
       "                                    'value': '0'}},\n",
       "                          {'保育所数': {'datatype': 'http://www.w3.org/2001/XMLSchema#decimal',\n",
       "                                    'type': 'typed-literal',\n",
       "                                    'value': '56'},\n",
       "                           '在所児童': {'datatype': 'http://www.w3.org/2001/XMLSchema#decimal',\n",
       "                                    'type': 'typed-literal',\n",
       "                                    'value': '5257'},\n",
       "                           '市区町村': {'type': 'literal',\n",
       "                                    'value': '町田市',\n",
       "                                    'xml:lang': 'ja'},\n",
       "                           '待機児童': {'datatype': 'http://www.w3.org/2001/XMLSchema#decimal',\n",
       "                                    'type': 'typed-literal',\n",
       "                                    'value': '257'}},\n",
       "                          {'保育所数': {'datatype': 'http://www.w3.org/2001/XMLSchema#decimal',\n",
       "                                    'type': 'typed-literal',\n",
       "                                    'value': '31'},\n",
       "                           '在所児童': {'datatype': 'http://www.w3.org/2001/XMLSchema#decimal',\n",
       "                                    'type': 'typed-literal',\n",
       "                                    'value': '2400'},\n",
       "                           '市区町村': {'type': 'literal',\n",
       "                                    'value': '三鷹市',\n",
       "                                    'xml:lang': 'ja'},\n",
       "                           '待機児童': {'datatype': 'http://www.w3.org/2001/XMLSchema#decimal',\n",
       "                                    'type': 'typed-literal',\n",
       "                                    'value': '160'}},\n",
       "                          {'保育所数': {'datatype': 'http://www.w3.org/2001/XMLSchema#decimal',\n",
       "                                    'type': 'typed-literal',\n",
       "                                    'value': '9'},\n",
       "                           '在所児童': {'datatype': 'http://www.w3.org/2001/XMLSchema#decimal',\n",
       "                                    'type': 'typed-literal',\n",
       "                                    'value': '919'},\n",
       "                           '市区町村': {'type': 'literal',\n",
       "                                    'value': '狛江市',\n",
       "                                    'xml:lang': 'ja'},\n",
       "                           '待機児童': {'datatype': 'http://www.w3.org/2001/XMLSchema#decimal',\n",
       "                                    'type': 'typed-literal',\n",
       "                                    'value': '47'}},\n",
       "                          {'保育所数': {'datatype': 'http://www.w3.org/2001/XMLSchema#decimal',\n",
       "                                    'type': 'typed-literal',\n",
       "                                    'value': '7'},\n",
       "                           '在所児童': {'datatype': 'http://www.w3.org/2001/XMLSchema#decimal',\n",
       "                                    'type': 'typed-literal',\n",
       "                                    'value': '618'},\n",
       "                           '市区町村': {'type': 'literal',\n",
       "                                    'value': '瑞穂町',\n",
       "                                    'xml:lang': 'ja'},\n",
       "                           '待機児童': {'datatype': 'http://www.w3.org/2001/XMLSchema#decimal',\n",
       "                                    'type': 'typed-literal',\n",
       "                                    'value': '1'}},\n",
       "                          {'保育所数': {'datatype': 'http://www.w3.org/2001/XMLSchema#decimal',\n",
       "                                    'type': 'typed-literal',\n",
       "                                    'value': '19'},\n",
       "                           '在所児童': {'datatype': 'http://www.w3.org/2001/XMLSchema#decimal',\n",
       "                                    'type': 'typed-literal',\n",
       "                                    'value': '2517'},\n",
       "                           '市区町村': {'type': 'literal',\n",
       "                                    'value': '昭島市',\n",
       "                                    'xml:lang': 'ja'},\n",
       "                           '待機児童': {'datatype': 'http://www.w3.org/2001/XMLSchema#decimal',\n",
       "                                    'type': 'typed-literal',\n",
       "                                    'value': '46'}}]}}"
      ]
     },
     "metadata": {},
     "output_type": "display_data"
    }
   ],
   "source": [
    "%endpoint http://data.e-stat.go.jp/lod/sparql/query\n",
    "%display raw\n",
    "PREFIX ssds-measure-2016:<http://data.e-stat.go.jp/lod/ontology/systemOfSocialAndDemographicStatistics/measure/2016/>\n",
    "PREFIX cd-dimension:<http://data.e-stat.go.jp/lod/ontology/crossDomain/dimension/> \n",
    "PREFIX ic:<http://imi.ipa.go.jp/ns/core/rdf#> \n",
    "select ?市区町村 ?保育所数  ?在所児童 ?待機児童\n",
    "where{\n",
    "    ?s1 ssds-measure-2016:J250502 ?待機児童;\n",
    "        cd-dimension:standardAreaCode ?areacode.\n",
    "     ?areacode ic:都道府県  \"東京都\"@ja;\n",
    "         ic:市区町村 ?市区町村.\n",
    "    ?s2 ssds-measure-2016:J2503 ?保育所数;\n",
    "        cd-dimension:standardAreaCode ?areacode.\n",
    "    ?s3 ssds-measure-2016:J2506 ?在所児童;\n",
    "        cd-dimension:standardAreaCode ?areacode.\n",
    "}\n",
    "ORDER BY DESC(?待機児童数)\n",
    "LIMIT 20"
   ]
  },
  {
   "cell_type": "markdown",
   "metadata": {},
   "source": [
    "さらに関係ありそうなデータをエリアコードをキーに追加していきたいと思います。\n",
    "統計LODサポートで今度は「病院」を検索します。「一般病院数」のプロパティがあるのでこれをSPARQLに追加します。\n",
    "また最初のサンプルで取得しているような、区毎の人口もざっくり（全年齢、全盛別の値で）追加してみます。"
   ]
  },
  {
   "cell_type": "code",
   "execution_count": 7,
   "metadata": {
    "collapsed": false,
    "scrolled": false
   },
   "outputs": [
    {
     "data": {
      "text/html": [
       "<div class=\"krn-spql\"><div class=\"magic\">Endpoint set to: http://data.e-stat.go.jp/lod/sparql/query</div><div class=\"magic\">Display: table</div></div>"
      ],
      "text/plain": [
       "Endpoint set to: http://data.e-stat.go.jp/lod/sparql/query\n",
       "Display: table\n"
      ]
     },
     "metadata": {},
     "output_type": "display_data"
    },
    {
     "data": {
      "text/html": [
       "<div class=\"krn-spql\"><table><tr class=hdr><th>siku</th>\n",
       "<th>hoikusyo</th>\n",
       "<th>zaisyo</th>\n",
       "<th>taiki</th>\n",
       "<th>hospital</th>\n",
       "<th>jinko</th></tr><tr class=odd><td class=val>特別区部</td>\n",
       "<td class=val>1158</td>\n",
       "<td class=val>115921</td>\n",
       "<td class=val>5279</td>\n",
       "<td class=val>407</td>\n",
       "<td class=val>8500358</td></tr><tr class=even><td class=val>世田谷区</td>\n",
       "<td class=val>82</td>\n",
       "<td class=val>8912</td>\n",
       "<td class=val>884</td>\n",
       "<td class=val>25</td>\n",
       "<td class=val>860559</td></tr><tr class=odd><td class=val>練馬区</td>\n",
       "<td class=val>89</td>\n",
       "<td class=val>8814</td>\n",
       "<td class=val>578</td>\n",
       "<td class=val>17</td>\n",
       "<td class=val>694121</td></tr><tr class=even><td class=val>大田区</td>\n",
       "<td class=val>84</td>\n",
       "<td class=val>8756</td>\n",
       "<td class=val>438</td>\n",
       "<td class=val>27</td>\n",
       "<td class=val>666330</td></tr><tr class=odd><td class=val>板橋区</td>\n",
       "<td class=val>93</td>\n",
       "<td class=val>8477</td>\n",
       "<td class=val>417</td>\n",
       "<td class=val>41</td>\n",
       "<td class=val>495700</td></tr><tr class=even><td class=val>江東区</td>\n",
       "<td class=val>72</td>\n",
       "<td class=val>7002</td>\n",
       "<td class=val>416</td>\n",
       "<td class=val>17</td>\n",
       "<td class=val>444062</td></tr><tr class=odd><td class=val>足立区</td>\n",
       "<td class=val>88</td>\n",
       "<td class=val>8847</td>\n",
       "<td class=val>294</td>\n",
       "<td class=val>47</td>\n",
       "<td class=val>656755</td></tr><tr class=even><td class=val>杉並区</td>\n",
       "<td class=val>55</td>\n",
       "<td class=val>5390</td>\n",
       "<td class=val>285</td>\n",
       "<td class=val>17</td>\n",
       "<td class=val>506982</td></tr><tr class=odd><td class=val>豊島区</td>\n",
       "<td class=val>31</td>\n",
       "<td class=val>3041</td>\n",
       "<td class=val>270</td>\n",
       "<td class=val>15</td>\n",
       "<td class=val>261282</td></tr><tr class=even><td class=val>町田市</td>\n",
       "<td class=val>56</td>\n",
       "<td class=val>5257</td>\n",
       "<td class=val>257</td>\n",
       "<td class=val>14</td>\n",
       "<td class=val>419062</td></tr><tr class=odd><td class=val>八王子市</td>\n",
       "<td class=val>82</td>\n",
       "<td class=val>9172</td>\n",
       "<td class=val>253</td>\n",
       "<td class=val>33</td>\n",
       "<td class=val>568293</td></tr><tr class=even><td class=val>調布市</td>\n",
       "<td class=val>28</td>\n",
       "<td class=val>2702</td>\n",
       "<td class=val>249</td>\n",
       "<td class=val>6</td>\n",
       "<td class=val>215461</td></tr><tr class=odd><td class=val>港区</td>\n",
       "<td class=val>21</td>\n",
       "<td class=val>2111</td>\n",
       "<td class=val>195</td>\n",
       "<td class=val>15</td>\n",
       "<td class=val>191967</td></tr><tr class=even><td class=val>中央区</td>\n",
       "<td class=val>20</td>\n",
       "<td class=val>1920</td>\n",
       "<td class=val>193</td>\n",
       "<td class=val>4</td>\n",
       "<td class=val>118767</td></tr><tr class=odd><td class=val>江戸川区</td>\n",
       "<td class=val>83</td>\n",
       "<td class=val>9544</td>\n",
       "<td class=val>192</td>\n",
       "<td class=val>21</td>\n",
       "<td class=val>641937</td></tr><tr class=even><td class=val>小金井市</td>\n",
       "<td class=val>13</td>\n",
       "<td class=val>1404</td>\n",
       "<td class=val>188</td>\n",
       "<td class=val>4</td>\n",
       "<td class=val>114970</td></tr><tr class=odd><td class=val>西東京市</td>\n",
       "<td class=val>25</td>\n",
       "<td class=val>2522</td>\n",
       "<td class=val>184</td>\n",
       "<td class=val>4</td>\n",
       "<td class=val>192817</td></tr><tr class=even><td class=val>墨田区</td>\n",
       "<td class=val>42</td>\n",
       "<td class=val>4106</td>\n",
       "<td class=val>181</td>\n",
       "<td class=val>14</td>\n",
       "<td class=val>237617</td></tr><tr class=odd><td class=val>武蔵野市</td>\n",
       "<td class=val>15</td>\n",
       "<td class=val>1437</td>\n",
       "<td class=val>181</td>\n",
       "<td class=val>10</td>\n",
       "<td class=val>134890</td></tr><tr class=even><td class=val>府中市</td>\n",
       "<td class=val>40</td>\n",
       "<td class=val>4176</td>\n",
       "<td class=val>181</td>\n",
       "<td class=val>13</td>\n",
       "<td class=val>247986</td></tr></table><div class=\"tinfo\">Total: 20, Shown: 20</div></div>"
      ]
     },
     "metadata": {},
     "output_type": "display_data"
    }
   ],
   "source": [
    "%endpoint http://data.e-stat.go.jp/lod/sparql/query\n",
    "%display table\n",
    "PREFIX ssds-measure-2016:<http://data.e-stat.go.jp/lod/ontology/systemOfSocialAndDemographicStatistics/measure/2016/>\n",
    "PREFIX cd-dimension:<http://data.e-stat.go.jp/lod/ontology/crossDomain/dimension/> \n",
    "PREFIX pc-measure-2010:<http://data.e-stat.go.jp/lod/ontology/populationCensus/measure/2010/> \n",
    "PREFIX pc-dimension-2010:<http://data.e-stat.go.jp/lod/ontology/populationCensus/dimension/2010/> \n",
    "PREFIX cd-dimension-2016:<http://data.e-stat.go.jp/lod/ontology/crossDomain/dimension/2016/> \n",
    "PREFIX pc-code-2010:<http://data.e-stat.go.jp/lod/ontology/populationCensus/code/2010/> \n",
    "PREFIX cd-code-2016:<http://data.e-stat.go.jp/lod/ontology/crossDomain/code/2016/> \n",
    "PREFIX ic:<http://imi.ipa.go.jp/ns/core/rdf#> \n",
    "select ?siku ?hoikusyo  ?zaisyo ?taiki ?hospital ?jinko\n",
    "where{\n",
    "    ?s1 ssds-measure-2016:J250502 ?taiki;\n",
    "        cd-dimension:standardAreaCode ?areacode.\n",
    "     ?areacode ic:都道府県  \"東京都\"@ja;\n",
    "         ic:市区町村 ?siku.\n",
    "    ?s2 ssds-measure-2016:J2503 ?hoikusyo;\n",
    "        cd-dimension:standardAreaCode ?areacode.\n",
    "    ?s3 ssds-measure-2016:J2506 ?zaisyo;\n",
    "        cd-dimension:standardAreaCode ?areacode.\n",
    "    ?s4 ssds-measure-2016:I510120 ?hospital;\n",
    "        cd-dimension:standardAreaCode ?areacode.\n",
    "?s5 pc-measure-2010:population ?jinko;\n",
    "        cd-dimension:standardAreaCode ?areacode;\n",
    "        cd-dimension-2016:sex cd-code-2016:sex-total; \n",
    "         cd-dimension-2016:nationality cd-code-2016:nationality-japanese; \n",
    "         pc-dimension-2010:area pc-code-2010:area-all; \n",
    "         cd-dimension-2016:age cd-code-2016:age-total .\n",
    "}\n",
    "ORDER BY DESC(?taiki)\n",
    "LIMIT 20"
   ]
  },
  {
   "cell_type": "markdown",
   "metadata": {},
   "source": [
    "保育所待機児童数でソートして表示してみました。市区町村の特別区部とは一般的には23区を指すようですが、市区町村とは別にデータが有るのがちょっと気になります。\n",
    "\n",
    "現状（2016-12-30）だと、エンドポイントのレスポンスがこのぐらいのクエリになるとかなり時間がかかります。"
   ]
  },
  {
   "cell_type": "markdown",
   "metadata": {},
   "source": [
    "### 集計したセルを含めてみる\n",
    "本来データを取得してから、別のプロセスで集計を行うべきだと思うのですが、SPARQLで簡単な四則演算を反映した値を取得することもできます。試しに市区町村の人口に対する保育所数の比率を変数として取得してみます。"
   ]
  },
  {
   "cell_type": "code",
   "execution_count": 8,
   "metadata": {
    "collapsed": false,
    "scrolled": true
   },
   "outputs": [
    {
     "data": {
      "text/html": [
       "<div class=\"krn-spql\"><div class=\"magic\">Endpoint set to: http://data.e-stat.go.jp/lod/sparql/query</div><div class=\"magic\">Display: table</div></div>"
      ],
      "text/plain": [
       "Endpoint set to: http://data.e-stat.go.jp/lod/sparql/query\n",
       "Display: table\n"
      ]
     },
     "metadata": {},
     "output_type": "display_data"
    },
    {
     "data": {
      "text/html": [
       "<div class=\"krn-spql\"><table><tr class=hdr><th>siku</th>\n",
       "<th>hoikusyo</th>\n",
       "<th>zaisyo</th>\n",
       "<th>taiki</th>\n",
       "<th>hospital</th>\n",
       "<th>jinko</th>\n",
       "<th>rate</th></tr><tr class=odd><td class=val>特別区部</td>\n",
       "<td class=val>1158</td>\n",
       "<td class=val>115921</td>\n",
       "<td class=val>5279</td>\n",
       "<td class=val>407</td>\n",
       "<td class=val>8500358</td>\n",
       "<td class=val>.000136229556449269548411961002113087472316</td></tr><tr class=even><td class=val>世田谷区</td>\n",
       "<td class=val>82</td>\n",
       "<td class=val>8912</td>\n",
       "<td class=val>884</td>\n",
       "<td class=val>25</td>\n",
       "<td class=val>860559</td>\n",
       "<td class=val>.00009528690072383183488871768234368590648637</td></tr><tr class=odd><td class=val>練馬区</td>\n",
       "<td class=val>89</td>\n",
       "<td class=val>8814</td>\n",
       "<td class=val>578</td>\n",
       "<td class=val>17</td>\n",
       "<td class=val>694121</td>\n",
       "<td class=val>.000128219719616608631636270909538826803972</td></tr><tr class=even><td class=val>大田区</td>\n",
       "<td class=val>84</td>\n",
       "<td class=val>8756</td>\n",
       "<td class=val>438</td>\n",
       "<td class=val>27</td>\n",
       "<td class=val>666330</td>\n",
       "<td class=val>.000126063662149385439647021745981720768988</td></tr><tr class=odd><td class=val>板橋区</td>\n",
       "<td class=val>93</td>\n",
       "<td class=val>8477</td>\n",
       "<td class=val>417</td>\n",
       "<td class=val>41</td>\n",
       "<td class=val>495700</td>\n",
       "<td class=val>.000187613475892677022392576154932418801695</td></tr><tr class=even><td class=val>江東区</td>\n",
       "<td class=val>72</td>\n",
       "<td class=val>7002</td>\n",
       "<td class=val>416</td>\n",
       "<td class=val>17</td>\n",
       "<td class=val>444062</td>\n",
       "<td class=val>.000162139521057870297390904873643770464485</td></tr><tr class=odd><td class=val>足立区</td>\n",
       "<td class=val>88</td>\n",
       "<td class=val>8847</td>\n",
       "<td class=val>294</td>\n",
       "<td class=val>47</td>\n",
       "<td class=val>656755</td>\n",
       "<td class=val>.000133992127962482204170504982832258604807</td></tr><tr class=even><td class=val>杉並区</td>\n",
       "<td class=val>55</td>\n",
       "<td class=val>5390</td>\n",
       "<td class=val>285</td>\n",
       "<td class=val>17</td>\n",
       "<td class=val>506982</td>\n",
       "<td class=val>.00010848511386992043110011795290562584076</td></tr><tr class=odd><td class=val>豊島区</td>\n",
       "<td class=val>31</td>\n",
       "<td class=val>3041</td>\n",
       "<td class=val>270</td>\n",
       "<td class=val>15</td>\n",
       "<td class=val>261282</td>\n",
       "<td class=val>.000118645754395633836238240674826432743166</td></tr><tr class=even><td class=val>町田市</td>\n",
       "<td class=val>56</td>\n",
       "<td class=val>5257</td>\n",
       "<td class=val>257</td>\n",
       "<td class=val>14</td>\n",
       "<td class=val>419062</td>\n",
       "<td class=val>.000133631777636722012494571209033508168242</td></tr><tr class=odd><td class=val>八王子市</td>\n",
       "<td class=val>82</td>\n",
       "<td class=val>9172</td>\n",
       "<td class=val>253</td>\n",
       "<td class=val>33</td>\n",
       "<td class=val>568293</td>\n",
       "<td class=val>.000144291764987427260233717466166220593954</td></tr><tr class=even><td class=val>調布市</td>\n",
       "<td class=val>28</td>\n",
       "<td class=val>2702</td>\n",
       "<td class=val>249</td>\n",
       "<td class=val>6</td>\n",
       "<td class=val>215461</td>\n",
       "<td class=val>.000129953912773077262242354764899448159992</td></tr><tr class=odd><td class=val>港区</td>\n",
       "<td class=val>21</td>\n",
       "<td class=val>2111</td>\n",
       "<td class=val>195</td>\n",
       "<td class=val>15</td>\n",
       "<td class=val>191967</td>\n",
       "<td class=val>.000109393802059729015924612042694838175311</td></tr><tr class=even><td class=val>中央区</td>\n",
       "<td class=val>20</td>\n",
       "<td class=val>1920</td>\n",
       "<td class=val>193</td>\n",
       "<td class=val>4</td>\n",
       "<td class=val>118767</td>\n",
       "<td class=val>.000168396945279412631454865408741485429454</td></tr><tr class=odd><td class=val>江戸川区</td>\n",
       "<td class=val>83</td>\n",
       "<td class=val>9544</td>\n",
       "<td class=val>192</td>\n",
       "<td class=val>21</td>\n",
       "<td class=val>641937</td>\n",
       "<td class=val>.000129296177039179857213402561310533588187</td></tr><tr class=even><td class=val>小金井市</td>\n",
       "<td class=val>13</td>\n",
       "<td class=val>1404</td>\n",
       "<td class=val>188</td>\n",
       "<td class=val>4</td>\n",
       "<td class=val>114970</td>\n",
       "<td class=val>.000113072975558841436896581716969644255023</td></tr><tr class=odd><td class=val>西東京市</td>\n",
       "<td class=val>25</td>\n",
       "<td class=val>2522</td>\n",
       "<td class=val>184</td>\n",
       "<td class=val>4</td>\n",
       "<td class=val>192817</td>\n",
       "<td class=val>.00012965661741443959816821130916879735708</td></tr><tr class=even><td class=val>墨田区</td>\n",
       "<td class=val>42</td>\n",
       "<td class=val>4106</td>\n",
       "<td class=val>181</td>\n",
       "<td class=val>14</td>\n",
       "<td class=val>237617</td>\n",
       "<td class=val>.000176755030153566453578658092644886519062</td></tr><tr class=odd><td class=val>武蔵野市</td>\n",
       "<td class=val>15</td>\n",
       "<td class=val>1437</td>\n",
       "<td class=val>181</td>\n",
       "<td class=val>10</td>\n",
       "<td class=val>134890</td>\n",
       "<td class=val>.000111201719919934761657646971606494180443</td></tr><tr class=even><td class=val>府中市</td>\n",
       "<td class=val>40</td>\n",
       "<td class=val>4176</td>\n",
       "<td class=val>181</td>\n",
       "<td class=val>13</td>\n",
       "<td class=val>247986</td>\n",
       "<td class=val>.000161299428193527053946593759325123192438</td></tr></table><div class=\"tinfo\">Total: 20, Shown: 20</div></div>"
      ]
     },
     "metadata": {},
     "output_type": "display_data"
    }
   ],
   "source": [
    "%endpoint http://data.e-stat.go.jp/lod/sparql/query\n",
    "%display table\n",
    "PREFIX ssds-measure-2016:<http://data.e-stat.go.jp/lod/ontology/systemOfSocialAndDemographicStatistics/measure/2016/>\n",
    "PREFIX cd-dimension:<http://data.e-stat.go.jp/lod/ontology/crossDomain/dimension/> \n",
    "PREFIX pc-measure-2010:<http://data.e-stat.go.jp/lod/ontology/populationCensus/measure/2010/> \n",
    "PREFIX pc-dimension-2010:<http://data.e-stat.go.jp/lod/ontology/populationCensus/dimension/2010/> \n",
    "PREFIX cd-dimension-2016:<http://data.e-stat.go.jp/lod/ontology/crossDomain/dimension/2016/> \n",
    "PREFIX pc-code-2010:<http://data.e-stat.go.jp/lod/ontology/populationCensus/code/2010/> \n",
    "PREFIX cd-code-2016:<http://data.e-stat.go.jp/lod/ontology/crossDomain/code/2016/> \n",
    "PREFIX ic:<http://imi.ipa.go.jp/ns/core/rdf#> \n",
    "PREFIX xsd: <http://www.w3.org/2001/XMLSchema#> \n",
    "select ?siku ?hoikusyo  ?zaisyo ?taiki ?hospital ?jinko ?rate\n",
    "where{\n",
    "    ?s1 ssds-measure-2016:J250502 ?taiki;\n",
    "        cd-dimension:standardAreaCode ?areacode.\n",
    "     ?areacode ic:都道府県  \"東京都\"@ja;\n",
    "         ic:市区町村 ?siku.\n",
    "    ?s2 ssds-measure-2016:J2503 ?hoikusyo;\n",
    "        cd-dimension:standardAreaCode ?areacode.\n",
    "    ?s3 ssds-measure-2016:J2506 ?zaisyo;\n",
    "        cd-dimension:standardAreaCode ?areacode.\n",
    "    ?s4 ssds-measure-2016:I510120 ?hospital;\n",
    "        cd-dimension:standardAreaCode ?areacode.\n",
    "    ?s5 pc-measure-2010:population ?jinko;\n",
    "        cd-dimension:standardAreaCode ?areacode;\n",
    "        cd-dimension-2016:sex cd-code-2016:sex-total; \n",
    "         cd-dimension-2016:nationality cd-code-2016:nationality-japanese; \n",
    "         pc-dimension-2010:area pc-code-2010:area-all; \n",
    "         cd-dimension-2016:age cd-code-2016:age-total .\n",
    "    BIND (xsd:int(?hoikusyo)/xsd:int(?jinko) as ?rate)\n",
    "}\n",
    "ORDER BY DESC(?taiki)\n",
    "LIMIT 20"
   ]
  },
  {
   "cell_type": "markdown",
   "metadata": {},
   "source": [
    "## 地域の人口の増減に関わる要素を取得してみる\n",
    "\n",
    "[統計LODのスキーマ情報/測度](http://data.e-stat.go.jp/lodw/rdfschema/measure/#measure_numberOfEstablishments)で関係しそうなプロパティをピックアップし、データを取得してみることにします。\n",
    "\n",
    "[共通語彙基盤](http://imi.go.jp/ns/core/Core232.html)を見るとエリアコードは市区町村にも対応しているようです。\n",
    "id:市区町村とic:都道府県で文字列情報を取得しつつ、エリアコードをキーに色々データを最終的に結合してみることにします。"
   ]
  },
  {
   "cell_type": "code",
   "execution_count": 39,
   "metadata": {
    "collapsed": false
   },
   "outputs": [
    {
     "data": {
      "text/html": [
       "<div class=\"krn-spql\"><div class=\"magic\">Endpoint set to: http://data.e-stat.go.jp/lod/sparql/query</div><div class=\"magic\">Display: table</div></div>"
      ],
      "text/plain": [
       "Endpoint set to: http://data.e-stat.go.jp/lod/sparql/query\n",
       "Display: table\n"
      ]
     },
     "metadata": {},
     "output_type": "display_data"
    },
    {
     "data": {
      "text/html": [
       "<div class=\"krn-spql\"><table><tr class=hdr><th>o</th>\n",
       "<th>ken</th>\n",
       "<th>siku</th>\n",
       "<th>areacode</th></tr><tr class=odd><td class=val>7519</td>\n",
       "<td class=val>北海道</td>\n",
       "<td class=val>池田町</td>\n",
       "<td class=val><a href=\"http://data.e-stat.go.jp/lod/sac/C01644-19700401\" target=\"_other\">http://data.e-stat.go.jp/lod/sac/C01644-19700401</a></td></tr><tr class=even><td class=val>2960</td>\n",
       "<td class=val>兵庫県</td>\n",
       "<td class=val>三日月町</td>\n",
       "<td class=val><a href=\"http://data.e-stat.go.jp/lod/sac/C28504-20051001\" target=\"_other\">http://data.e-stat.go.jp/lod/sac/C28504-20051001</a></td></tr><tr class=odd><td class=val>6366</td>\n",
       "<td class=val>岩手県</td>\n",
       "<td class=val>松尾村</td>\n",
       "<td class=val><a href=\"http://data.e-stat.go.jp/lod/sac/C03306-20050901\" target=\"_other\">http://data.e-stat.go.jp/lod/sac/C03306-20050901</a></td></tr><tr class=even><td class=val>76953</td>\n",
       "<td class=val>新潟県</td>\n",
       "<td class=val>北区</td>\n",
       "<td class=val><a href=\"http://data.e-stat.go.jp/lod/sac/C15101-20070401\" target=\"_other\">http://data.e-stat.go.jp/lod/sac/C15101-20070401</a></td></tr><tr class=odd><td class=val>15319</td>\n",
       "<td class=val>北海道</td>\n",
       "<td class=val>倶知安町</td>\n",
       "<td class=val><a href=\"http://data.e-stat.go.jp/lod/sac/C01400-19700401\" target=\"_other\">http://data.e-stat.go.jp/lod/sac/C01400-19700401</a></td></tr><tr class=even><td class=val>1258</td>\n",
       "<td class=val>鹿児島県</td>\n",
       "<td class=val>里村</td>\n",
       "<td class=val><a href=\"http://data.e-stat.go.jp/lod/sac/C46388-20041012\" target=\"_other\">http://data.e-stat.go.jp/lod/sac/C46388-20041012</a></td></tr><tr class=odd><td class=val>270897</td>\n",
       "<td class=val>神奈川県</td>\n",
       "<td class=val>戸塚区</td>\n",
       "<td class=val><a href=\"http://data.e-stat.go.jp/lod/sac/C14110-19861103\" target=\"_other\">http://data.e-stat.go.jp/lod/sac/C14110-19861103</a></td></tr><tr class=even><td class=val>24028</td>\n",
       "<td class=val>愛媛県</td>\n",
       "<td class=val>南宇和郡</td>\n",
       "<td class=val><a href=\"http://data.e-stat.go.jp/lod/sac/C38500-19700401\" target=\"_other\">http://data.e-stat.go.jp/lod/sac/C38500-19700401</a></td></tr><tr class=odd><td class=val>16247</td>\n",
       "<td class=val>沖縄県</td>\n",
       "<td class=val>与那原町</td>\n",
       "<td class=val><a href=\"http://data.e-stat.go.jp/lod/sac/C47348-19981221\" target=\"_other\">http://data.e-stat.go.jp/lod/sac/C47348-19981221</a></td></tr><tr class=even><td class=val>2732</td>\n",
       "<td class=val>広島県</td>\n",
       "<td class=val>甲奴町</td>\n",
       "<td class=val><a href=\"http://data.e-stat.go.jp/lod/sac/C34563-20040401\" target=\"_other\">http://data.e-stat.go.jp/lod/sac/C34563-20040401</a></td></tr><tr class=odd><td class=val>11967</td>\n",
       "<td class=val>栃木県</td>\n",
       "<td class=val>市貝町</td>\n",
       "<td class=val><a href=\"http://data.e-stat.go.jp/lod/sac/C09344-20070201\" target=\"_other\">http://data.e-stat.go.jp/lod/sac/C09344-20070201</a></td></tr><tr class=even><td class=val>7395</td>\n",
       "<td class=val>鳥取県</td>\n",
       "<td class=val>赤碕町</td>\n",
       "<td class=val><a href=\"http://data.e-stat.go.jp/lod/sac/C31369-20040901\" target=\"_other\">http://data.e-stat.go.jp/lod/sac/C31369-20040901</a></td></tr><tr class=odd><td class=val>55333</td>\n",
       "<td class=val>鹿児島県</td>\n",
       "<td class=val>出水市</td>\n",
       "<td class=val><a href=\"http://data.e-stat.go.jp/lod/sac/C46208-20060313\" target=\"_other\">http://data.e-stat.go.jp/lod/sac/C46208-20060313</a></td></tr><tr class=even><td class=val>17901</td>\n",
       "<td class=val>神奈川県</td>\n",
       "<td class=val>大井町</td>\n",
       "<td class=val><a href=\"http://data.e-stat.go.jp/lod/sac/C14362-19980401\" target=\"_other\">http://data.e-stat.go.jp/lod/sac/C14362-19980401</a></td></tr><tr class=odd><td class=val>7097</td>\n",
       "<td class=val>和歌山県</td>\n",
       "<td class=val>野上町</td>\n",
       "<td class=val><a href=\"http://data.e-stat.go.jp/lod/sac/C30302-20060101\" target=\"_other\">http://data.e-stat.go.jp/lod/sac/C30302-20060101</a></td></tr><tr class=even><td class=val>32618</td>\n",
       "<td class=val>熊本県</td>\n",
       "<td class=val>益城町</td>\n",
       "<td class=val><a href=\"http://data.e-stat.go.jp/lod/sac/C43443-19930601\" target=\"_other\">http://data.e-stat.go.jp/lod/sac/C43443-19930601</a></td></tr><tr class=odd><td class=val>4860</td>\n",
       "<td class=val>長野県</td>\n",
       "<td class=val>信州新町</td>\n",
       "<td class=val><a href=\"http://data.e-stat.go.jp/lod/sac/C20581-20100101\" target=\"_other\">http://data.e-stat.go.jp/lod/sac/C20581-20100101</a></td></tr><tr class=even><td class=val>5721</td>\n",
       "<td class=val>北海道</td>\n",
       "<td class=val>新冠町</td>\n",
       "<td class=val><a href=\"http://data.e-stat.go.jp/lod/sac/C01604-19700401\" target=\"_other\">http://data.e-stat.go.jp/lod/sac/C01604-19700401</a></td></tr><tr class=odd><td class=val>11732</td>\n",
       "<td class=val>北海道</td>\n",
       "<td class=val>門別町</td>\n",
       "<td class=val><a href=\"http://data.e-stat.go.jp/lod/sac/C01603-20060301\" target=\"_other\">http://data.e-stat.go.jp/lod/sac/C01603-20060301</a></td></tr><tr class=even><td class=val>72294</td>\n",
       "<td class=val>福島県</td>\n",
       "<td class=val>双葉郡</td>\n",
       "<td class=val><a href=\"http://data.e-stat.go.jp/lod/sac/C07540-19700401\" target=\"_other\">http://data.e-stat.go.jp/lod/sac/C07540-19700401</a></td></tr></table><div class=\"tinfo\">Total: 4059, Shown: 20</div></div>"
      ]
     },
     "metadata": {},
     "output_type": "display_data"
    }
   ],
   "source": [
    "%endpoint http://data.e-stat.go.jp/lod/sparql/query\n",
    "%display table\n",
    "PREFIX rdfs:<http://www.w3.org/2000/01/rdf-schema#> \n",
    "PREFIX cd-dimension:<http://data.e-stat.go.jp/lod/ontology/crossDomain/dimension/>\n",
    "PREFIX cd-dimension-2016:<http://data.e-stat.go.jp/lod/ontology/crossDomain/dimension/2016/> \n",
    "PREFIX cd-code-2016:<http://data.e-stat.go.jp/lod/ontology/crossDomain/code/2016/> \n",
    "PREFIX pc-measure-2010:<http://data.e-stat.go.jp/lod/ontology/populationCensus/measure/2010/>\n",
    "PREFIX pc-dimension-2010:<http://data.e-stat.go.jp/lod/ontology/populationCensus/dimension/2010/>\n",
    "PREFIX pc-code-2010:<http://data.e-stat.go.jp/lod/ontology/populationCensus/code/2010/> \n",
    "PREFIX ic:<http://imi.ipa.go.jp/ns/core/rdf#> \n",
    "select  ?o ?ken ?siku ?areacode\n",
    "where {\n",
    "      ?s pc-measure-2010:population ?o ;\n",
    "         cd-dimension:standardAreaCode ?areacode.\n",
    "      ?areacode  ic:都道府県 ?ken;\n",
    "         ic:市区町村 ?siku.\n",
    "      ?s cd-dimension-2016:nationality cd-code-2016:nationality-japanese ; \n",
    "         cd-dimension-2016:sex cd-code-2016:sex-total ; \n",
    "         pc-dimension-2010:area pc-code-2010:area-all ; \n",
    "         cd-dimension-2016:age cd-code-2016:age-total . \n",
    "}"
   ]
  },
  {
   "cell_type": "markdown",
   "metadata": {},
   "source": [
    "少し数分時間がかかるかもしれません。場合によってはタイムアウトするかも。"
   ]
  },
  {
   "cell_type": "markdown",
   "metadata": {},
   "source": [
    "同様に男女別など、少し細かく市町村区の人口を取得してみます。男女別、年齢別、、の目的語が色々有りそうなのでSPARQLでどんな次元があるか取得してみます。"
   ]
  },
  {
   "cell_type": "code",
   "execution_count": 5,
   "metadata": {
    "collapsed": false,
    "scrolled": true
   },
   "outputs": [
    {
     "data": {
      "text/html": [
       "<div class=\"krn-spql\"><div class=\"magic\">Endpoint set to: http://data.e-stat.go.jp/lod/sparql/query</div><div class=\"magic\">Display: table</div></div>"
      ],
      "text/plain": [
       "Endpoint set to: http://data.e-stat.go.jp/lod/sparql/query\n",
       "Display: table\n"
      ]
     },
     "metadata": {},
     "output_type": "display_data"
    },
    {
     "data": {
      "text/html": [
       "<div class=\"krn-spql\"><table><tr class=hdr><th>sex</th>\n",
       "<th>age</th></tr><tr class=odd><td class=val><a href=\"http://data.e-stat.go.jp/lod/ontology/crossDomain/code/2016/sex-male\" target=\"_other\">http://data.e-stat.go.jp/lod/ontology/crossDomain/code/2016/sex-male</a></td>\n",
       "<td class=val><a href=\"http://data.e-stat.go.jp/lod/ontology/crossDomain/code/2016/age-40-44\" target=\"_other\">http://data.e-stat.go.jp/lod/ontology/crossDomain/code/2016/age-40-44</a></td></tr><tr class=even><td class=val><a href=\"http://data.e-stat.go.jp/lod/ontology/crossDomain/code/2016/sex-male\" target=\"_other\">http://data.e-stat.go.jp/lod/ontology/crossDomain/code/2016/sex-male</a></td>\n",
       "<td class=val><a href=\"http://data.e-stat.go.jp/lod/ontology/crossDomain/code/2016/age-95-99\" target=\"_other\">http://data.e-stat.go.jp/lod/ontology/crossDomain/code/2016/age-95-99</a></td></tr><tr class=odd><td class=val><a href=\"http://data.e-stat.go.jp/lod/ontology/crossDomain/code/2016/sex-male\" target=\"_other\">http://data.e-stat.go.jp/lod/ontology/crossDomain/code/2016/sex-male</a></td>\n",
       "<td class=val><a href=\"http://data.e-stat.go.jp/lod/ontology/crossDomain/code/2016/age-20-24\" target=\"_other\">http://data.e-stat.go.jp/lod/ontology/crossDomain/code/2016/age-20-24</a></td></tr><tr class=even><td class=val><a href=\"http://data.e-stat.go.jp/lod/ontology/crossDomain/code/2016/sex-male\" target=\"_other\">http://data.e-stat.go.jp/lod/ontology/crossDomain/code/2016/sex-male</a></td>\n",
       "<td class=val><a href=\"http://data.e-stat.go.jp/lod/ontology/crossDomain/code/2016/age-92\" target=\"_other\">http://data.e-stat.go.jp/lod/ontology/crossDomain/code/2016/age-92</a></td></tr><tr class=odd><td class=val><a href=\"http://data.e-stat.go.jp/lod/ontology/crossDomain/code/2016/sex-male\" target=\"_other\">http://data.e-stat.go.jp/lod/ontology/crossDomain/code/2016/sex-male</a></td>\n",
       "<td class=val><a href=\"http://data.e-stat.go.jp/lod/ontology/crossDomain/code/2016/age-25\" target=\"_other\">http://data.e-stat.go.jp/lod/ontology/crossDomain/code/2016/age-25</a></td></tr><tr class=even><td class=val><a href=\"http://data.e-stat.go.jp/lod/ontology/crossDomain/code/2016/sex-male\" target=\"_other\">http://data.e-stat.go.jp/lod/ontology/crossDomain/code/2016/sex-male</a></td>\n",
       "<td class=val><a href=\"http://data.e-stat.go.jp/lod/ontology/crossDomain/code/2016/age-68\" target=\"_other\">http://data.e-stat.go.jp/lod/ontology/crossDomain/code/2016/age-68</a></td></tr><tr class=odd><td class=val><a href=\"http://data.e-stat.go.jp/lod/ontology/crossDomain/code/2016/sex-male\" target=\"_other\">http://data.e-stat.go.jp/lod/ontology/crossDomain/code/2016/sex-male</a></td>\n",
       "<td class=val><a href=\"http://data.e-stat.go.jp/lod/ontology/crossDomain/code/2016/age-5\" target=\"_other\">http://data.e-stat.go.jp/lod/ontology/crossDomain/code/2016/age-5</a></td></tr><tr class=even><td class=val><a href=\"http://data.e-stat.go.jp/lod/ontology/crossDomain/code/2016/sex-male\" target=\"_other\">http://data.e-stat.go.jp/lod/ontology/crossDomain/code/2016/sex-male</a></td>\n",
       "<td class=val><a href=\"http://data.e-stat.go.jp/lod/ontology/crossDomain/code/2016/age-9\" target=\"_other\">http://data.e-stat.go.jp/lod/ontology/crossDomain/code/2016/age-9</a></td></tr><tr class=odd><td class=val><a href=\"http://data.e-stat.go.jp/lod/ontology/crossDomain/code/2016/sex-male\" target=\"_other\">http://data.e-stat.go.jp/lod/ontology/crossDomain/code/2016/sex-male</a></td>\n",
       "<td class=val><a href=\"http://data.e-stat.go.jp/lod/ontology/crossDomain/code/2016/age-30\" target=\"_other\">http://data.e-stat.go.jp/lod/ontology/crossDomain/code/2016/age-30</a></td></tr><tr class=even><td class=val><a href=\"http://data.e-stat.go.jp/lod/ontology/crossDomain/code/2016/sex-male\" target=\"_other\">http://data.e-stat.go.jp/lod/ontology/crossDomain/code/2016/sex-male</a></td>\n",
       "<td class=val><a href=\"http://data.e-stat.go.jp/lod/ontology/crossDomain/code/2016/age-71\" target=\"_other\">http://data.e-stat.go.jp/lod/ontology/crossDomain/code/2016/age-71</a></td></tr><tr class=odd><td class=val><a href=\"http://data.e-stat.go.jp/lod/ontology/crossDomain/code/2016/sex-male\" target=\"_other\">http://data.e-stat.go.jp/lod/ontology/crossDomain/code/2016/sex-male</a></td>\n",
       "<td class=val><a href=\"http://data.e-stat.go.jp/lod/ontology/crossDomain/code/2016/age-36\" target=\"_other\">http://data.e-stat.go.jp/lod/ontology/crossDomain/code/2016/age-36</a></td></tr><tr class=even><td class=val><a href=\"http://data.e-stat.go.jp/lod/ontology/crossDomain/code/2016/sex-male\" target=\"_other\">http://data.e-stat.go.jp/lod/ontology/crossDomain/code/2016/sex-male</a></td>\n",
       "<td class=val><a href=\"http://data.e-stat.go.jp/lod/ontology/crossDomain/code/2016/age-75-79\" target=\"_other\">http://data.e-stat.go.jp/lod/ontology/crossDomain/code/2016/age-75-79</a></td></tr><tr class=odd><td class=val><a href=\"http://data.e-stat.go.jp/lod/ontology/crossDomain/code/2016/sex-male\" target=\"_other\">http://data.e-stat.go.jp/lod/ontology/crossDomain/code/2016/sex-male</a></td>\n",
       "<td class=val><a href=\"http://data.e-stat.go.jp/lod/ontology/crossDomain/code/2016/age-21\" target=\"_other\">http://data.e-stat.go.jp/lod/ontology/crossDomain/code/2016/age-21</a></td></tr><tr class=even><td class=val><a href=\"http://data.e-stat.go.jp/lod/ontology/crossDomain/code/2016/sex-male\" target=\"_other\">http://data.e-stat.go.jp/lod/ontology/crossDomain/code/2016/sex-male</a></td>\n",
       "<td class=val><a href=\"http://data.e-stat.go.jp/lod/ontology/crossDomain/code/2016/age-6\" target=\"_other\">http://data.e-stat.go.jp/lod/ontology/crossDomain/code/2016/age-6</a></td></tr><tr class=odd><td class=val><a href=\"http://data.e-stat.go.jp/lod/ontology/crossDomain/code/2016/sex-male\" target=\"_other\">http://data.e-stat.go.jp/lod/ontology/crossDomain/code/2016/sex-male</a></td>\n",
       "<td class=val><a href=\"http://data.e-stat.go.jp/lod/ontology/crossDomain/code/2016/age-85-89\" target=\"_other\">http://data.e-stat.go.jp/lod/ontology/crossDomain/code/2016/age-85-89</a></td></tr><tr class=even><td class=val><a href=\"http://data.e-stat.go.jp/lod/ontology/crossDomain/code/2016/sex-male\" target=\"_other\">http://data.e-stat.go.jp/lod/ontology/crossDomain/code/2016/sex-male</a></td>\n",
       "<td class=val><a href=\"http://data.e-stat.go.jp/lod/ontology/crossDomain/code/2016/age-12\" target=\"_other\">http://data.e-stat.go.jp/lod/ontology/crossDomain/code/2016/age-12</a></td></tr><tr class=odd><td class=val><a href=\"http://data.e-stat.go.jp/lod/ontology/crossDomain/code/2016/sex-male\" target=\"_other\">http://data.e-stat.go.jp/lod/ontology/crossDomain/code/2016/sex-male</a></td>\n",
       "<td class=val><a href=\"http://data.e-stat.go.jp/lod/ontology/crossDomain/code/2016/age-3\" target=\"_other\">http://data.e-stat.go.jp/lod/ontology/crossDomain/code/2016/age-3</a></td></tr><tr class=even><td class=val><a href=\"http://data.e-stat.go.jp/lod/ontology/crossDomain/code/2016/sex-male\" target=\"_other\">http://data.e-stat.go.jp/lod/ontology/crossDomain/code/2016/sex-male</a></td>\n",
       "<td class=val><a href=\"http://data.e-stat.go.jp/lod/ontology/crossDomain/code/2016/age-22\" target=\"_other\">http://data.e-stat.go.jp/lod/ontology/crossDomain/code/2016/age-22</a></td></tr><tr class=odd><td class=val><a href=\"http://data.e-stat.go.jp/lod/ontology/crossDomain/code/2016/sex-male\" target=\"_other\">http://data.e-stat.go.jp/lod/ontology/crossDomain/code/2016/sex-male</a></td>\n",
       "<td class=val><a href=\"http://data.e-stat.go.jp/lod/ontology/crossDomain/code/2016/age-2\" target=\"_other\">http://data.e-stat.go.jp/lod/ontology/crossDomain/code/2016/age-2</a></td></tr><tr class=even><td class=val><a href=\"http://data.e-stat.go.jp/lod/ontology/crossDomain/code/2016/sex-male\" target=\"_other\">http://data.e-stat.go.jp/lod/ontology/crossDomain/code/2016/sex-male</a></td>\n",
       "<td class=val><a href=\"http://data.e-stat.go.jp/lod/ontology/crossDomain/code/2016/age-67\" target=\"_other\">http://data.e-stat.go.jp/lod/ontology/crossDomain/code/2016/age-67</a></td></tr></table><div class=\"tinfo\">Total: 363, Shown: 20</div></div>"
      ]
     },
     "metadata": {},
     "output_type": "display_data"
    }
   ],
   "source": [
    "%endpoint http://data.e-stat.go.jp/lod/sparql/query\n",
    "%display table\n",
    "PREFIX rdfs:<http://www.w3.org/2000/01/rdf-schema#> \n",
    "PREFIX cd-dimension:<http://data.e-stat.go.jp/lod/ontology/crossDomain/dimension/>\n",
    "PREFIX cd-dimension-2016:<http://data.e-stat.go.jp/lod/ontology/crossDomain/dimension/2016/> \n",
    "PREFIX cd-code-2016:<http://data.e-stat.go.jp/lod/ontology/crossDomain/code/2016/> \n",
    "PREFIX pc-measure-2010:<http://data.e-stat.go.jp/lod/ontology/populationCensus/measure/2010/>\n",
    "PREFIX pc-dimension-2010:<http://data.e-stat.go.jp/lod/ontology/populationCensus/dimension/2010/>\n",
    "PREFIX pc-code-2010:<http://data.e-stat.go.jp/lod/ontology/populationCensus/code/2010/> \n",
    "PREFIX sac:<http://data.e-stat.go.jp/lod/sac/> \n",
    "PREFIX ic:<http://imi.ipa.go.jp/ns/core/rdf#> \n",
    "\n",
    "select  distinct ?sex ?age\n",
    "where {\n",
    "      ?s pc-measure-2010:population ?o ;\n",
    "         cd-dimension:standardAreaCode / ic:市区町村 \"静岡市\"@ja ;\n",
    "         cd-dimension-2016:sex ?sex; \n",
    "         cd-dimension-2016:age ?age . \n",
    "}"
   ]
  },
  {
   "cell_type": "markdown",
   "metadata": {},
   "source": [
    "cd-dimension-2016:ageの次元が思ったよりも細かい！\n",
    "とりあえず、ある市町村区の男女別の人口を取得するSPARQLを書くと、、男女一度に取得しようとするとタイムアウト？するようなので別々に取得してみます。女性の市区町村レベルの人口を取得するには……"
   ]
  },
  {
   "cell_type": "code",
   "execution_count": 20,
   "metadata": {
    "collapsed": false
   },
   "outputs": [
    {
     "data": {
      "text/html": [
       "<div class=\"krn-spql\"><div class=\"magic\">Endpoint set to: http://data.e-stat.go.jp/lod/sparql/query</div><div class=\"magic\">Display: table</div></div>"
      ],
      "text/plain": [
       "Endpoint set to: http://data.e-stat.go.jp/lod/sparql/query\n",
       "Display: table\n"
      ]
     },
     "metadata": {},
     "output_type": "display_data"
    },
    {
     "data": {
      "text/html": [
       "<div class=\"krn-spql\"><table><tr class=hdr><th>ken</th>\n",
       "<th>siku</th>\n",
       "<th>areacode</th>\n",
       "<th>fjinko</th></tr><tr class=odd><td class=val>岡山県</td>\n",
       "<td class=val>長船町</td>\n",
       "<td class=val><a href=\"http://data.e-stat.go.jp/lod/sac/C33363-20041101\" target=\"_other\">http://data.e-stat.go.jp/lod/sac/C33363-20041101</a></td>\n",
       "<td class=val>6487</td></tr><tr class=even><td class=val>広島県</td>\n",
       "<td class=val>久井町</td>\n",
       "<td class=val><a href=\"http://data.e-stat.go.jp/lod/sac/C34442-20050322\" target=\"_other\">http://data.e-stat.go.jp/lod/sac/C34442-20050322</a></td>\n",
       "<td class=val>2504</td></tr><tr class=odd><td class=val>茨城県</td>\n",
       "<td class=val>千代田町</td>\n",
       "<td class=val><a href=\"http://data.e-stat.go.jp/lod/sac/C08464-20050328\" target=\"_other\">http://data.e-stat.go.jp/lod/sac/C08464-20050328</a></td>\n",
       "<td class=val>13065</td></tr><tr class=even><td class=val>三重県</td>\n",
       "<td class=val>鈴鹿市</td>\n",
       "<td class=val><a href=\"http://data.e-stat.go.jp/lod/sac/C24207-19981001\" target=\"_other\">http://data.e-stat.go.jp/lod/sac/C24207-19981001</a></td>\n",
       "<td class=val>95413</td></tr><tr class=odd><td class=val>兵庫県</td>\n",
       "<td class=val>相生市</td>\n",
       "<td class=val><a href=\"http://data.e-stat.go.jp/lod/sac/C28208-19700401\" target=\"_other\">http://data.e-stat.go.jp/lod/sac/C28208-19700401</a></td>\n",
       "<td class=val>16043</td></tr><tr class=even><td class=val>大阪府</td>\n",
       "<td class=val>福島区</td>\n",
       "<td class=val><a href=\"http://data.e-stat.go.jp/lod/sac/C27103-19700401\" target=\"_other\">http://data.e-stat.go.jp/lod/sac/C27103-19700401</a></td>\n",
       "<td class=val>34807</td></tr><tr class=odd><td class=val>沖縄県</td>\n",
       "<td class=val>宜野座村</td>\n",
       "<td class=val><a href=\"http://data.e-stat.go.jp/lod/sac/C47313-19921101\" target=\"_other\">http://data.e-stat.go.jp/lod/sac/C47313-19921101</a></td>\n",
       "<td class=val>2669</td></tr><tr class=even><td class=val>長野県</td>\n",
       "<td class=val>茅野市</td>\n",
       "<td class=val><a href=\"http://data.e-stat.go.jp/lod/sac/C20214-20090701\" target=\"_other\">http://data.e-stat.go.jp/lod/sac/C20214-20090701</a></td>\n",
       "<td class=val>27741</td></tr><tr class=odd><td class=val>長崎県</td>\n",
       "<td class=val>上五島町</td>\n",
       "<td class=val><a href=\"http://data.e-stat.go.jp/lod/sac/C42407-20040801\" target=\"_other\">http://data.e-stat.go.jp/lod/sac/C42407-20040801</a></td>\n",
       "<td class=val>3264</td></tr><tr class=even><td class=val>和歌山県</td>\n",
       "<td class=val>川辺町</td>\n",
       "<td class=val><a href=\"http://data.e-stat.go.jp/lod/sac/C30384-20050501\" target=\"_other\">http://data.e-stat.go.jp/lod/sac/C30384-20050501</a></td>\n",
       "<td class=val>3440</td></tr><tr class=odd><td class=val>沖縄県</td>\n",
       "<td class=val>宮古郡</td>\n",
       "<td class=val><a href=\"http://data.e-stat.go.jp/lod/sac/C47370-19720607\" target=\"_other\">http://data.e-stat.go.jp/lod/sac/C47370-19720607</a></td>\n",
       "<td class=val>560</td></tr><tr class=even><td class=val>北海道</td>\n",
       "<td class=val>倶知安町</td>\n",
       "<td class=val><a href=\"http://data.e-stat.go.jp/lod/sac/C01400-19700401\" target=\"_other\">http://data.e-stat.go.jp/lod/sac/C01400-19700401</a></td>\n",
       "<td class=val>7706</td></tr><tr class=odd><td class=val>北海道</td>\n",
       "<td class=val>乙部町</td>\n",
       "<td class=val><a href=\"http://data.e-stat.go.jp/lod/sac/C01364-19700401\" target=\"_other\">http://data.e-stat.go.jp/lod/sac/C01364-19700401</a></td>\n",
       "<td class=val>2378</td></tr><tr class=even><td class=val>兵庫県</td>\n",
       "<td class=val>大河内町</td>\n",
       "<td class=val><a href=\"http://data.e-stat.go.jp/lod/sac/C28445-20051107\" target=\"_other\">http://data.e-stat.go.jp/lod/sac/C28445-20051107</a></td>\n",
       "<td class=val>2509</td></tr><tr class=odd><td class=val>秋田県</td>\n",
       "<td class=val>大潟村</td>\n",
       "<td class=val><a href=\"http://data.e-stat.go.jp/lod/sac/C05368-19770331\" target=\"_other\">http://data.e-stat.go.jp/lod/sac/C05368-19770331</a></td>\n",
       "<td class=val>1618</td></tr><tr class=even><td class=val>群馬県</td>\n",
       "<td class=val>倉渕村</td>\n",
       "<td class=val><a href=\"http://data.e-stat.go.jp/lod/sac/C10322-20060123\" target=\"_other\">http://data.e-stat.go.jp/lod/sac/C10322-20060123</a></td>\n",
       "<td class=val>2055</td></tr><tr class=odd><td class=val>島根県</td>\n",
       "<td class=val>桜江町</td>\n",
       "<td class=val><a href=\"http://data.e-stat.go.jp/lod/sac/C32447-20041001\" target=\"_other\">http://data.e-stat.go.jp/lod/sac/C32447-20041001</a></td>\n",
       "<td class=val>1606</td></tr><tr class=even><td class=val>岩手県</td>\n",
       "<td class=val>下閉伊郡</td>\n",
       "<td class=val><a href=\"http://data.e-stat.go.jp/lod/sac/C03480-19700401\" target=\"_other\">http://data.e-stat.go.jp/lod/sac/C03480-19700401</a></td>\n",
       "<td class=val>18911</td></tr><tr class=odd><td class=val>青森県</td>\n",
       "<td class=val>大間町</td>\n",
       "<td class=val><a href=\"http://data.e-stat.go.jp/lod/sac/C02423-19700401\" target=\"_other\">http://data.e-stat.go.jp/lod/sac/C02423-19700401</a></td>\n",
       "<td class=val>2952</td></tr><tr class=even><td class=val>福井県</td>\n",
       "<td class=val>三方郡</td>\n",
       "<td class=val><a href=\"http://data.e-stat.go.jp/lod/sac/C18440-19700401\" target=\"_other\">http://data.e-stat.go.jp/lod/sac/C18440-19700401</a></td>\n",
       "<td class=val>5238</td></tr></table><div class=\"tinfo\">Total: 4059, Shown: 20</div></div>"
      ]
     },
     "metadata": {},
     "output_type": "display_data"
    }
   ],
   "source": [
    "%endpoint http://data.e-stat.go.jp/lod/sparql/query\n",
    "%display table\n",
    "PREFIX rdfs:<http://www.w3.org/2000/01/rdf-schema#> \n",
    "PREFIX cd-dimension:<http://data.e-stat.go.jp/lod/ontology/crossDomain/dimension/>\n",
    "PREFIX cd-dimension-2016:<http://data.e-stat.go.jp/lod/ontology/crossDomain/dimension/2016/> \n",
    "PREFIX cd-code-2016:<http://data.e-stat.go.jp/lod/ontology/crossDomain/code/2016/> \n",
    "PREFIX pc-measure-2010:<http://data.e-stat.go.jp/lod/ontology/populationCensus/measure/2010/>\n",
    "PREFIX pc-dimension-2010:<http://data.e-stat.go.jp/lod/ontology/populationCensus/dimension/2010/>\n",
    "PREFIX pc-code-2010:<http://data.e-stat.go.jp/lod/ontology/populationCensus/code/2010/> \n",
    "PREFIX sac:<http://data.e-stat.go.jp/lod/sac/> \n",
    "PREFIX ic:<http://imi.ipa.go.jp/ns/core/rdf#> \n",
    "select ?ken ?siku ?areacode ?fjinko\n",
    "where {\n",
    "      ?s pc-measure-2010:population ?fjinko ;\n",
    "         cd-dimension:standardAreaCode ?areacode .\n",
    "      ?areacode  ic:都道府県 ?ken ;\n",
    "         ic:市区町村 ?siku .\n",
    "      ?s cd-dimension-2016:nationality cd-code-2016:nationality-japanese ; \n",
    "         cd-dimension-2016:sex cd-code-2016:sex-female ; \n",
    "         pc-dimension-2010:area pc-code-2010:area-all ; \n",
    "         cd-dimension-2016:age cd-code-2016:age-total .\n",
    "}"
   ]
  },
  {
   "cell_type": "markdown",
   "metadata": {},
   "source": [
    "次はsex-maleを取得。あとでarecodeをキーにデータをマージするコトにし、その他の情報は省略します。"
   ]
  },
  {
   "cell_type": "code",
   "execution_count": 22,
   "metadata": {
    "collapsed": false
   },
   "outputs": [
    {
     "data": {
      "text/html": [
       "<div class=\"krn-spql\"><div class=\"magic\">Endpoint set to: http://data.e-stat.go.jp/lod/sparql/query</div><div class=\"magic\">Display: table</div></div>"
      ],
      "text/plain": [
       "Endpoint set to: http://data.e-stat.go.jp/lod/sparql/query\n",
       "Display: table\n"
      ]
     },
     "metadata": {},
     "output_type": "display_data"
    },
    {
     "data": {
      "text/html": [
       "<div class=\"krn-spql\"><table><tr class=hdr><th>areacode</th>\n",
       "<th>mjinko</th></tr><tr class=odd><td class=val><a href=\"http://data.e-stat.go.jp/lod/sac/C36204-20060320\" target=\"_other\">http://data.e-stat.go.jp/lod/sac/C36204-20060320</a></td>\n",
       "<td class=val>36407</td></tr><tr class=even><td class=val><a href=\"http://data.e-stat.go.jp/lod/sac/C15562-20050319\" target=\"_other\">http://data.e-stat.go.jp/lod/sac/C15562-20050319</a></td>\n",
       "<td class=val>4540</td></tr><tr class=odd><td class=val><a href=\"http://data.e-stat.go.jp/lod/sac/C17407-20090901\" target=\"_other\">http://data.e-stat.go.jp/lod/sac/C17407-20090901</a></td>\n",
       "<td class=val>8820</td></tr><tr class=even><td class=val><a href=\"http://data.e-stat.go.jp/lod/sac/C45303-20060101\" target=\"_other\">http://data.e-stat.go.jp/lod/sac/C45303-20060101</a></td>\n",
       "<td class=val>15530</td></tr><tr class=odd><td class=val><a href=\"http://data.e-stat.go.jp/lod/sac/C42202-20160401\" target=\"_other\">http://data.e-stat.go.jp/lod/sac/C42202-20160401</a></td>\n",
       "<td class=val>120907</td></tr><tr class=even><td class=val><a href=\"http://data.e-stat.go.jp/lod/sac/C27205-20010401\" target=\"_other\">http://data.e-stat.go.jp/lod/sac/C27205-20010401</a></td>\n",
       "<td class=val>169314</td></tr><tr class=odd><td class=val><a href=\"http://data.e-stat.go.jp/lod/sac/C26340-19700401\" target=\"_other\">http://data.e-stat.go.jp/lod/sac/C26340-19700401</a></td>\n",
       "<td class=val>8823</td></tr><tr class=even><td class=val><a href=\"http://data.e-stat.go.jp/lod/sac/C01212-19700401\" target=\"_other\">http://data.e-stat.go.jp/lod/sac/C01212-19700401</a></td>\n",
       "<td class=val>11663</td></tr><tr class=odd><td class=val><a href=\"http://data.e-stat.go.jp/lod/sac/C17386-20060801\" target=\"_other\">http://data.e-stat.go.jp/lod/sac/C17386-20060801</a></td>\n",
       "<td class=val>6678</td></tr><tr class=even><td class=val><a href=\"http://data.e-stat.go.jp/lod/sac/C13222-19850208\" target=\"_other\">http://data.e-stat.go.jp/lod/sac/C13222-19850208</a></td>\n",
       "<td class=val>57184</td></tr><tr class=odd><td class=val><a href=\"http://data.e-stat.go.jp/lod/sac/C46391-20041012\" target=\"_other\">http://data.e-stat.go.jp/lod/sac/C46391-20041012</a></td>\n",
       "<td class=val>237</td></tr><tr class=even><td class=val><a href=\"http://data.e-stat.go.jp/lod/sac/C04444-19910401\" target=\"_other\">http://data.e-stat.go.jp/lod/sac/C04444-19910401</a></td>\n",
       "<td class=val>3571</td></tr><tr class=odd><td class=val><a href=\"http://data.e-stat.go.jp/lod/sac/C20452-20051011\" target=\"_other\">http://data.e-stat.go.jp/lod/sac/C20452-20051011</a></td>\n",
       "<td class=val>2477</td></tr><tr class=even><td class=val><a href=\"http://data.e-stat.go.jp/lod/sac/C21606-20050201\" target=\"_other\">http://data.e-stat.go.jp/lod/sac/C21606-20050201</a></td>\n",
       "<td class=val>1766</td></tr><tr class=odd><td class=val><a href=\"http://data.e-stat.go.jp/lod/sac/C44320-19700401\" target=\"_other\">http://data.e-stat.go.jp/lod/sac/C44320-19700401</a></td>\n",
       "<td class=val>1016</td></tr><tr class=even><td class=val><a href=\"http://data.e-stat.go.jp/lod/sac/C07484-19980601\" target=\"_other\">http://data.e-stat.go.jp/lod/sac/C07484-19980601</a></td>\n",
       "<td class=val>1973</td></tr><tr class=odd><td class=val><a href=\"http://data.e-stat.go.jp/lod/sac/C44342-20051001\" target=\"_other\">http://data.e-stat.go.jp/lod/sac/C44342-20051001</a></td>\n",
       "<td class=val>3546</td></tr><tr class=even><td class=val><a href=\"http://data.e-stat.go.jp/lod/sac/C14423-20060320\" target=\"_other\">http://data.e-stat.go.jp/lod/sac/C14423-20060320</a></td>\n",
       "<td class=val>4821</td></tr><tr class=odd><td class=val><a href=\"http://data.e-stat.go.jp/lod/sac/C24540-19700401\" target=\"_other\">http://data.e-stat.go.jp/lod/sac/C24540-19700401</a></td>\n",
       "<td class=val>8700</td></tr><tr class=even><td class=val><a href=\"http://data.e-stat.go.jp/lod/sac/C08228-20050322\" target=\"_other\">http://data.e-stat.go.jp/lod/sac/C08228-20050322</a></td>\n",
       "<td class=val>27915</td></tr></table><div class=\"tinfo\">Total: 4107, Shown: 20</div></div>"
      ]
     },
     "metadata": {},
     "output_type": "display_data"
    }
   ],
   "source": [
    "%endpoint http://data.e-stat.go.jp/lod/sparql/query\n",
    "%display table\n",
    "PREFIX rdfs:<http://www.w3.org/2000/01/rdf-schema#> \n",
    "PREFIX cd-dimension:<http://data.e-stat.go.jp/lod/ontology/crossDomain/dimension/>\n",
    "PREFIX cd-dimension-2016:<http://data.e-stat.go.jp/lod/ontology/crossDomain/dimension/2016/> \n",
    "PREFIX cd-code-2016:<http://data.e-stat.go.jp/lod/ontology/crossDomain/code/2016/> \n",
    "PREFIX pc-measure-2010:<http://data.e-stat.go.jp/lod/ontology/populationCensus/measure/2010/>\n",
    "PREFIX pc-dimension-2010:<http://data.e-stat.go.jp/lod/ontology/populationCensus/dimension/2010/>\n",
    "PREFIX pc-code-2010:<http://data.e-stat.go.jp/lod/ontology/populationCensus/code/2010/> \n",
    "PREFIX sac:<http://data.e-stat.go.jp/lod/sac/> \n",
    "PREFIX ic:<http://imi.ipa.go.jp/ns/core/rdf#> \n",
    "select ?areacode ?mjinko\n",
    "where {\n",
    "      ?s pc-measure-2010:population ?mjinko ;\n",
    "         cd-dimension:standardAreaCode ?areacode ;\n",
    "         cd-dimension-2016:nationality cd-code-2016:nationality-japanese ; \n",
    "         cd-dimension-2016:sex cd-code-2016:sex-male ; \n",
    "         pc-dimension-2010:area pc-code-2010:area-all ; \n",
    "         cd-dimension-2016:age cd-code-2016:age-total .\n",
    "}"
   ]
  }
 ],
 "metadata": {
  "kernelspec": {
   "display_name": "SPARQL",
   "language": "",
   "name": "sparql"
  },
  "language_info": {
   "codemirror_mode": {
    "name": "sparql"
   },
   "mimetype": "application/sparql-query",
   "name": "sparql",
   "pygments_lexer": "sparql-nb"
  }
 },
 "nbformat": 4,
 "nbformat_minor": 0
}
