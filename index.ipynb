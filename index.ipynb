{
 "cells": [
  {
   "cell_type": "markdown",
   "metadata": {},
   "source": [
    "# 統計LOD NOTEBOOK\n",
    "\n",
    "手探りでSPARQLを書きながら、統計LODの利用イメージを想像できたらと考えています。\n",
    "\n",
    "## プロパティパスを使ったSPQRQL、使わないSPARQL\n",
    "\n",
    "SPARQL初心者の自分は、プロパティパスを使った場合エリアコードをキーに興味のある様々な値を複数のプロパティを使ってどのように取得すべきかわからないので、冗長ではあるけどエリアコードの変数を明示してプロパティパスを使わずサンプルを書いています。"
   ]
  },
  {
   "cell_type": "code",
   "execution_count": 1,
   "metadata": {
    "collapsed": false
   },
   "outputs": [
    {
     "data": {
      "text/html": [
       "<div class=\"krn-spql\"><div class=\"magic\">Endpoint set to: http://data.e-stat.go.jp/lod/sparql/query</div><div class=\"magic\">Display: raw</div></div>"
      ],
      "text/plain": [
       "Endpoint set to: http://data.e-stat.go.jp/lod/sparql/query\n",
       "Display: raw\n"
      ]
     },
     "metadata": {},
     "output_type": "display_data"
    },
    {
     "data": {
      "text/plain": [
       "{'head': {'vars': ['o']},\n",
       " 'results': {'bindings': [{'o': {'datatype': 'http://www.w3.org/2001/XMLSchema#decimal',\n",
       "                                 'type': 'typed-literal',\n",
       "                                 'value': '286398'}}]}}"
      ]
     },
     "metadata": {},
     "output_type": "display_data"
    }
   ],
   "source": [
    "%endpoint http://data.e-stat.go.jp/lod/sparql/query\n",
    "%display raw\n",
    "# 新宿区の日本人の人口を求める（プロパティパス）\n",
    "PREFIX rdfs:<http://www.w3.org/2000/01/rdf-schema#> \n",
    "PREFIX cd-dimension:<http://data.e-stat.go.jp/lod/ontology/crossDomain/dimension/> \n",
    "PREFIX cd-code:<http://data.e-stat.go.jp/lod/ontology/crossDomain/code/> \n",
    "PREFIX cd-attribute:<http://data.e-stat.go.jp/lod/ontology/crossDomain/attribute/> \n",
    "PREFIX cd-dimension-2016:<http://data.e-stat.go.jp/lod/ontology/crossDomain/dimension/2016/> \n",
    "PREFIX cd-code-2016:<http://data.e-stat.go.jp/lod/ontology/crossDomain/code/2016/> \n",
    "PREFIX pc-measure-2010:<http://data.e-stat.go.jp/lod/ontology/populationCensus/measure/2010/> \n",
    "PREFIX pc-dimension-2010:<http://data.e-stat.go.jp/lod/ontology/populationCensus/dimension/2010/> \n",
    "PREFIX pc-code-2010:<http://data.e-stat.go.jp/lod/ontology/populationCensus/code/2010/> \n",
    "PREFIX sac:<http://data.e-stat.go.jp/lod/sac/> \n",
    "PREFIX ic:<http://imi.ipa.go.jp/ns/core/rdf#> \n",
    "select  ?o \n",
    "where {\n",
    "      ?s pc-measure-2010:population ?o ;\n",
    "         cd-dimension:standardAreaCode / ic:市区町村 \"新宿区\"@ja ;\n",
    "         cd-dimension-2016:sex cd-code-2016:sex-total ; \n",
    "         cd-dimension-2016:nationality cd-code-2016:nationality-japanese ; \n",
    "         pc-dimension-2010:area pc-code-2010:area-all ; \n",
    "         cd-dimension-2016:age cd-code-2016:age-total . \n",
    "}"
   ]
  },
  {
   "cell_type": "code",
   "execution_count": 2,
   "metadata": {
    "collapsed": false
   },
   "outputs": [
    {
     "data": {
      "text/html": [
       "<div class=\"krn-spql\"><div class=\"magic\">Endpoint set to: http://data.e-stat.go.jp/lod/sparql/query</div><div class=\"magic\">Display: raw</div></div>"
      ],
      "text/plain": [
       "Endpoint set to: http://data.e-stat.go.jp/lod/sparql/query\n",
       "Display: raw\n"
      ]
     },
     "metadata": {},
     "output_type": "display_data"
    },
    {
     "data": {
      "text/plain": [
       "{'head': {'vars': ['o']},\n",
       " 'results': {'bindings': [{'o': {'datatype': 'http://www.w3.org/2001/XMLSchema#decimal',\n",
       "                                 'type': 'typed-literal',\n",
       "                                 'value': '286398'}}]}}"
      ]
     },
     "metadata": {},
     "output_type": "display_data"
    }
   ],
   "source": [
    "%endpoint http://data.e-stat.go.jp/lod/sparql/query\n",
    "%display raw\n",
    "# プロパティパスを使わないで書いてみる\n",
    "PREFIX rdfs:<http://www.w3.org/2000/01/rdf-schema#> \n",
    "PREFIX cd-dimension:<http://data.e-stat.go.jp/lod/ontology/crossDomain/dimension/> \n",
    "PREFIX cd-code:<http://data.e-stat.go.jp/lod/ontology/crossDomain/code/> \n",
    "PREFIX cd-attribute:<http://data.e-stat.go.jp/lod/ontology/crossDomain/attribute/> \n",
    "PREFIX cd-dimension-2016:<http://data.e-stat.go.jp/lod/ontology/crossDomain/dimension/2016/> \n",
    "PREFIX cd-code-2016:<http://data.e-stat.go.jp/lod/ontology/crossDomain/code/2016/> \n",
    "PREFIX pc-measure-2010:<http://data.e-stat.go.jp/lod/ontology/populationCensus/measure/2010/> \n",
    "PREFIX pc-dimension-2010:<http://data.e-stat.go.jp/lod/ontology/populationCensus/dimension/2010/> \n",
    "PREFIX pc-code-2010:<http://data.e-stat.go.jp/lod/ontology/populationCensus/code/2010/> \n",
    "PREFIX sac:<http://data.e-stat.go.jp/lod/sac/> \n",
    "PREFIX ic:<http://imi.ipa.go.jp/ns/core/rdf#> \n",
    "select  ?o \n",
    "where {\n",
    "      ?s pc-measure-2010:population ?o ;\n",
    "         cd-dimension:standardAreaCode ?areacode.\n",
    "      ?areacode  ic:市区町村  \"新宿区\"@ja.\n",
    "      ?s cd-dimension-2016:nationality cd-code-2016:nationality-japanese ; \n",
    "         cd-dimension-2016:sex cd-code-2016:sex-total ; \n",
    "         pc-dimension-2010:area pc-code-2010:area-all ; \n",
    "         cd-dimension-2016:age cd-code-2016:age-total . \n",
    "}"
   ]
  },
  {
   "cell_type": "markdown",
   "metadata": {},
   "source": [
    "# 統計LODサポートを使って興味のあるプロパティを検索し、統計LODのデータを取得する\n",
    "\n",
    "## 保育園数や保育園入所待機児童数を取得してみます。\n",
    "- [統計LODサポート](http://idease.info/lodstat/)に「保育」と入力して検索。\n",
    "- 「保育所数」「保育所在所児数」「保育所入所待機児童数」などのプロパティが表示されます。この中からまず、保育所入所待機児童数を取得することにします。\n",
    "- 統計LODサポートで検索された「保育所入所待機児童数」をクリックします。\n",
    "- 保育所数のプロパティ（predicate）「http://data.e-stat.go.jp/lod/ontology/systemOfSocialAndDemographicStatistics/measure/2016/J250502」 が長いのでPREFIXを\"ssds-measure-2016\"のように設定します。\n",
    "- 待機児童数（この場合RDFの目的語になる）を指す変数を「?taikijido」とします\n",
    "- セルID　 保育所数の述語　　待機児童数; のRDFを記述\n",
    "- セルID（省略形式）　エリアコード（PREFIXを利用）を指す述語 エリアコード（未知の変数）. を記述\n",
    "- [共通語彙基盤](http://imi.go.jp/ns/core/Core232.html)のコア語彙「市区町村」を使って、エリアコード  市区町村 新宿区. を記述し、新宿区のエリアコードを取得します。\n",
    "- SPARQLを実行すると新宿区の待機児童数が変数taikijidoとして取得されます。\n"
   ]
  },
  {
   "cell_type": "code",
   "execution_count": 3,
   "metadata": {
    "collapsed": false
   },
   "outputs": [
    {
     "data": {
      "text/html": [
       "<div class=\"krn-spql\"><div class=\"magic\">Endpoint set to: http://data.e-stat.go.jp/lod/sparql/query</div></div>"
      ],
      "text/plain": [
       "Endpoint set to: http://data.e-stat.go.jp/lod/sparql/query\n"
      ]
     },
     "metadata": {},
     "output_type": "display_data"
    },
    {
     "data": {
      "text/plain": [
       "{'head': {'vars': ['taikijido']},\n",
       " 'results': {'bindings': [{'taikijido': {'datatype': 'http://www.w3.org/2001/XMLSchema#decimal',\n",
       "                                         'type': 'typed-literal',\n",
       "                                         'value': '176'}}]}}"
      ]
     },
     "metadata": {},
     "output_type": "display_data"
    }
   ],
   "source": [
    "%endpoint http://data.e-stat.go.jp/lod/sparql/query\n",
    "#新宿区の待機児童数\n",
    "PREFIX ssds-measure-2016:<http://data.e-stat.go.jp/lod/ontology/systemOfSocialAndDemographicStatistics/measure/2016/>\n",
    "PREFIX cd-dimension:<http://data.e-stat.go.jp/lod/ontology/crossDomain/dimension/> \n",
    "PREFIX ic:<http://imi.ipa.go.jp/ns/core/rdf#> \n",
    "select ?taikijido\n",
    "where{\n",
    "    ?s ssds-measure-2016:J250502 ?taikijido;\n",
    "        cd-dimension:standardAreaCode ?areacode.\n",
    "     ?areacode ic:市区町村  \"新宿区\"@ja.\n",
    "}"
   ]
  },
  {
   "cell_type": "markdown",
   "metadata": {},
   "source": [
    "## UNIONを使って「新宿区」と「文京区」のOR条件で取得する"
   ]
  },
  {
   "cell_type": "code",
   "execution_count": 4,
   "metadata": {
    "collapsed": false
   },
   "outputs": [
    {
     "data": {
      "text/html": [
       "<div class=\"krn-spql\"><div class=\"magic\">Endpoint set to: http://data.e-stat.go.jp/lod/sparql/query</div><div class=\"magic\">Display: table</div></div>"
      ],
      "text/plain": [
       "Endpoint set to: http://data.e-stat.go.jp/lod/sparql/query\n",
       "Display: table\n"
      ]
     },
     "metadata": {},
     "output_type": "display_data"
    },
    {
     "data": {
      "text/html": [
       "<div class=\"krn-spql\"><table><tr class=hdr><th>保育所数</th></tr><tr class=odd><td class=val>36</td></tr><tr class=even><td class=val>28</td></tr></table><div class=\"tinfo\">Total: 2, Shown: 2</div></div>"
      ]
     },
     "metadata": {},
     "output_type": "display_data"
    }
   ],
   "source": [
    "%endpoint http://data.e-stat.go.jp/lod/sparql/query\n",
    "%display table\n",
    "PREFIX ssds-measure-2016:<http://data.e-stat.go.jp/lod/ontology/systemOfSocialAndDemographicStatistics/measure/2016/>\n",
    "PREFIX cd-dimension:<http://data.e-stat.go.jp/lod/ontology/crossDomain/dimension/> \n",
    "PREFIX ic:<http://imi.ipa.go.jp/ns/core/rdf#> \n",
    "select ?保育所数\n",
    "where{\n",
    "        {\n",
    "        ?s ssds-measure-2016:J2503 ?保育所数;\n",
    "        cd-dimension:standardAreaCode / ic:市区町村 \"新宿区\"@ja. \n",
    "            } union {\n",
    "        ?s ssds-measure-2016:J2503 ?保育所数;\n",
    "        cd-dimension:standardAreaCode / ic:市区町村 \"文京区\"@ja. \n",
    "        }\n",
    "}"
   ]
  },
  {
   "cell_type": "markdown",
   "metadata": {},
   "source": [
    "## 都道府県名のプロパティで東京都のエリアコードを取得し、東京都の待機児童数を取得"
   ]
  },
  {
   "cell_type": "code",
   "execution_count": 5,
   "metadata": {
    "collapsed": false
   },
   "outputs": [
    {
     "data": {
      "text/html": [
       "<div class=\"krn-spql\"><div class=\"magic\">Endpoint set to: http://data.e-stat.go.jp/lod/sparql/query</div><div class=\"magic\">Display: table</div></div>"
      ],
      "text/plain": [
       "Endpoint set to: http://data.e-stat.go.jp/lod/sparql/query\n",
       "Display: table\n"
      ]
     },
     "metadata": {},
     "output_type": "display_data"
    },
    {
     "data": {
      "text/html": [
       "<div class=\"krn-spql\"><table><tr class=hdr><th>待機児童数</th>\n",
       "<th>市区町村</th></tr><tr class=odd><td class=val>5279</td>\n",
       "<td class=val>特別区部</td></tr><tr class=even><td class=val>884</td>\n",
       "<td class=val>世田谷区</td></tr><tr class=odd><td class=val>578</td>\n",
       "<td class=val>練馬区</td></tr><tr class=even><td class=val>438</td>\n",
       "<td class=val>大田区</td></tr><tr class=odd><td class=val>417</td>\n",
       "<td class=val>板橋区</td></tr><tr class=even><td class=val>416</td>\n",
       "<td class=val>江東区</td></tr><tr class=odd><td class=val>294</td>\n",
       "<td class=val>足立区</td></tr><tr class=even><td class=val>285</td>\n",
       "<td class=val>杉並区</td></tr><tr class=odd><td class=val>270</td>\n",
       "<td class=val>豊島区</td></tr><tr class=even><td class=val>257</td>\n",
       "<td class=val>町田市</td></tr></table><div class=\"tinfo\">Total: 10, Shown: 10</div></div>"
      ]
     },
     "metadata": {},
     "output_type": "display_data"
    }
   ],
   "source": [
    "%endpoint http://data.e-stat.go.jp/lod/sparql/query\n",
    "%display table\n",
    "PREFIX ssds-measure-2016:<http://data.e-stat.go.jp/lod/ontology/systemOfSocialAndDemographicStatistics/measure/2016/>\n",
    "PREFIX cd-dimension:<http://data.e-stat.go.jp/lod/ontology/crossDomain/dimension/> \n",
    "PREFIX ic:<http://imi.ipa.go.jp/ns/core/rdf#> \n",
    "select ?待機児童数 ?市区町村\n",
    "where{\n",
    "    ?s ssds-measure-2016:J250502 ?待機児童数;\n",
    "        cd-dimension:standardAreaCode ?areacode.\n",
    "     ?areacode ic:都道府県  \"東京都\"@ja;\n",
    "         ic:市区町村 ?市区町村.\n",
    "}\n",
    "ORDER BY DESC(?待機児童数)\n",
    "LIMIT 10"
   ]
  },
  {
   "cell_type": "markdown",
   "metadata": {},
   "source": [
    "## 区ごとの「保育所在所児童数」「保育所数」を組み合わせてみます。\n",
    "プロパティパスで逆パス等を使うとまとめて記述できそうだけど、、、、自分は書けないのでとりあえずシンプルに書いてみます。"
   ]
  },
  {
   "cell_type": "code",
   "execution_count": 6,
   "metadata": {
    "collapsed": false
   },
   "outputs": [
    {
     "data": {
      "text/html": [
       "<div class=\"krn-spql\"><div class=\"magic\">Endpoint set to: http://data.e-stat.go.jp/lod/sparql/query</div><div class=\"magic\">Display: table</div></div>"
      ],
      "text/plain": [
       "Endpoint set to: http://data.e-stat.go.jp/lod/sparql/query\n",
       "Display: table\n"
      ]
     },
     "metadata": {},
     "output_type": "display_data"
    },
    {
     "data": {
      "text/html": [
       "<div class=\"krn-spql\"><table><tr class=hdr><th>市区町村</th>\n",
       "<th>保育所数</th>\n",
       "<th>在所児童</th>\n",
       "<th>待機児童</th></tr><tr class=odd><td class=val>目黒区</td>\n",
       "<td class=val>26</td>\n",
       "<td class=val>2498</td>\n",
       "<td class=val>132</td></tr><tr class=even><td class=val>文京区</td>\n",
       "<td class=val>28</td>\n",
       "<td class=val>2327</td>\n",
       "<td class=val>96</td></tr><tr class=odd><td class=val>新島村</td>\n",
       "<td class=val>3</td>\n",
       "<td class=val>63</td>\n",
       "<td class=val>0</td></tr><tr class=even><td class=val>八丈町</td>\n",
       "<td class=val>3</td>\n",
       "<td class=val>162</td>\n",
       "<td class=val>0</td></tr><tr class=odd><td class=val>東大和市</td>\n",
       "<td class=val>15</td>\n",
       "<td class=val>1788</td>\n",
       "<td class=val>79</td></tr><tr class=even><td class=val>小金井市</td>\n",
       "<td class=val>13</td>\n",
       "<td class=val>1404</td>\n",
       "<td class=val>188</td></tr><tr class=odd><td class=val>清瀬市</td>\n",
       "<td class=val>11</td>\n",
       "<td class=val>937</td>\n",
       "<td class=val>52</td></tr><tr class=even><td class=val>国立市</td>\n",
       "<td class=val>11</td>\n",
       "<td class=val>1151</td>\n",
       "<td class=val>32</td></tr><tr class=odd><td class=val>渋谷区</td>\n",
       "<td class=val>29</td>\n",
       "<td class=val>2305</td>\n",
       "<td class=val>73</td></tr><tr class=even><td class=val>あきる野市</td>\n",
       "<td class=val>15</td>\n",
       "<td class=val>1779</td>\n",
       "<td class=val>35</td></tr><tr class=odd><td class=val>日野市</td>\n",
       "<td class=val>29</td>\n",
       "<td class=val>2891</td>\n",
       "<td class=val>155</td></tr><tr class=even><td class=val>大島町</td>\n",
       "<td class=val>5</td>\n",
       "<td class=val>269</td>\n",
       "<td class=val>0</td></tr><tr class=odd><td class=val>西東京市</td>\n",
       "<td class=val>25</td>\n",
       "<td class=val>2522</td>\n",
       "<td class=val>184</td></tr><tr class=even><td class=val>千代田区</td>\n",
       "<td class=val>6</td>\n",
       "<td class=val>727</td>\n",
       "<td class=val>4</td></tr><tr class=odd><td class=val>檜原村</td>\n",
       "<td class=val>1</td>\n",
       "<td class=val>53</td>\n",
       "<td class=val>0</td></tr><tr class=even><td class=val>町田市</td>\n",
       "<td class=val>56</td>\n",
       "<td class=val>5257</td>\n",
       "<td class=val>257</td></tr><tr class=odd><td class=val>三鷹市</td>\n",
       "<td class=val>31</td>\n",
       "<td class=val>2400</td>\n",
       "<td class=val>160</td></tr><tr class=even><td class=val>狛江市</td>\n",
       "<td class=val>9</td>\n",
       "<td class=val>919</td>\n",
       "<td class=val>47</td></tr><tr class=odd><td class=val>瑞穂町</td>\n",
       "<td class=val>7</td>\n",
       "<td class=val>618</td>\n",
       "<td class=val>1</td></tr><tr class=even><td class=val>昭島市</td>\n",
       "<td class=val>19</td>\n",
       "<td class=val>2517</td>\n",
       "<td class=val>46</td></tr></table><div class=\"tinfo\">Total: 20, Shown: 20</div></div>"
      ]
     },
     "metadata": {},
     "output_type": "display_data"
    }
   ],
   "source": [
    "%endpoint http://data.e-stat.go.jp/lod/sparql/query\n",
    "%display table\n",
    "PREFIX ssds-measure-2016:<http://data.e-stat.go.jp/lod/ontology/systemOfSocialAndDemographicStatistics/measure/2016/>\n",
    "PREFIX cd-dimension:<http://data.e-stat.go.jp/lod/ontology/crossDomain/dimension/> \n",
    "PREFIX ic:<http://imi.ipa.go.jp/ns/core/rdf#> \n",
    "select ?市区町村 ?保育所数  ?在所児童 ?待機児童\n",
    "where{\n",
    "    ?s1 ssds-measure-2016:J250502 ?待機児童;\n",
    "        cd-dimension:standardAreaCode ?areacode.\n",
    "     ?areacode ic:都道府県  \"東京都\"@ja;\n",
    "         ic:市区町村 ?市区町村.\n",
    "    ?s2 ssds-measure-2016:J2503 ?保育所数;\n",
    "        cd-dimension:standardAreaCode ?areacode.\n",
    "    ?s3 ssds-measure-2016:J2506 ?在所児童;\n",
    "        cd-dimension:standardAreaCode ?areacode.\n",
    "}\n",
    "ORDER BY DESC(?待機児童数)\n",
    "LIMIT 20"
   ]
  },
  {
   "cell_type": "markdown",
   "metadata": {},
   "source": [
    "さらに関係ありそうなデータをエリアコードをキーに追加していきたいと思います。\n",
    "統計LODサポートで今度は「病院」を検索します。「一般病院数」のプロパティがあるのでこれをSPARQLに追加します。\n",
    "また最初のサンプルで取得しているような、区毎の人口もざっくり（全年齢、全盛別の値で）追加してみます。"
   ]
  },
  {
   "cell_type": "code",
   "execution_count": 7,
   "metadata": {
    "collapsed": false,
    "scrolled": false
   },
   "outputs": [
    {
     "data": {
      "text/html": [
       "<div class=\"krn-spql\"><div class=\"magic\">Endpoint set to: http://data.e-stat.go.jp/lod/sparql/query</div><div class=\"magic\">Display: table</div></div>"
      ],
      "text/plain": [
       "Endpoint set to: http://data.e-stat.go.jp/lod/sparql/query\n",
       "Display: table\n"
      ]
     },
     "metadata": {},
     "output_type": "display_data"
    },
    {
     "data": {
      "text/html": [
       "<div class=\"krn-spql\"><table><tr class=hdr><th>siku</th>\n",
       "<th>hoikusyo</th>\n",
       "<th>zaisyo</th>\n",
       "<th>taiki</th>\n",
       "<th>hospital</th>\n",
       "<th>jinko</th></tr><tr class=odd><td class=val>特別区部</td>\n",
       "<td class=val>1158</td>\n",
       "<td class=val>115921</td>\n",
       "<td class=val>5279</td>\n",
       "<td class=val>407</td>\n",
       "<td class=val>8500358</td></tr><tr class=even><td class=val>世田谷区</td>\n",
       "<td class=val>82</td>\n",
       "<td class=val>8912</td>\n",
       "<td class=val>884</td>\n",
       "<td class=val>25</td>\n",
       "<td class=val>860559</td></tr><tr class=odd><td class=val>練馬区</td>\n",
       "<td class=val>89</td>\n",
       "<td class=val>8814</td>\n",
       "<td class=val>578</td>\n",
       "<td class=val>17</td>\n",
       "<td class=val>694121</td></tr><tr class=even><td class=val>大田区</td>\n",
       "<td class=val>84</td>\n",
       "<td class=val>8756</td>\n",
       "<td class=val>438</td>\n",
       "<td class=val>27</td>\n",
       "<td class=val>666330</td></tr><tr class=odd><td class=val>板橋区</td>\n",
       "<td class=val>93</td>\n",
       "<td class=val>8477</td>\n",
       "<td class=val>417</td>\n",
       "<td class=val>41</td>\n",
       "<td class=val>495700</td></tr><tr class=even><td class=val>江東区</td>\n",
       "<td class=val>72</td>\n",
       "<td class=val>7002</td>\n",
       "<td class=val>416</td>\n",
       "<td class=val>17</td>\n",
       "<td class=val>444062</td></tr><tr class=odd><td class=val>足立区</td>\n",
       "<td class=val>88</td>\n",
       "<td class=val>8847</td>\n",
       "<td class=val>294</td>\n",
       "<td class=val>47</td>\n",
       "<td class=val>656755</td></tr><tr class=even><td class=val>杉並区</td>\n",
       "<td class=val>55</td>\n",
       "<td class=val>5390</td>\n",
       "<td class=val>285</td>\n",
       "<td class=val>17</td>\n",
       "<td class=val>506982</td></tr><tr class=odd><td class=val>豊島区</td>\n",
       "<td class=val>31</td>\n",
       "<td class=val>3041</td>\n",
       "<td class=val>270</td>\n",
       "<td class=val>15</td>\n",
       "<td class=val>261282</td></tr><tr class=even><td class=val>町田市</td>\n",
       "<td class=val>56</td>\n",
       "<td class=val>5257</td>\n",
       "<td class=val>257</td>\n",
       "<td class=val>14</td>\n",
       "<td class=val>419062</td></tr><tr class=odd><td class=val>八王子市</td>\n",
       "<td class=val>82</td>\n",
       "<td class=val>9172</td>\n",
       "<td class=val>253</td>\n",
       "<td class=val>33</td>\n",
       "<td class=val>568293</td></tr><tr class=even><td class=val>調布市</td>\n",
       "<td class=val>28</td>\n",
       "<td class=val>2702</td>\n",
       "<td class=val>249</td>\n",
       "<td class=val>6</td>\n",
       "<td class=val>215461</td></tr><tr class=odd><td class=val>港区</td>\n",
       "<td class=val>21</td>\n",
       "<td class=val>2111</td>\n",
       "<td class=val>195</td>\n",
       "<td class=val>15</td>\n",
       "<td class=val>191967</td></tr><tr class=even><td class=val>中央区</td>\n",
       "<td class=val>20</td>\n",
       "<td class=val>1920</td>\n",
       "<td class=val>193</td>\n",
       "<td class=val>4</td>\n",
       "<td class=val>118767</td></tr><tr class=odd><td class=val>江戸川区</td>\n",
       "<td class=val>83</td>\n",
       "<td class=val>9544</td>\n",
       "<td class=val>192</td>\n",
       "<td class=val>21</td>\n",
       "<td class=val>641937</td></tr><tr class=even><td class=val>小金井市</td>\n",
       "<td class=val>13</td>\n",
       "<td class=val>1404</td>\n",
       "<td class=val>188</td>\n",
       "<td class=val>4</td>\n",
       "<td class=val>114970</td></tr><tr class=odd><td class=val>西東京市</td>\n",
       "<td class=val>25</td>\n",
       "<td class=val>2522</td>\n",
       "<td class=val>184</td>\n",
       "<td class=val>4</td>\n",
       "<td class=val>192817</td></tr><tr class=even><td class=val>墨田区</td>\n",
       "<td class=val>42</td>\n",
       "<td class=val>4106</td>\n",
       "<td class=val>181</td>\n",
       "<td class=val>14</td>\n",
       "<td class=val>237617</td></tr><tr class=odd><td class=val>武蔵野市</td>\n",
       "<td class=val>15</td>\n",
       "<td class=val>1437</td>\n",
       "<td class=val>181</td>\n",
       "<td class=val>10</td>\n",
       "<td class=val>134890</td></tr><tr class=even><td class=val>府中市</td>\n",
       "<td class=val>40</td>\n",
       "<td class=val>4176</td>\n",
       "<td class=val>181</td>\n",
       "<td class=val>13</td>\n",
       "<td class=val>247986</td></tr></table><div class=\"tinfo\">Total: 20, Shown: 20</div></div>"
      ]
     },
     "metadata": {},
     "output_type": "display_data"
    }
   ],
   "source": [
    "%endpoint http://data.e-stat.go.jp/lod/sparql/query\n",
    "%display table\n",
    "PREFIX ssds-measure-2016:<http://data.e-stat.go.jp/lod/ontology/systemOfSocialAndDemographicStatistics/measure/2016/>\n",
    "PREFIX cd-dimension:<http://data.e-stat.go.jp/lod/ontology/crossDomain/dimension/> \n",
    "PREFIX pc-measure-2010:<http://data.e-stat.go.jp/lod/ontology/populationCensus/measure/2010/> \n",
    "PREFIX pc-dimension-2010:<http://data.e-stat.go.jp/lod/ontology/populationCensus/dimension/2010/> \n",
    "PREFIX cd-dimension-2016:<http://data.e-stat.go.jp/lod/ontology/crossDomain/dimension/2016/> \n",
    "PREFIX pc-code-2010:<http://data.e-stat.go.jp/lod/ontology/populationCensus/code/2010/> \n",
    "PREFIX cd-code-2016:<http://data.e-stat.go.jp/lod/ontology/crossDomain/code/2016/> \n",
    "PREFIX ic:<http://imi.ipa.go.jp/ns/core/rdf#> \n",
    "select ?siku ?hoikusyo  ?zaisyo ?taiki ?hospital ?jinko\n",
    "where{\n",
    "    ?s1 ssds-measure-2016:J250502 ?taiki;\n",
    "        cd-dimension:standardAreaCode ?areacode.\n",
    "     ?areacode ic:都道府県  \"東京都\"@ja;\n",
    "         ic:市区町村 ?siku.\n",
    "    ?s2 ssds-measure-2016:J2503 ?hoikusyo;\n",
    "        cd-dimension:standardAreaCode ?areacode.\n",
    "    ?s3 ssds-measure-2016:J2506 ?zaisyo;\n",
    "        cd-dimension:standardAreaCode ?areacode.\n",
    "    ?s4 ssds-measure-2016:I510120 ?hospital;\n",
    "        cd-dimension:standardAreaCode ?areacode.\n",
    "?s5 pc-measure-2010:population ?jinko;\n",
    "        cd-dimension:standardAreaCode ?areacode;\n",
    "        cd-dimension-2016:sex cd-code-2016:sex-total; \n",
    "         cd-dimension-2016:nationality cd-code-2016:nationality-japanese; \n",
    "         pc-dimension-2010:area pc-code-2010:area-all; \n",
    "         cd-dimension-2016:age cd-code-2016:age-total .\n",
    "}\n",
    "ORDER BY DESC(?taiki)\n",
    "LIMIT 20"
   ]
  },
  {
   "cell_type": "markdown",
   "metadata": {},
   "source": [
    "保育所待機児童数でソートして表示してみました。市区町村の特別区部とは一般的には23区を指すようですが、市区町村とは別にデータが有るのがちょっと気になります。\n",
    "\n",
    "現状（2016-12-30）だと、エンドポイントのレスポンスがこのぐらいのクエリになるとかなり時間がかかります。"
   ]
  },
  {
   "cell_type": "markdown",
   "metadata": {},
   "source": [
    "### 集計したセルを含めてみる\n",
    "本来データを取得してから、別のプロセスで集計を行うべきだと思うのですが、SPARQLで簡単な四則演算を反映した値を取得することもできます。試しに市区町村の人口に対する保育所数の比率を変数として取得してみます。"
   ]
  },
  {
   "cell_type": "code",
   "execution_count": 8,
   "metadata": {
    "collapsed": false,
    "scrolled": true
   },
   "outputs": [
    {
     "data": {
      "text/html": [
       "<div class=\"krn-spql\"><div class=\"magic\">Endpoint set to: http://data.e-stat.go.jp/lod/sparql/query</div><div class=\"magic\">Display: table</div></div>"
      ],
      "text/plain": [
       "Endpoint set to: http://data.e-stat.go.jp/lod/sparql/query\n",
       "Display: table\n"
      ]
     },
     "metadata": {},
     "output_type": "display_data"
    },
    {
     "data": {
      "text/html": [
       "<div class=\"krn-spql\"><table><tr class=hdr><th>siku</th>\n",
       "<th>hoikusyo</th>\n",
       "<th>zaisyo</th>\n",
       "<th>taiki</th>\n",
       "<th>hospital</th>\n",
       "<th>jinko</th>\n",
       "<th>rate</th></tr><tr class=odd><td class=val>特別区部</td>\n",
       "<td class=val>1158</td>\n",
       "<td class=val>115921</td>\n",
       "<td class=val>5279</td>\n",
       "<td class=val>407</td>\n",
       "<td class=val>8500358</td>\n",
       "<td class=val>.000136229556449269548411961002113087472316</td></tr><tr class=even><td class=val>世田谷区</td>\n",
       "<td class=val>82</td>\n",
       "<td class=val>8912</td>\n",
       "<td class=val>884</td>\n",
       "<td class=val>25</td>\n",
       "<td class=val>860559</td>\n",
       "<td class=val>.00009528690072383183488871768234368590648637</td></tr><tr class=odd><td class=val>練馬区</td>\n",
       "<td class=val>89</td>\n",
       "<td class=val>8814</td>\n",
       "<td class=val>578</td>\n",
       "<td class=val>17</td>\n",
       "<td class=val>694121</td>\n",
       "<td class=val>.000128219719616608631636270909538826803972</td></tr><tr class=even><td class=val>大田区</td>\n",
       "<td class=val>84</td>\n",
       "<td class=val>8756</td>\n",
       "<td class=val>438</td>\n",
       "<td class=val>27</td>\n",
       "<td class=val>666330</td>\n",
       "<td class=val>.000126063662149385439647021745981720768988</td></tr><tr class=odd><td class=val>板橋区</td>\n",
       "<td class=val>93</td>\n",
       "<td class=val>8477</td>\n",
       "<td class=val>417</td>\n",
       "<td class=val>41</td>\n",
       "<td class=val>495700</td>\n",
       "<td class=val>.000187613475892677022392576154932418801695</td></tr><tr class=even><td class=val>江東区</td>\n",
       "<td class=val>72</td>\n",
       "<td class=val>7002</td>\n",
       "<td class=val>416</td>\n",
       "<td class=val>17</td>\n",
       "<td class=val>444062</td>\n",
       "<td class=val>.000162139521057870297390904873643770464485</td></tr><tr class=odd><td class=val>足立区</td>\n",
       "<td class=val>88</td>\n",
       "<td class=val>8847</td>\n",
       "<td class=val>294</td>\n",
       "<td class=val>47</td>\n",
       "<td class=val>656755</td>\n",
       "<td class=val>.000133992127962482204170504982832258604807</td></tr><tr class=even><td class=val>杉並区</td>\n",
       "<td class=val>55</td>\n",
       "<td class=val>5390</td>\n",
       "<td class=val>285</td>\n",
       "<td class=val>17</td>\n",
       "<td class=val>506982</td>\n",
       "<td class=val>.00010848511386992043110011795290562584076</td></tr><tr class=odd><td class=val>豊島区</td>\n",
       "<td class=val>31</td>\n",
       "<td class=val>3041</td>\n",
       "<td class=val>270</td>\n",
       "<td class=val>15</td>\n",
       "<td class=val>261282</td>\n",
       "<td class=val>.000118645754395633836238240674826432743166</td></tr><tr class=even><td class=val>町田市</td>\n",
       "<td class=val>56</td>\n",
       "<td class=val>5257</td>\n",
       "<td class=val>257</td>\n",
       "<td class=val>14</td>\n",
       "<td class=val>419062</td>\n",
       "<td class=val>.000133631777636722012494571209033508168242</td></tr><tr class=odd><td class=val>八王子市</td>\n",
       "<td class=val>82</td>\n",
       "<td class=val>9172</td>\n",
       "<td class=val>253</td>\n",
       "<td class=val>33</td>\n",
       "<td class=val>568293</td>\n",
       "<td class=val>.000144291764987427260233717466166220593954</td></tr><tr class=even><td class=val>調布市</td>\n",
       "<td class=val>28</td>\n",
       "<td class=val>2702</td>\n",
       "<td class=val>249</td>\n",
       "<td class=val>6</td>\n",
       "<td class=val>215461</td>\n",
       "<td class=val>.000129953912773077262242354764899448159992</td></tr><tr class=odd><td class=val>港区</td>\n",
       "<td class=val>21</td>\n",
       "<td class=val>2111</td>\n",
       "<td class=val>195</td>\n",
       "<td class=val>15</td>\n",
       "<td class=val>191967</td>\n",
       "<td class=val>.000109393802059729015924612042694838175311</td></tr><tr class=even><td class=val>中央区</td>\n",
       "<td class=val>20</td>\n",
       "<td class=val>1920</td>\n",
       "<td class=val>193</td>\n",
       "<td class=val>4</td>\n",
       "<td class=val>118767</td>\n",
       "<td class=val>.000168396945279412631454865408741485429454</td></tr><tr class=odd><td class=val>江戸川区</td>\n",
       "<td class=val>83</td>\n",
       "<td class=val>9544</td>\n",
       "<td class=val>192</td>\n",
       "<td class=val>21</td>\n",
       "<td class=val>641937</td>\n",
       "<td class=val>.000129296177039179857213402561310533588187</td></tr><tr class=even><td class=val>小金井市</td>\n",
       "<td class=val>13</td>\n",
       "<td class=val>1404</td>\n",
       "<td class=val>188</td>\n",
       "<td class=val>4</td>\n",
       "<td class=val>114970</td>\n",
       "<td class=val>.000113072975558841436896581716969644255023</td></tr><tr class=odd><td class=val>西東京市</td>\n",
       "<td class=val>25</td>\n",
       "<td class=val>2522</td>\n",
       "<td class=val>184</td>\n",
       "<td class=val>4</td>\n",
       "<td class=val>192817</td>\n",
       "<td class=val>.00012965661741443959816821130916879735708</td></tr><tr class=even><td class=val>墨田区</td>\n",
       "<td class=val>42</td>\n",
       "<td class=val>4106</td>\n",
       "<td class=val>181</td>\n",
       "<td class=val>14</td>\n",
       "<td class=val>237617</td>\n",
       "<td class=val>.000176755030153566453578658092644886519062</td></tr><tr class=odd><td class=val>武蔵野市</td>\n",
       "<td class=val>15</td>\n",
       "<td class=val>1437</td>\n",
       "<td class=val>181</td>\n",
       "<td class=val>10</td>\n",
       "<td class=val>134890</td>\n",
       "<td class=val>.000111201719919934761657646971606494180443</td></tr><tr class=even><td class=val>府中市</td>\n",
       "<td class=val>40</td>\n",
       "<td class=val>4176</td>\n",
       "<td class=val>181</td>\n",
       "<td class=val>13</td>\n",
       "<td class=val>247986</td>\n",
       "<td class=val>.000161299428193527053946593759325123192438</td></tr></table><div class=\"tinfo\">Total: 20, Shown: 20</div></div>"
      ]
     },
     "metadata": {},
     "output_type": "display_data"
    }
   ],
   "source": [
    "%endpoint http://data.e-stat.go.jp/lod/sparql/query\n",
    "%display table\n",
    "PREFIX ssds-measure-2016:<http://data.e-stat.go.jp/lod/ontology/systemOfSocialAndDemographicStatistics/measure/2016/>\n",
    "PREFIX cd-dimension:<http://data.e-stat.go.jp/lod/ontology/crossDomain/dimension/> \n",
    "PREFIX pc-measure-2010:<http://data.e-stat.go.jp/lod/ontology/populationCensus/measure/2010/> \n",
    "PREFIX pc-dimension-2010:<http://data.e-stat.go.jp/lod/ontology/populationCensus/dimension/2010/> \n",
    "PREFIX cd-dimension-2016:<http://data.e-stat.go.jp/lod/ontology/crossDomain/dimension/2016/> \n",
    "PREFIX pc-code-2010:<http://data.e-stat.go.jp/lod/ontology/populationCensus/code/2010/> \n",
    "PREFIX cd-code-2016:<http://data.e-stat.go.jp/lod/ontology/crossDomain/code/2016/> \n",
    "PREFIX ic:<http://imi.ipa.go.jp/ns/core/rdf#> \n",
    "PREFIX xsd: <http://www.w3.org/2001/XMLSchema#> \n",
    "select ?siku ?hoikusyo  ?zaisyo ?taiki ?hospital ?jinko ?rate\n",
    "where{\n",
    "    ?s1 ssds-measure-2016:J250502 ?taiki;\n",
    "        cd-dimension:standardAreaCode ?areacode.\n",
    "     ?areacode ic:都道府県  \"東京都\"@ja;\n",
    "         ic:市区町村 ?siku.\n",
    "    ?s2 ssds-measure-2016:J2503 ?hoikusyo;\n",
    "        cd-dimension:standardAreaCode ?areacode.\n",
    "    ?s3 ssds-measure-2016:J2506 ?zaisyo;\n",
    "        cd-dimension:standardAreaCode ?areacode.\n",
    "    ?s4 ssds-measure-2016:I510120 ?hospital;\n",
    "        cd-dimension:standardAreaCode ?areacode.\n",
    "    ?s5 pc-measure-2010:population ?jinko;\n",
    "        cd-dimension:standardAreaCode ?areacode;\n",
    "        cd-dimension-2016:sex cd-code-2016:sex-total; \n",
    "         cd-dimension-2016:nationality cd-code-2016:nationality-japanese; \n",
    "         pc-dimension-2010:area pc-code-2010:area-all; \n",
    "         cd-dimension-2016:age cd-code-2016:age-total .\n",
    "    BIND (xsd:int(?hoikusyo)/xsd:int(?jinko) as ?rate)\n",
    "}\n",
    "ORDER BY DESC(?taiki)\n",
    "LIMIT 20"
   ]
  },
  {
   "cell_type": "markdown",
   "metadata": {},
   "source": [
    "## 地域の人口の増減に関わる要素を取得してみる\n",
    "### [統計LODサポート](http://idease.info/lodstat/)で関係しそうなプロパティを片っ端から検索してみます。\n",
    "\n",
    "- 人口：http://data.e-stat.go.jp/lod/ontology/populationCensus/measure/2010/  [(RDFスキーマ情報/測度)](http://trial-data.e-stat.go.jp/lodw/rdfschema/measure/#measure_population)\n",
    "- sex-total: http://data.e-stat.go.jp/lod/ontology/crossDomain/dimension/2016/sex\n",
    "- age xxx :http://data.e-stat.go.jp/lod/ontology/crossDomain/dimension/2016/age \n",
    "- 一般病院数：http://data.e-stat.go.jp/lod/ontology/systemOfSocialAndDemographicStatistics/measure/2016/I510120\n",
    "- 地方税: http://data.e-stat.go.jp/lod/ontology/systemOfSocialAndDemographicStatistics/measure/2016/D320101\n",
    "- 納税義務者数:http://data.e-stat.go.jp/lod/ontology/systemOfSocialAndDemographicStatistics/measure/2016/C120120\n",
    "- 課税多少所得:http://data.e-stat.go.jp/lod/ontology/systemOfSocialAndDemographicStatistics/measure/2016/C120110\n",
    "- 小学校数:http://data.e-stat.go.jp/lod/ontology/systemOfSocialAndDemographicStatistics/measure/2016/E2101\n",
    "- 小学校教員数：http://data.e-stat.go.jp/lod/ontology/systemOfSocialAndDemographicStatistics/measure/2016/E4101\n",
    "- 小学校児童数: http://data.e-stat.go.jp/lod/ontology/systemOfSocialAndDemographicStatistics/measure/2016/E2401\n",
    "- 児童福祉施設数：http://data.e-stat.go.jp/lod/ontology/systemOfSocialAndDemographicStatistics/measure/2016/J2501\n",
    "\n",
    "### データの次元を選択\n",
    "[共通語彙基盤](http://imi.go.jp/ns/core/Core232.html)よりキーとなるエリアコードの次元を選択する。\n",
    "これまでの例では東京都の市区町村を対象としているが、日本全域の市区町村を対象にしてみる。\n",
    "まずざっくり全国の市区町村の日本人のトータルの人口を算出してみます。"
   ]
  },
  {
   "cell_type": "code",
   "execution_count": 39,
   "metadata": {
    "collapsed": false
   },
   "outputs": [
    {
     "data": {
      "text/html": [
       "<div class=\"krn-spql\"><div class=\"magic\">Endpoint set to: http://data.e-stat.go.jp/lod/sparql/query</div><div class=\"magic\">Display: table</div></div>"
      ],
      "text/plain": [
       "Endpoint set to: http://data.e-stat.go.jp/lod/sparql/query\n",
       "Display: table\n"
      ]
     },
     "metadata": {},
     "output_type": "display_data"
    },
    {
     "data": {
      "text/html": [
       "<div class=\"krn-spql\"><table><tr class=hdr><th>o</th>\n",
       "<th>ken</th>\n",
       "<th>siku</th>\n",
       "<th>areacode</th></tr><tr class=odd><td class=val>7519</td>\n",
       "<td class=val>北海道</td>\n",
       "<td class=val>池田町</td>\n",
       "<td class=val><a href=\"http://data.e-stat.go.jp/lod/sac/C01644-19700401\" target=\"_other\">http://data.e-stat.go.jp/lod/sac/C01644-19700401</a></td></tr><tr class=even><td class=val>2960</td>\n",
       "<td class=val>兵庫県</td>\n",
       "<td class=val>三日月町</td>\n",
       "<td class=val><a href=\"http://data.e-stat.go.jp/lod/sac/C28504-20051001\" target=\"_other\">http://data.e-stat.go.jp/lod/sac/C28504-20051001</a></td></tr><tr class=odd><td class=val>6366</td>\n",
       "<td class=val>岩手県</td>\n",
       "<td class=val>松尾村</td>\n",
       "<td class=val><a href=\"http://data.e-stat.go.jp/lod/sac/C03306-20050901\" target=\"_other\">http://data.e-stat.go.jp/lod/sac/C03306-20050901</a></td></tr><tr class=even><td class=val>76953</td>\n",
       "<td class=val>新潟県</td>\n",
       "<td class=val>北区</td>\n",
       "<td class=val><a href=\"http://data.e-stat.go.jp/lod/sac/C15101-20070401\" target=\"_other\">http://data.e-stat.go.jp/lod/sac/C15101-20070401</a></td></tr><tr class=odd><td class=val>15319</td>\n",
       "<td class=val>北海道</td>\n",
       "<td class=val>倶知安町</td>\n",
       "<td class=val><a href=\"http://data.e-stat.go.jp/lod/sac/C01400-19700401\" target=\"_other\">http://data.e-stat.go.jp/lod/sac/C01400-19700401</a></td></tr><tr class=even><td class=val>1258</td>\n",
       "<td class=val>鹿児島県</td>\n",
       "<td class=val>里村</td>\n",
       "<td class=val><a href=\"http://data.e-stat.go.jp/lod/sac/C46388-20041012\" target=\"_other\">http://data.e-stat.go.jp/lod/sac/C46388-20041012</a></td></tr><tr class=odd><td class=val>270897</td>\n",
       "<td class=val>神奈川県</td>\n",
       "<td class=val>戸塚区</td>\n",
       "<td class=val><a href=\"http://data.e-stat.go.jp/lod/sac/C14110-19861103\" target=\"_other\">http://data.e-stat.go.jp/lod/sac/C14110-19861103</a></td></tr><tr class=even><td class=val>24028</td>\n",
       "<td class=val>愛媛県</td>\n",
       "<td class=val>南宇和郡</td>\n",
       "<td class=val><a href=\"http://data.e-stat.go.jp/lod/sac/C38500-19700401\" target=\"_other\">http://data.e-stat.go.jp/lod/sac/C38500-19700401</a></td></tr><tr class=odd><td class=val>16247</td>\n",
       "<td class=val>沖縄県</td>\n",
       "<td class=val>与那原町</td>\n",
       "<td class=val><a href=\"http://data.e-stat.go.jp/lod/sac/C47348-19981221\" target=\"_other\">http://data.e-stat.go.jp/lod/sac/C47348-19981221</a></td></tr><tr class=even><td class=val>2732</td>\n",
       "<td class=val>広島県</td>\n",
       "<td class=val>甲奴町</td>\n",
       "<td class=val><a href=\"http://data.e-stat.go.jp/lod/sac/C34563-20040401\" target=\"_other\">http://data.e-stat.go.jp/lod/sac/C34563-20040401</a></td></tr><tr class=odd><td class=val>11967</td>\n",
       "<td class=val>栃木県</td>\n",
       "<td class=val>市貝町</td>\n",
       "<td class=val><a href=\"http://data.e-stat.go.jp/lod/sac/C09344-20070201\" target=\"_other\">http://data.e-stat.go.jp/lod/sac/C09344-20070201</a></td></tr><tr class=even><td class=val>7395</td>\n",
       "<td class=val>鳥取県</td>\n",
       "<td class=val>赤碕町</td>\n",
       "<td class=val><a href=\"http://data.e-stat.go.jp/lod/sac/C31369-20040901\" target=\"_other\">http://data.e-stat.go.jp/lod/sac/C31369-20040901</a></td></tr><tr class=odd><td class=val>55333</td>\n",
       "<td class=val>鹿児島県</td>\n",
       "<td class=val>出水市</td>\n",
       "<td class=val><a href=\"http://data.e-stat.go.jp/lod/sac/C46208-20060313\" target=\"_other\">http://data.e-stat.go.jp/lod/sac/C46208-20060313</a></td></tr><tr class=even><td class=val>17901</td>\n",
       "<td class=val>神奈川県</td>\n",
       "<td class=val>大井町</td>\n",
       "<td class=val><a href=\"http://data.e-stat.go.jp/lod/sac/C14362-19980401\" target=\"_other\">http://data.e-stat.go.jp/lod/sac/C14362-19980401</a></td></tr><tr class=odd><td class=val>7097</td>\n",
       "<td class=val>和歌山県</td>\n",
       "<td class=val>野上町</td>\n",
       "<td class=val><a href=\"http://data.e-stat.go.jp/lod/sac/C30302-20060101\" target=\"_other\">http://data.e-stat.go.jp/lod/sac/C30302-20060101</a></td></tr><tr class=even><td class=val>32618</td>\n",
       "<td class=val>熊本県</td>\n",
       "<td class=val>益城町</td>\n",
       "<td class=val><a href=\"http://data.e-stat.go.jp/lod/sac/C43443-19930601\" target=\"_other\">http://data.e-stat.go.jp/lod/sac/C43443-19930601</a></td></tr><tr class=odd><td class=val>4860</td>\n",
       "<td class=val>長野県</td>\n",
       "<td class=val>信州新町</td>\n",
       "<td class=val><a href=\"http://data.e-stat.go.jp/lod/sac/C20581-20100101\" target=\"_other\">http://data.e-stat.go.jp/lod/sac/C20581-20100101</a></td></tr><tr class=even><td class=val>5721</td>\n",
       "<td class=val>北海道</td>\n",
       "<td class=val>新冠町</td>\n",
       "<td class=val><a href=\"http://data.e-stat.go.jp/lod/sac/C01604-19700401\" target=\"_other\">http://data.e-stat.go.jp/lod/sac/C01604-19700401</a></td></tr><tr class=odd><td class=val>11732</td>\n",
       "<td class=val>北海道</td>\n",
       "<td class=val>門別町</td>\n",
       "<td class=val><a href=\"http://data.e-stat.go.jp/lod/sac/C01603-20060301\" target=\"_other\">http://data.e-stat.go.jp/lod/sac/C01603-20060301</a></td></tr><tr class=even><td class=val>72294</td>\n",
       "<td class=val>福島県</td>\n",
       "<td class=val>双葉郡</td>\n",
       "<td class=val><a href=\"http://data.e-stat.go.jp/lod/sac/C07540-19700401\" target=\"_other\">http://data.e-stat.go.jp/lod/sac/C07540-19700401</a></td></tr></table><div class=\"tinfo\">Total: 4059, Shown: 20</div></div>"
      ]
     },
     "metadata": {},
     "output_type": "display_data"
    }
   ],
   "source": [
    "%endpoint http://data.e-stat.go.jp/lod/sparql/query\n",
    "%display table\n",
    "PREFIX rdfs:<http://www.w3.org/2000/01/rdf-schema#> \n",
    "PREFIX cd-dimension:<http://data.e-stat.go.jp/lod/ontology/crossDomain/dimension/> \n",
    "PREFIX cd-code:<http://data.e-stat.go.jp/lod/ontology/crossDomain/code/> \n",
    "PREFIX cd-attribute:<http://data.e-stat.go.jp/lod/ontology/crossDomain/attribute/> \n",
    "PREFIX cd-dimension-2016:<http://data.e-stat.go.jp/lod/ontology/crossDomain/dimension/2016/> \n",
    "PREFIX cd-code-2016:<http://data.e-stat.go.jp/lod/ontology/crossDomain/code/2016/> \n",
    "PREFIX pc-measure-2010:<http://data.e-stat.go.jp/lod/ontology/populationCensus/measure/2010/> \n",
    "PREFIX pc-dimension-2010:<http://data.e-stat.go.jp/lod/ontology/populationCensus/dimension/2010/> \n",
    "PREFIX pc-code-2010:<http://data.e-stat.go.jp/lod/ontology/populationCensus/code/2010/> \n",
    "PREFIX sac:<http://data.e-stat.go.jp/lod/sac/> \n",
    "PREFIX ic:<http://imi.ipa.go.jp/ns/core/rdf#> \n",
    "select  ?o ?ken ?siku ?areacode\n",
    "where {\n",
    "      ?s pc-measure-2010:population ?o ;\n",
    "         cd-dimension:standardAreaCode ?areacode.\n",
    "      ?areacode  ic:都道府県 ?ken;\n",
    "         ic:市区町村 ?siku.\n",
    "      ?s cd-dimension-2016:nationality cd-code-2016:nationality-japanese ; \n",
    "         cd-dimension-2016:sex cd-code-2016:sex-total ; \n",
    "         pc-dimension-2010:area pc-code-2010:area-all ; \n",
    "         cd-dimension-2016:age cd-code-2016:age-total . \n",
    "}"
   ]
  },
  {
   "cell_type": "markdown",
   "metadata": {},
   "source": [
    "数分時間がかりました。場合によってはタイムアウトするかもしれません。"
   ]
  }
 ],
 "metadata": {
  "kernelspec": {
   "display_name": "SPARQL",
   "language": "",
   "name": "sparql"
  },
  "language_info": {
   "codemirror_mode": {
    "name": "sparql"
   },
   "mimetype": "application/sparql-query",
   "name": "sparql",
   "pygments_lexer": "sparql-nb"
  }
 },
 "nbformat": 4,
 "nbformat_minor": 0
}
