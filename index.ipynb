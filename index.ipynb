{
 "cells": [
  {
   "cell_type": "markdown",
   "metadata": {},
   "source": [
    "# 統計LODを色々試すnotebook\n",
    "## プロパティパスを使ったSPQRQL、使わないSPARQL\n",
    "\n",
    "SPARQL初心者の自分は、プロパティパスを使った場合エリアコードをキーに興味のある様々な値を複数のプロパティを使ってどのように取得すべきかわからないので、冗長ではあるけどエリアコードの変数を明示してプロパティパスを使わずサンプルを書いています。"
   ]
  },
  {
   "cell_type": "code",
   "execution_count": 1,
   "metadata": {
    "collapsed": false
   },
   "outputs": [
    {
     "data": {
      "text/html": [
       "<div class=\"krn-spql\"><div class=\"magic\">Endpoint set to: http://data.e-stat.go.jp/lod/sparql/query</div></div>"
      ],
      "text/plain": [
       "Endpoint set to: http://data.e-stat.go.jp/lod/sparql/query\n"
      ]
     },
     "metadata": {},
     "output_type": "execute_result"
    },
    {
     "data": {
      "text/plain": [
       "{'head': {'vars': ['o']},\n",
       " 'results': {'bindings': [{'o': {'datatype': 'http://www.w3.org/2001/XMLSchema#decimal',\n",
       "                                 'type': 'typed-literal',\n",
       "                                 'value': '286398'}}]}}"
      ]
     },
     "metadata": {},
     "output_type": "display_data"
    }
   ],
   "source": [
    "%endpoint http://data.e-stat.go.jp/lod/sparql/query\n",
    "# 新宿区の日本人の人口を求める（プロパティパス）\n",
    "PREFIX rdfs:<http://www.w3.org/2000/01/rdf-schema#> \n",
    "PREFIX cd-dimension:<http://data.e-stat.go.jp/lod/ontology/crossDomain/dimension/> \n",
    "PREFIX cd-code:<http://data.e-stat.go.jp/lod/ontology/crossDomain/code/> \n",
    "PREFIX cd-attribute:<http://data.e-stat.go.jp/lod/ontology/crossDomain/attribute/> \n",
    "PREFIX cd-dimension-2016:<http://data.e-stat.go.jp/lod/ontology/crossDomain/dimension/2016/> \n",
    "PREFIX cd-code-2016:<http://data.e-stat.go.jp/lod/ontology/crossDomain/code/2016/> \n",
    "PREFIX pc-measure-2010:<http://data.e-stat.go.jp/lod/ontology/populationCensus/measure/2010/> \n",
    "PREFIX pc-dimension-2010:<http://data.e-stat.go.jp/lod/ontology/populationCensus/dimension/2010/> \n",
    "PREFIX pc-code-2010:<http://data.e-stat.go.jp/lod/ontology/populationCensus/code/2010/> \n",
    "PREFIX sac:<http://data.e-stat.go.jp/lod/sac/> \n",
    "PREFIX ic:<http://imi.ipa.go.jp/ns/core/rdf#> \n",
    "select  ?o \n",
    "where {\n",
    "      ?s pc-measure-2010:population ?o ;\n",
    "         cd-dimension:standardAreaCode / ic:市区町村 \"新宿区\"@ja ;\n",
    "         cd-dimension-2016:sex cd-code-2016:sex-total ; \n",
    "         cd-dimension-2016:nationality cd-code-2016:nationality-japanese ; \n",
    "         pc-dimension-2010:area pc-code-2010:area-all ; \n",
    "         cd-dimension-2016:age cd-code-2016:age-total . \n",
    "}"
   ]
  },
  {
   "cell_type": "code",
   "execution_count": 5,
   "metadata": {
    "collapsed": false
   },
   "outputs": [
    {
     "data": {
      "text/html": [
       "<div class=\"krn-spql\"><div class=\"magic\">Endpoint set to: http://data.e-stat.go.jp/lod/sparql/query</div></div>"
      ],
      "text/plain": [
       "Endpoint set to: http://data.e-stat.go.jp/lod/sparql/query\n"
      ]
     },
     "metadata": {},
     "output_type": "execute_result"
    },
    {
     "data": {
      "text/plain": [
       "{'head': {'vars': ['o']},\n",
       " 'results': {'bindings': [{'o': {'datatype': 'http://www.w3.org/2001/XMLSchema#decimal',\n",
       "                                 'type': 'typed-literal',\n",
       "                                 'value': '286398'}}]}}"
      ]
     },
     "metadata": {},
     "output_type": "display_data"
    }
   ],
   "source": [
    "%endpoint http://data.e-stat.go.jp/lod/sparql/query\n",
    "# プロパティパスを使わないで書いてみる\n",
    "PREFIX rdfs:<http://www.w3.org/2000/01/rdf-schema#> \n",
    "PREFIX cd-dimension:<http://data.e-stat.go.jp/lod/ontology/crossDomain/dimension/> \n",
    "PREFIX cd-code:<http://data.e-stat.go.jp/lod/ontology/crossDomain/code/> \n",
    "PREFIX cd-attribute:<http://data.e-stat.go.jp/lod/ontology/crossDomain/attribute/> \n",
    "PREFIX cd-dimension-2016:<http://data.e-stat.go.jp/lod/ontology/crossDomain/dimension/2016/> \n",
    "PREFIX cd-code-2016:<http://data.e-stat.go.jp/lod/ontology/crossDomain/code/2016/> \n",
    "PREFIX pc-measure-2010:<http://data.e-stat.go.jp/lod/ontology/populationCensus/measure/2010/> \n",
    "PREFIX pc-dimension-2010:<http://data.e-stat.go.jp/lod/ontology/populationCensus/dimension/2010/> \n",
    "PREFIX pc-code-2010:<http://data.e-stat.go.jp/lod/ontology/populationCensus/code/2010/> \n",
    "PREFIX sac:<http://data.e-stat.go.jp/lod/sac/> \n",
    "PREFIX ic:<http://imi.ipa.go.jp/ns/core/rdf#> \n",
    "select  ?o \n",
    "where {\n",
    "      ?s pc-measure-2010:population ?o ;\n",
    "         cd-dimension:standardAreaCode ?areacode.\n",
    "      ?areacode  ic:市区町村  \"新宿区\"@ja.\n",
    "      ?s cd-dimension-2016:nationality cd-code-2016:nationality-japanese ; \n",
    "         cd-dimension-2016:sex cd-code-2016:sex-total ; \n",
    "         pc-dimension-2010:area pc-code-2010:area-all ; \n",
    "         cd-dimension-2016:age cd-code-2016:age-total . \n",
    "}"
   ]
  },
  {
   "cell_type": "markdown",
   "metadata": {},
   "source": [
    "# 統計LODサポートを使って興味のあるプロパティを検索し、統計LODのデータを取得する\n",
    "\n",
    "## 保育園数や保育園入所待機児童数を取得してみます。\n",
    "- [統計LODサポート](http://idease.info/lodstat/)に「保育」と入力して検索。\n",
    "- 「保育所数」「保育所在所児数」「保育所入所待機児童数」などのプロパティが表示されます。この中からまず、保育所入所待機児童数を取得することにします。\n",
    "- 統計LODサポートで検索された「保育所入所待機児童数」をクリックします。\n",
    "- 保育所数のプロパティ（predicate）「http://data.e-stat.go.jp/lod/ontology/systemOfSocialAndDemographicStatistics/measure/2016/J250502」 が長いのでPREFIXを\"ssds-measure-2016\"のように設定します。\n",
    "- 待機児童数（この場合RDFの目的語になる）を指す変数を「?taikijido」とします\n",
    "- セルID　 保育所数の述語　　待機児童数; のRDFを記述\n",
    "- セルID（省略形式）　エリアコード（PREFIXを利用）を指す述語 エリアコード（未知の変数）. を記述\n",
    "- [共通語彙基盤](http://imi.go.jp/ns/core/Core232.html)のコア語彙「市区町村」を使って、エリアコード  市区町村 新宿区. を記述し、新宿区のエリアコードを取得します。\n",
    "- SPARQLを実行すると新宿区の待機児童数が変数taikijidoとして取得されます。\n"
   ]
  },
  {
   "cell_type": "code",
   "execution_count": 6,
   "metadata": {
    "collapsed": false
   },
   "outputs": [
    {
     "data": {
      "text/html": [
       "<div class=\"krn-spql\"><div class=\"magic\">Endpoint set to: http://data.e-stat.go.jp/lod/sparql/query</div></div>"
      ],
      "text/plain": [
       "Endpoint set to: http://data.e-stat.go.jp/lod/sparql/query\n"
      ]
     },
     "metadata": {},
     "output_type": "execute_result"
    },
    {
     "data": {
      "text/plain": [
       "{'head': {'vars': ['taikijido']},\n",
       " 'results': {'bindings': [{'taikijido': {'datatype': 'http://www.w3.org/2001/XMLSchema#decimal',\n",
       "                                         'type': 'typed-literal',\n",
       "                                         'value': '176'}}]}}"
      ]
     },
     "metadata": {},
     "output_type": "display_data"
    }
   ],
   "source": [
    "%endpoint http://data.e-stat.go.jp/lod/sparql/query\n",
    "#新宿区の待機児童数\n",
    "PREFIX ssds-measure-2016:<http://data.e-stat.go.jp/lod/ontology/systemOfSocialAndDemographicStatistics/measure/2016/>\n",
    "PREFIX cd-dimension:<http://data.e-stat.go.jp/lod/ontology/crossDomain/dimension/> \n",
    "PREFIX ic:<http://imi.ipa.go.jp/ns/core/rdf#> \n",
    "select ?taikijido\n",
    "where{\n",
    "    ?s ssds-measure-2016:J250502 ?taikijido;\n",
    "        cd-dimension:standardAreaCode ?areacode.\n",
    "     ?areacode ic:市区町村  \"新宿区\"@ja.\n",
    "}"
   ]
  },
  {
   "cell_type": "markdown",
   "metadata": {},
   "source": [
    "## UNIONを使って「新宿区」と「文京区」のOR条件で取得する"
   ]
  },
  {
   "cell_type": "code",
   "execution_count": 20,
   "metadata": {
    "collapsed": false
   },
   "outputs": [
    {
     "data": {
      "text/html": [
       "<div class=\"krn-spql\"><div class=\"magic\">Endpoint set to: http://data.e-stat.go.jp/lod/sparql/query</div><div class=\"magic\">Display: table</div></div>"
      ],
      "text/plain": [
       "Endpoint set to: http://data.e-stat.go.jp/lod/sparql/query\n",
       "Display: table\n"
      ]
     },
     "metadata": {},
     "output_type": "execute_result"
    },
    {
     "data": {
      "text/html": [
       "<div class=\"krn-spql\"><table><tr class=hdr><th>保育所数</th></tr><tr class=odd><td class=val>36</td></tr><tr class=even><td class=val>28</td></tr></table><div class=\"tinfo\">Total: 2, Shown: 2</div></div>"
      ]
     },
     "metadata": {},
     "output_type": "execute_result"
    }
   ],
   "source": [
    "%endpoint http://data.e-stat.go.jp/lod/sparql/query\n",
    "%display table\n",
    "PREFIX ssds-measure-2016:<http://data.e-stat.go.jp/lod/ontology/systemOfSocialAndDemographicStatistics/measure/2016/>\n",
    "PREFIX cd-dimension:<http://data.e-stat.go.jp/lod/ontology/crossDomain/dimension/> \n",
    "PREFIX ic:<http://imi.ipa.go.jp/ns/core/rdf#> \n",
    "select ?保育所数\n",
    "where{\n",
    "        {\n",
    "        ?s ssds-measure-2016:J2503 ?保育所数;\n",
    "        cd-dimension:standardAreaCode / ic:市区町村 \"新宿区\"@ja. \n",
    "            } union {\n",
    "        ?s ssds-measure-2016:J2503 ?保育所数;\n",
    "        cd-dimension:standardAreaCode / ic:市区町村 \"文京区\"@ja. \n",
    "        }\n",
    "}"
   ]
  },
  {
   "cell_type": "markdown",
   "metadata": {},
   "source": [
    "## 都道府県名のプロパティで東京都のエリアコードを取得し、東京都の待機児童数を取得"
   ]
  },
  {
   "cell_type": "code",
   "execution_count": 12,
   "metadata": {
    "collapsed": false
   },
   "outputs": [
    {
     "data": {
      "text/html": [
       "<div class=\"krn-spql\"><div class=\"magic\">Endpoint set to: http://data.e-stat.go.jp/lod/sparql/query</div><div class=\"magic\">Display: table</div></div>"
      ],
      "text/plain": [
       "Endpoint set to: http://data.e-stat.go.jp/lod/sparql/query\n",
       "Display: table\n"
      ]
     },
     "metadata": {},
     "output_type": "execute_result"
    },
    {
     "data": {
      "text/html": [
       "<div class=\"krn-spql\"><table><tr class=hdr><th>待機児童数</th>\n",
       "<th>市区町村</th></tr><tr class=odd><td class=val>0</td>\n",
       "<td class=val>新島村</td></tr><tr class=even><td class=val>249</td>\n",
       "<td class=val>調布市</td></tr><tr class=odd><td class=val>1</td>\n",
       "<td class=val>瑞穂町</td></tr><tr class=even><td class=val>270</td>\n",
       "<td class=val>豊島区</td></tr><tr class=odd><td class=val>438</td>\n",
       "<td class=val>大田区</td></tr><tr class=even><td class=val>52</td>\n",
       "<td class=val>清瀬市</td></tr><tr class=odd><td class=val>0</td>\n",
       "<td class=val>奥多摩町</td></tr><tr class=even><td class=val>125</td>\n",
       "<td class=val>北区</td></tr><tr class=odd><td class=val>257</td>\n",
       "<td class=val>町田市</td></tr><tr class=even><td class=val>47</td>\n",
       "<td class=val>狛江市</td></tr></table><div class=\"tinfo\">Total: 10, Shown: 10</div></div>"
      ]
     },
     "metadata": {},
     "output_type": "execute_result"
    }
   ],
   "source": [
    "%endpoint http://data.e-stat.go.jp/lod/sparql/query\n",
    "%display table\n",
    "PREFIX ssds-measure-2016:<http://data.e-stat.go.jp/lod/ontology/systemOfSocialAndDemographicStatistics/measure/2016/>\n",
    "PREFIX cd-dimension:<http://data.e-stat.go.jp/lod/ontology/crossDomain/dimension/> \n",
    "PREFIX ic:<http://imi.ipa.go.jp/ns/core/rdf#> \n",
    "select ?待機児童数 ?市区町村\n",
    "where{\n",
    "    ?s ssds-measure-2016:J250502 ?待機児童数;\n",
    "        cd-dimension:standardAreaCode ?areacode.\n",
    "     ?areacode ic:都道府県  \"東京都\"@ja;\n",
    "         ic:市区町村 ?市区町村.\n",
    "}\n",
    "limit 10"
   ]
  },
  {
   "cell_type": "markdown",
   "metadata": {},
   "source": [
    "## 区ごとの「保育所在所児童数」「保育所数」を組み合わせてみます。\n",
    "プロパティパスで逆パス等を使うとまとめて記述できそうだけど、、、、自分は書けないのでとりあえずシンプルに書いてみます。"
   ]
  },
  {
   "cell_type": "code",
   "execution_count": 16,
   "metadata": {
    "collapsed": false
   },
   "outputs": [
    {
     "data": {
      "text/html": [
       "<div class=\"krn-spql\"><div class=\"magic\">Endpoint set to: http://data.e-stat.go.jp/lod/sparql/query</div><div class=\"magic\">Display: table</div></div>"
      ],
      "text/plain": [
       "Endpoint set to: http://data.e-stat.go.jp/lod/sparql/query\n",
       "Display: table\n"
      ]
     },
     "metadata": {},
     "output_type": "execute_result"
    },
    {
     "data": {
      "text/html": [
       "<div class=\"krn-spql\"><table><tr class=hdr><th>市区町村</th>\n",
       "<th>保育所数</th>\n",
       "<th>在所児童</th>\n",
       "<th>待機児童</th></tr><tr class=odd><td class=val>目黒区</td>\n",
       "<td class=val>26</td>\n",
       "<td class=val>2498</td>\n",
       "<td class=val>132</td></tr><tr class=even><td class=val>文京区</td>\n",
       "<td class=val>28</td>\n",
       "<td class=val>2327</td>\n",
       "<td class=val>96</td></tr><tr class=odd><td class=val>新島村</td>\n",
       "<td class=val>3</td>\n",
       "<td class=val>63</td>\n",
       "<td class=val>0</td></tr><tr class=even><td class=val>八丈町</td>\n",
       "<td class=val>3</td>\n",
       "<td class=val>162</td>\n",
       "<td class=val>0</td></tr><tr class=odd><td class=val>東大和市</td>\n",
       "<td class=val>15</td>\n",
       "<td class=val>1788</td>\n",
       "<td class=val>79</td></tr><tr class=even><td class=val>小金井市</td>\n",
       "<td class=val>13</td>\n",
       "<td class=val>1404</td>\n",
       "<td class=val>188</td></tr><tr class=odd><td class=val>清瀬市</td>\n",
       "<td class=val>11</td>\n",
       "<td class=val>937</td>\n",
       "<td class=val>52</td></tr><tr class=even><td class=val>国立市</td>\n",
       "<td class=val>11</td>\n",
       "<td class=val>1151</td>\n",
       "<td class=val>32</td></tr><tr class=odd><td class=val>渋谷区</td>\n",
       "<td class=val>29</td>\n",
       "<td class=val>2305</td>\n",
       "<td class=val>73</td></tr><tr class=even><td class=val>あきる野市</td>\n",
       "<td class=val>15</td>\n",
       "<td class=val>1779</td>\n",
       "<td class=val>35</td></tr><tr class=odd><td class=val>日野市</td>\n",
       "<td class=val>29</td>\n",
       "<td class=val>2891</td>\n",
       "<td class=val>155</td></tr><tr class=even><td class=val>大島町</td>\n",
       "<td class=val>5</td>\n",
       "<td class=val>269</td>\n",
       "<td class=val>0</td></tr><tr class=odd><td class=val>西東京市</td>\n",
       "<td class=val>25</td>\n",
       "<td class=val>2522</td>\n",
       "<td class=val>184</td></tr><tr class=even><td class=val>千代田区</td>\n",
       "<td class=val>6</td>\n",
       "<td class=val>727</td>\n",
       "<td class=val>4</td></tr><tr class=odd><td class=val>檜原村</td>\n",
       "<td class=val>1</td>\n",
       "<td class=val>53</td>\n",
       "<td class=val>0</td></tr><tr class=even><td class=val>町田市</td>\n",
       "<td class=val>56</td>\n",
       "<td class=val>5257</td>\n",
       "<td class=val>257</td></tr><tr class=odd><td class=val>三鷹市</td>\n",
       "<td class=val>31</td>\n",
       "<td class=val>2400</td>\n",
       "<td class=val>160</td></tr><tr class=even><td class=val>狛江市</td>\n",
       "<td class=val>9</td>\n",
       "<td class=val>919</td>\n",
       "<td class=val>47</td></tr><tr class=odd><td class=val>瑞穂町</td>\n",
       "<td class=val>7</td>\n",
       "<td class=val>618</td>\n",
       "<td class=val>1</td></tr><tr class=even><td class=val>昭島市</td>\n",
       "<td class=val>19</td>\n",
       "<td class=val>2517</td>\n",
       "<td class=val>46</td></tr></table><div class=\"tinfo\">Total: 63, Shown: 20</div></div>"
      ]
     },
     "metadata": {},
     "output_type": "execute_result"
    }
   ],
   "source": [
    "%endpoint http://data.e-stat.go.jp/lod/sparql/query\n",
    "%display table\n",
    "PREFIX ssds-measure-2016:<http://data.e-stat.go.jp/lod/ontology/systemOfSocialAndDemographicStatistics/measure/2016/>\n",
    "PREFIX cd-dimension:<http://data.e-stat.go.jp/lod/ontology/crossDomain/dimension/> \n",
    "PREFIX ic:<http://imi.ipa.go.jp/ns/core/rdf#> \n",
    "select ?市区町村 ?保育所数  ?在所児童 ?待機児童\n",
    "where{\n",
    "    ?s1 ssds-measure-2016:J250502 ?待機児童;\n",
    "        cd-dimension:standardAreaCode ?areacode.\n",
    "     ?areacode ic:都道府県  \"東京都\"@ja;\n",
    "         ic:市区町村 ?市区町村.\n",
    "    ?s2 ssds-measure-2016:J2503 ?保育所数;\n",
    "        cd-dimension:standardAreaCode ?areacode.\n",
    "    ?s3 ssds-measure-2016:J2506 ?在所児童;\n",
    "        cd-dimension:standardAreaCode ?areacode.\n",
    "}"
   ]
  },
  {
   "cell_type": "markdown",
   "metadata": {},
   "source": [
    "さらに関係ありそうなデータをエリアコードをキーに追加していきたいと思います。\n",
    "統計LODサポートで今度は「病院」を検索します。「一般病院数」のプロパティがあるのでこれをSPARQLに追加します。\n",
    "また最初のサンプルで取得しているような、区毎の人口もざっくり（全年齢、全盛別の値で）追加してみます。"
   ]
  },
  {
   "cell_type": "code",
   "execution_count": 19,
   "metadata": {
    "collapsed": false
   },
   "outputs": [
    {
     "data": {
      "text/html": [
       "<div class=\"krn-spql\"><div class=\"magic\">Endpoint set to: http://data.e-stat.go.jp/lod/sparql/query</div><div class=\"magic\">Display: table</div></div>"
      ],
      "text/plain": [
       "Endpoint set to: http://data.e-stat.go.jp/lod/sparql/query\n",
       "Display: table\n"
      ]
     },
     "metadata": {},
     "output_type": "execute_result"
    },
    {
     "data": {
      "text/html": [
       "<div class=\"krn-spql\"><table><tr class=hdr><th>siku</th>\n",
       "<th>hoikusyo</th>\n",
       "<th>zaisyo</th>\n",
       "<th>taiki</th>\n",
       "<th>hospital</th>\n",
       "<th>jinko</th></tr><tr class=odd><td class=val>八王子市</td>\n",
       "<td class=val>82</td>\n",
       "<td class=val>9172</td>\n",
       "<td class=val>253</td>\n",
       "<td class=val>33</td>\n",
       "<td class=val>568293</td></tr><tr class=even><td class=val>稲城市</td>\n",
       "<td class=val>12</td>\n",
       "<td class=val>1424</td>\n",
       "<td class=val>50</td>\n",
       "<td class=val>3</td>\n",
       "<td class=val>83200</td></tr><tr class=odd><td class=val>日の出町</td>\n",
       "<td class=val>4</td>\n",
       "<td class=val>504</td>\n",
       "<td class=val>26</td>\n",
       "<td class=val>2</td>\n",
       "<td class=val>16591</td></tr><tr class=even><td class=val>羽村市</td>\n",
       "<td class=val>12</td>\n",
       "<td class=val>1217</td>\n",
       "<td class=val>6</td>\n",
       "<td class=val>2</td>\n",
       "<td class=val>55379</td></tr><tr class=odd><td class=val>瑞穂町</td>\n",
       "<td class=val>7</td>\n",
       "<td class=val>618</td>\n",
       "<td class=val>1</td>\n",
       "<td class=val>1</td>\n",
       "<td class=val>32979</td></tr><tr class=even><td class=val>利島村</td>\n",
       "<td class=val>1</td>\n",
       "<td class=val>24</td>\n",
       "<td class=val>0</td>\n",
       "<td class=val>0</td>\n",
       "<td class=val>339</td></tr><tr class=odd><td class=val>目黒区</td>\n",
       "<td class=val>26</td>\n",
       "<td class=val>2498</td>\n",
       "<td class=val>132</td>\n",
       "<td class=val>9</td>\n",
       "<td class=val>260870</td></tr><tr class=even><td class=val>町田市</td>\n",
       "<td class=val>56</td>\n",
       "<td class=val>5257</td>\n",
       "<td class=val>257</td>\n",
       "<td class=val>14</td>\n",
       "<td class=val>419062</td></tr><tr class=odd><td class=val>青梅市</td>\n",
       "<td class=val>32</td>\n",
       "<td class=val>3322</td>\n",
       "<td class=val>19</td>\n",
       "<td class=val>8</td>\n",
       "<td class=val>138341</td></tr><tr class=even><td class=val>杉並区</td>\n",
       "<td class=val>55</td>\n",
       "<td class=val>5390</td>\n",
       "<td class=val>285</td>\n",
       "<td class=val>17</td>\n",
       "<td class=val>506982</td></tr><tr class=odd><td class=val>江東区</td>\n",
       "<td class=val>72</td>\n",
       "<td class=val>7002</td>\n",
       "<td class=val>416</td>\n",
       "<td class=val>17</td>\n",
       "<td class=val>444062</td></tr><tr class=even><td class=val>福生市</td>\n",
       "<td class=val>12</td>\n",
       "<td class=val>1250</td>\n",
       "<td class=val>0</td>\n",
       "<td class=val>4</td>\n",
       "<td class=val>56998</td></tr><tr class=odd><td class=val>豊島区</td>\n",
       "<td class=val>31</td>\n",
       "<td class=val>3041</td>\n",
       "<td class=val>270</td>\n",
       "<td class=val>15</td>\n",
       "<td class=val>261282</td></tr><tr class=even><td class=val>檜原村</td>\n",
       "<td class=val>1</td>\n",
       "<td class=val>53</td>\n",
       "<td class=val>0</td>\n",
       "<td class=val>0</td>\n",
       "<td class=val>2549</td></tr><tr class=odd><td class=val>府中市</td>\n",
       "<td class=val>40</td>\n",
       "<td class=val>4176</td>\n",
       "<td class=val>181</td>\n",
       "<td class=val>13</td>\n",
       "<td class=val>247986</td></tr><tr class=even><td class=val>足立区</td>\n",
       "<td class=val>88</td>\n",
       "<td class=val>8847</td>\n",
       "<td class=val>294</td>\n",
       "<td class=val>47</td>\n",
       "<td class=val>656755</td></tr><tr class=odd><td class=val>中野区</td>\n",
       "<td class=val>36</td>\n",
       "<td class=val>3469</td>\n",
       "<td class=val>147</td>\n",
       "<td class=val>10</td>\n",
       "<td class=val>297620</td></tr><tr class=even><td class=val>東大和市</td>\n",
       "<td class=val>15</td>\n",
       "<td class=val>1788</td>\n",
       "<td class=val>79</td>\n",
       "<td class=val>2</td>\n",
       "<td class=val>81800</td></tr><tr class=odd><td class=val>小平市</td>\n",
       "<td class=val>18</td>\n",
       "<td class=val>1956</td>\n",
       "<td class=val>174</td>\n",
       "<td class=val>8</td>\n",
       "<td class=val>181924</td></tr><tr class=even><td class=val>昭島市</td>\n",
       "<td class=val>19</td>\n",
       "<td class=val>2517</td>\n",
       "<td class=val>46</td>\n",
       "<td class=val>7</td>\n",
       "<td class=val>110292</td></tr></table><div class=\"tinfo\">Total: 63, Shown: 20</div></div>"
      ]
     },
     "metadata": {},
     "output_type": "execute_result"
    }
   ],
   "source": [
    "%endpoint http://data.e-stat.go.jp/lod/sparql/query\n",
    "%display table\n",
    "PREFIX ssds-measure-2016:<http://data.e-stat.go.jp/lod/ontology/systemOfSocialAndDemographicStatistics/measure/2016/>\n",
    "PREFIX cd-dimension:<http://data.e-stat.go.jp/lod/ontology/crossDomain/dimension/> \n",
    "PREFIX pc-measure-2010:<http://data.e-stat.go.jp/lod/ontology/populationCensus/measure/2010/> \n",
    "PREFIX pc-dimension-2010:<http://data.e-stat.go.jp/lod/ontology/populationCensus/dimension/2010/> \n",
    "PREFIX cd-dimension-2016:<http://data.e-stat.go.jp/lod/ontology/crossDomain/dimension/2016/> \n",
    "PREFIX pc-code-2010:<http://data.e-stat.go.jp/lod/ontology/populationCensus/code/2010/> \n",
    "PREFIX cd-code-2016:<http://data.e-stat.go.jp/lod/ontology/crossDomain/code/2016/> \n",
    "PREFIX ic:<http://imi.ipa.go.jp/ns/core/rdf#> \n",
    "select ?siku ?hoikusyo  ?zaisyo ?taiki ?hospital ?jinko\n",
    "where{\n",
    "    ?s1 ssds-measure-2016:J250502 ?taiki;\n",
    "        cd-dimension:standardAreaCode ?areacode.\n",
    "     ?areacode ic:都道府県  \"東京都\"@ja;\n",
    "         ic:市区町村 ?siku.\n",
    "    ?s2 ssds-measure-2016:J2503 ?hoikusyo;\n",
    "        cd-dimension:standardAreaCode ?areacode.\n",
    "    ?s3 ssds-measure-2016:J2506 ?zaisyo;\n",
    "        cd-dimension:standardAreaCode ?areacode.\n",
    "    ?s4 ssds-measure-2016:I510120 ?hospital;\n",
    "        cd-dimension:standardAreaCode ?areacode.\n",
    "?s5 pc-measure-2010:population ?jinko;\n",
    "        cd-dimension:standardAreaCode ?areacode;\n",
    "        cd-dimension-2016:sex cd-code-2016:sex-total; \n",
    "         cd-dimension-2016:nationality cd-code-2016:nationality-japanese; \n",
    "         pc-dimension-2010:area pc-code-2010:area-all; \n",
    "         cd-dimension-2016:age cd-code-2016:age-total .\n",
    "}"
   ]
  }
 ],
 "metadata": {
  "kernelspec": {
   "display_name": "SPARQL",
   "language": "",
   "name": "sparql"
  },
  "language_info": {
   "codemirror_mode": {
    "name": "sparql"
   },
   "mimetype": "application/sparql-query",
   "name": "sparql",
   "pygments_lexer": "sparql-nb"
  }
 },
 "nbformat": 4,
 "nbformat_minor": 0
}