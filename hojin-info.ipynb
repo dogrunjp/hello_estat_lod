{
 "cells": [
  {
   "cell_type": "markdown",
   "metadata": {},
   "source": [
    "# 法人インフォメーションAPI利用ノート\n"
   ]
  },
  {
   "cell_type": "markdown",
   "metadata": {},
   "source": [
    "## 法人基本情報の取得例\n",
    "※このノートはjupyter notebookに[SPARQL kernl](https://github.com/paulovn/sparql-kernel)をインストールしてSPARQLを実行しています。\n",
    "### 変数の概要\n",
    "変数は任意ですがこのノートでは以下のように使用しています\n",
    "\n",
    "- ?d: 法人情報\n",
    "- ?db: 法人基本情報\n",
    "- ?v: 法人基本情報の識別値\n",
    "- ?name: 法人の名称\n",
    "- ?area: 法人の住所\n",
    "\n",
    "法人基本情報型に空要素を介してプロパティがリンクしています。\n",
    "※API資料 page=4を参照"
   ]
  },
  {
   "cell_type": "code",
   "execution_count": 42,
   "metadata": {
    "collapsed": false
   },
   "outputs": [
    {
     "data": {
      "text/html": [
       "<div class=\"krn-spql\"><div class=\"magic\">Endpoint set to: http://api.hojin-info.go.jp/sparql</div><div class=\"magic\">Display: table</div></div>"
      ],
      "text/plain": [
       "Endpoint set to: http://api.hojin-info.go.jp/sparql\n",
       "Display: table\n"
      ]
     },
     "metadata": {},
     "output_type": "display_data"
    },
    {
     "data": {
      "text/html": [
       "<div class=\"krn-spql\"><table><tr class=hdr><th>v</th>\n",
       "<th>name</th></tr><tr class=odd><td class=val>1000012160153</td>\n",
       "<td class=val>釧路検察審査会</td></tr><tr class=even><td class=val>1000013050386</td>\n",
       "<td class=val>伊達簡易裁判所</td></tr><tr class=odd><td class=val>1000013050394</td>\n",
       "<td class=val>八雲簡易裁判所</td></tr><tr class=even><td class=val>1000013050403</td>\n",
       "<td class=val>留萌簡易裁判所</td></tr><tr class=odd><td class=val>1000013050411</td>\n",
       "<td class=val>遠軽簡易裁判所</td></tr><tr class=even><td class=val>1000020012131</td>\n",
       "<td class=val>苫小牧市</td></tr><tr class=odd><td class=val>1000020012271</td>\n",
       "<td class=val>歌志内市</td></tr><tr class=even><td class=val>1000020013030</td>\n",
       "<td class=val>当別町</td></tr><tr class=odd><td class=val>1000020013617</td>\n",
       "<td class=val>江差町</td></tr><tr class=even><td class=val>1000020013625</td>\n",
       "<td class=val>上ノ国町</td></tr></table><div class=\"tinfo\">Total: 10, Shown: 10</div></div>"
      ]
     },
     "metadata": {},
     "output_type": "display_data"
    }
   ],
   "source": [
    "%endpoint　http://api.hojin-info.go.jp/sparql\n",
    "%display table\n",
    "PREFIX hj: <http://hojin-info.go.jp/ns/domain/biz/1#> \n",
    "PREFIX ic: <http://imi.go.jp/ns/core/rdf#>\n",
    "SELECT ?v ?name FROM <http://hojin-info.go.jp/graph/hojin>\n",
    "WHERE {\n",
    "    ?d hj:法人基本情報 ?db.\n",
    "    ?db ic:ID/ic:識別値 ?v ;\n",
    "       ic:名称/ic:表記 ?name .\n",
    "} LIMIT 10\n"
   ]
  },
  {
   "cell_type": "code",
   "execution_count": 59,
   "metadata": {
    "collapsed": false
   },
   "outputs": [
    {
     "data": {
      "text/html": [
       "<div class=\"krn-spql\"><div class=\"magic\">Endpoint set to: http://api.hojin-info.go.jp/sparql</div><div class=\"magic\">Display: table</div></div>"
      ],
      "text/plain": [
       "Endpoint set to: http://api.hojin-info.go.jp/sparql\n",
       "Display: table\n"
      ]
     },
     "metadata": {},
     "output_type": "display_data"
    },
    {
     "data": {
      "text/html": [
       "<div class=\"krn-spql\"><table><tr class=hdr><th>v</th>\n",
       "<th>name</th>\n",
       "<th>pref</th>\n",
       "<th>area</th></tr><tr class=odd><td class=val>1000012160153</td>\n",
       "<td class=val>釧路検察審査会</td>\n",
       "<td class=val>北海道</td>\n",
       "<td class=val>北海道釧路市柏木町４－７</td></tr><tr class=even><td class=val>1000013050386</td>\n",
       "<td class=val>伊達簡易裁判所</td>\n",
       "<td class=val>北海道</td>\n",
       "<td class=val>北海道伊達市末永町４７－１０</td></tr><tr class=odd><td class=val>1000013050394</td>\n",
       "<td class=val>八雲簡易裁判所</td>\n",
       "<td class=val>北海道</td>\n",
       "<td class=val>北海道二海郡八雲町末広町１８４</td></tr><tr class=even><td class=val>1000013050403</td>\n",
       "<td class=val>留萌簡易裁判所</td>\n",
       "<td class=val>北海道</td>\n",
       "<td class=val>北海道留萌市沖見町２丁目</td></tr><tr class=odd><td class=val>1000013050411</td>\n",
       "<td class=val>遠軽簡易裁判所</td>\n",
       "<td class=val>北海道</td>\n",
       "<td class=val>北海道紋別郡遠軽町一条通北２丁目３－２５</td></tr><tr class=even><td class=val>1000020012131</td>\n",
       "<td class=val>苫小牧市</td>\n",
       "<td class=val>北海道</td>\n",
       "<td class=val>北海道苫小牧市旭町４丁目５－６</td></tr><tr class=odd><td class=val>1000020012271</td>\n",
       "<td class=val>歌志内市</td>\n",
       "<td class=val>北海道</td>\n",
       "<td class=val>北海道歌志内市字本町５</td></tr><tr class=even><td class=val>1000020013030</td>\n",
       "<td class=val>当別町</td>\n",
       "<td class=val>北海道</td>\n",
       "<td class=val>北海道石狩郡当別町白樺町５８－９</td></tr><tr class=odd><td class=val>1000020013617</td>\n",
       "<td class=val>江差町</td>\n",
       "<td class=val>北海道</td>\n",
       "<td class=val>北海道檜山郡江差町字中歌町１９３－１</td></tr><tr class=even><td class=val>1000020013625</td>\n",
       "<td class=val>上ノ国町</td>\n",
       "<td class=val>北海道</td>\n",
       "<td class=val>北海道檜山郡上ノ国町字大留１００</td></tr></table><div class=\"tinfo\">Total: 10, Shown: 10</div></div>"
      ]
     },
     "metadata": {},
     "output_type": "display_data"
    }
   ],
   "source": [
    "%endpoint　http://api.hojin-info.go.jp/sparql\n",
    "%display table\n",
    "PREFIX hj: <http://hojin-info.go.jp/ns/domain/biz/1#> \n",
    "PREFIX ic: <http://imi.go.jp/ns/core/rdf#>\n",
    "SELECT ?v ?name ?pref ?area FROM <http://hojin-info.go.jp/graph/hojin>\n",
    "WHERE {\n",
    "    ?d hj:法人基本情報 ?db.\n",
    "    ?db ic:ID/ic:識別値 ?v ;\n",
    "        ic:住所/ic:表記 ?area ;\n",
    "        ic:住所/ic:都道府県 ?pref ;\n",
    "        ic:名称/ic:表記 ?name .\n",
    "} LIMIT 10"
   ]
  },
  {
   "cell_type": "markdown",
   "metadata": {},
   "source": [
    "東京都を指定すると"
   ]
  },
  {
   "cell_type": "code",
   "execution_count": 73,
   "metadata": {
    "collapsed": false,
    "scrolled": true
   },
   "outputs": [
    {
     "data": {
      "text/html": [
       "<div class=\"krn-spql\"><div class=\"magic\">Endpoint set to: http://api.hojin-info.go.jp/sparql</div></div>"
      ],
      "text/plain": [
       "Endpoint set to: http://api.hojin-info.go.jp/sparql\n"
      ]
     },
     "metadata": {},
     "output_type": "display_data"
    },
    {
     "data": {
      "text/html": [
       "<div class=\"krn-spql\"><table><tr class=hdr><th>v</th>\n",
       "<th>name</th>\n",
       "<th>area</th></tr><tr class=odd><td class=val>1430001030704</td>\n",
       "<td class=val>株式会社プロモ・ラボ</td>\n",
       "<td class=val>東京都渋谷区南平台町２番１３号</td></tr><tr class=even><td class=val>8040005007517</td>\n",
       "<td class=val>社会福祉法人千歳会</td>\n",
       "<td class=val>東京都中央区日本橋馬喰町２丁目４番５号３階</td></tr><tr class=odd><td class=val>9040001012263</td>\n",
       "<td class=val>株式会社ＢｌｕｅＣＯＲＥ</td>\n",
       "<td class=val>東京都江東区東陽３丁目２６番９号サンライビル５Ｆ</td></tr><tr class=even><td class=val>9040001066458</td>\n",
       "<td class=val>大金属工業株式会社</td>\n",
       "<td class=val>東京都江戸川区瑞江３丁目２３番８号</td></tr><tr class=odd><td class=val>9040001075533</td>\n",
       "<td class=val>金宏貿易株式会社</td>\n",
       "<td class=val>東京都足立区東綾瀬１丁目２９番９－５０３号</td></tr><tr class=even><td class=val>9040001083511</td>\n",
       "<td class=val>株式会社Ｇ＆Ｇ</td>\n",
       "<td class=val>東京都品川区西五反田４丁目１３番１６号</td></tr><tr class=odd><td class=val>9040003001009</td>\n",
       "<td class=val>合同会社ＲＥＭ</td>\n",
       "<td class=val>東京都世田谷区上北沢５丁目１８番６号</td></tr><tr class=even><td class=val>1000011000005</td>\n",
       "<td class=val>国立国会図書館</td>\n",
       "<td class=val>東京都千代田区永田町１丁目１０－１</td></tr><tr class=odd><td class=val>1000012010003</td>\n",
       "<td class=val>内閣法制局</td>\n",
       "<td class=val>東京都千代田区霞が関３丁目１－１中央合同庁舎第４号館</td></tr><tr class=even><td class=val>1000012010011</td>\n",
       "<td class=val>郵政民営化推進本部</td>\n",
       "<td class=val>東京都千代田区永田町１丁目１１－３９</td></tr></table><div class=\"tinfo\">Total: 10, Shown: 10</div></div>"
      ]
     },
     "metadata": {},
     "output_type": "display_data"
    }
   ],
   "source": [
    "%endpoint　http://api.hojin-info.go.jp/sparql\n",
    "PREFIX hj: <http://hojin-info.go.jp/ns/domain/biz/1#> \n",
    "PREFIX ic: <http://imi.go.jp/ns/core/rdf#>\n",
    "SELECT ?v ?name ?area FROM <http://hojin-info.go.jp/graph/hojin>\n",
    "WHERE {\n",
    "    ?d hj:法人基本情報 ?db.\n",
    "    ?db ic:ID/ic:識別値 ?v ;\n",
    "        ic:住所/ic:表記 ?area ;\n",
    "        ic:名称/ic:表記 ?name ;\n",
    "        ic:住所/ic:都道府県 '東京都' .\n",
    "} LIMIT 10"
   ]
  },
  {
   "cell_type": "markdown",
   "metadata": {},
   "source": [
    "## 法人活動情報の取得\n",
    "\n",
    "### 変数の概要\n",
    "変数は任意ですがこのノートでは以下のように使用しています\n",
    "\n",
    "- ?d: 法人情報\n",
    "- ?de: 調達型\n",
    "- ?v: 識別値\n",
    "- ?target: 対象\n",
    "- ?i: 更新日時\n",
    "\n",
    "試しに上記のSPARQLで識別値が取得できた国立国会図書館の情報を、識別値を使って取得してみました（金額、対象などの詳細情報は取得できませんでした）。"
   ]
  },
  {
   "cell_type": "code",
   "execution_count": 89,
   "metadata": {
    "collapsed": false
   },
   "outputs": [
    {
     "data": {
      "text/html": [
       "<div class=\"krn-spql\"><div class=\"magic\">Endpoint set to: http://api.hojin-info.go.jp/sparql</div></div>"
      ],
      "text/plain": [
       "Endpoint set to: http://api.hojin-info.go.jp/sparql\n"
      ]
     },
     "metadata": {},
     "output_type": "display_data"
    },
    {
     "data": {
      "text/html": [
       "<div class=\"krn-spql\"><table><tr class=hdr><th>de</th>\n",
       "<th>target</th>\n",
       "<th>i</th></tr><tr class=odd><td class=val><a href=\"http://hojin-info.go.jp/data/basic/1000011000005\" target=\"_other\">http://hojin-info.go.jp/data/basic/1000011000005</a></td>\n",
       "<td class=val>法人情報システム</td>\n",
       "<td class=val>2015-10-26T00:00:00+09:00</td></tr></table><div class=\"tinfo\">Total: 1, Shown: 1</div></div>"
      ]
     },
     "metadata": {},
     "output_type": "display_data"
    }
   ],
   "source": [
    "%endpoint　http://api.hojin-info.go.jp/sparql\n",
    "PREFIX hj: <http://hojin-info.go.jp/ns/domain/biz/1#> \n",
    "PREFIX ic: <http://imi.go.jp/ns/core/rdf#>\n",
    "SELECT ?de ?target ?i FROM <http://hojin-info.go.jp/graph/hojin>\n",
    "WHERE {\n",
    "    ?de ic:ID/ic:識別値 '1000011000005' ;\n",
    "        hj:システム名/ic:表記 ?target ;\n",
    "        hj:更新日時/ic:標準型日時 ?i .\n",
    "} LIMIT 10"
   ]
  }
 ],
 "metadata": {
  "kernelspec": {
   "display_name": "SPARQL",
   "language": "",
   "name": "sparql"
  },
  "language_info": {
   "codemirror_mode": {
    "name": "sparql"
   },
   "mimetype": "application/sparql-query",
   "name": "sparql",
   "pygments_lexer": "sparql-nb"
  }
 },
 "nbformat": 4,
 "nbformat_minor": 1
}
