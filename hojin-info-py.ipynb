{
 "cells": [
  {
   "cell_type": "code",
   "execution_count": 9,
   "metadata": {
    "collapsed": false
   },
   "outputs": [
    {
     "name": "stdout",
     "output_type": "stream",
     "text": [
      "10000\n"
     ]
    }
   ],
   "source": [
    "from SPARQLWrapper import SPARQLWrapper , JSON\n",
    "\n",
    "sparql = SPARQLWrapper('http://api.hojin-info.go.jp/sparql')\n",
    "\n",
    "def get_hojin_info():\n",
    "    sparql.setQuery(\"\"\"\n",
    "            PREFIX hj: <http://hojin-info.go.jp/ns/domain/biz/1#> \n",
    "            PREFIX ic: <http://imi.go.jp/ns/core/rdf#>\n",
    "            SELECT ?v ?name FROM <http://hojin-info.go.jp/graph/hojin>\n",
    "            WHERE {\n",
    "                ?d hj:法人基本情報 ?db.\n",
    "                ?db ic:ID/ic:識別値 ?v ;\n",
    "                   ic:名称/ic:表記 ?name .\n",
    "            }\n",
    "    \"\"\" )\n",
    "    sparql.setReturnFormat(JSON)\n",
    "    res = sparql.query().convert()\n",
    "    item = res['results']['bindings']\n",
    "    print(len(item))\n",
    "    \n",
    "# 最大長を取得してみる\n",
    "get_hojin_info()"
   ]
  }
 ],
 "metadata": {
  "anaconda-cloud": {},
  "kernelspec": {
   "display_name": "Python [default]",
   "language": "python",
   "name": "python3"
  },
  "language_info": {
   "codemirror_mode": {
    "name": "ipython",
    "version": 3
   },
   "file_extension": ".py",
   "mimetype": "text/x-python",
   "name": "python",
   "nbconvert_exporter": "python",
   "pygments_lexer": "ipython3",
   "version": "3.5.2"
  }
 },
 "nbformat": 4,
 "nbformat_minor": 1
}
